{
 "cells": [
  {
   "cell_type": "code",
   "execution_count": 14,
   "metadata": {},
   "outputs": [],
   "source": [
    "from logpy import run, fact, eq, Relation, var"
   ]
  },
  {
   "cell_type": "code",
   "execution_count": 15,
   "metadata": {},
   "outputs": [],
   "source": [
    "adjacent = Relation()\n",
    "coastal = Relation()"
   ]
  },
  {
   "cell_type": "code",
   "execution_count": 16,
   "metadata": {},
   "outputs": [],
   "source": [
    "file_coastal = '../aiwp-data/coastal_states.txt'\n",
    "file_adjacent = '../aiwp-data/adjacent_states.txt'"
   ]
  },
  {
   "cell_type": "code",
   "execution_count": 17,
   "metadata": {},
   "outputs": [
    {
     "data": {
      "text/plain": [
       "['Washington',\n",
       " 'Oregon',\n",
       " 'California',\n",
       " 'Texas',\n",
       " 'Louisiana',\n",
       " 'Michigan',\n",
       " 'Alabama',\n",
       " 'Georgia',\n",
       " 'Florida',\n",
       " 'South Carolina',\n",
       " 'North Carolina',\n",
       " 'Virgin Islands',\n",
       " 'Maryland',\n",
       " 'Delaware',\n",
       " 'New Jersey',\n",
       " 'New York',\n",
       " 'Connecticut',\n",
       " 'Rhode Island',\n",
       " 'Massachusetts',\n",
       " 'Minnesota',\n",
       " 'New Hampshire']"
      ]
     },
     "execution_count": 17,
     "metadata": {},
     "output_type": "execute_result"
    }
   ],
   "source": [
    "# Read the file containing the coastal states\n",
    "with open(file_coastal, 'r') as f:\n",
    "    line = f.read()\n",
    "    coastal_states = line.split(',')\n",
    "coastal_states"
   ]
  },
  {
   "cell_type": "code",
   "execution_count": 18,
   "metadata": {},
   "outputs": [],
   "source": [
    "# Add the info to the fact base\n",
    "for state in coastal_states:\n",
    "    fact(coastal, state)\n"
   ]
  },
  {
   "cell_type": "code",
   "execution_count": 19,
   "metadata": {},
   "outputs": [],
   "source": [
    "# Read the file containing the coastal states\n",
    "with open(file_adjacent, 'r') as f:\n",
    "    adjlist = [line.strip().split(',') for line in f if line and line[0].isalpha()]\n",
    "\n",
    "# Add the info to the fact base\n",
    "for L in adjlist:\n",
    "    head, tail = L[0], L[1:]\n",
    "    for state in tail:\n",
    "        fact(adjacent, head, state)"
   ]
  },
  {
   "cell_type": "code",
   "execution_count": 20,
   "metadata": {},
   "outputs": [],
   "source": [
    "# Initialize the variables\n",
    "x = var()\n",
    "y = var()"
   ]
  },
  {
   "cell_type": "code",
   "execution_count": 21,
   "metadata": {},
   "outputs": [
    {
     "name": "stdout",
     "output_type": "stream",
     "text": [
      "Is Nevada adjacent to Louisiana?:\n",
      "No\n"
     ]
    }
   ],
   "source": [
    "# Is Nevada adjacent to Louisiana?\n",
    "output = run(0, x, adjacent('Nevada', 'Louisiana'))\n",
    "print('Is Nevada adjacent to Louisiana?:')\n",
    "print('Yes' if len(output) else 'No')"
   ]
  },
  {
   "cell_type": "code",
   "execution_count": 22,
   "metadata": {},
   "outputs": [
    {
     "name": "stdout",
     "output_type": "stream",
     "text": [
      "List of states adjacent to Oregon:\n",
      "California\n",
      "Nevada\n",
      "Washington\n",
      "Idaho\n"
     ]
    }
   ],
   "source": [
    "# States adjacent to Oregon\n",
    "output = run(0, x, adjacent('Oregon', x))\n",
    "print('List of states adjacent to Oregon:')\n",
    "for item in output:\n",
    "    print(item)"
   ]
  },
  {
   "cell_type": "code",
   "execution_count": 23,
   "metadata": {},
   "outputs": [
    {
     "name": "stdout",
     "output_type": "stream",
     "text": [
      "List of coastal states adjacent to Mississippi:\n",
      "Alabama\n",
      "Louisiana\n"
     ]
    }
   ],
   "source": [
    "# States adjacent to Mississippi that are coastal\n",
    "output = run(0, x, adjacent('Mississippi', x), coastal(x))\n",
    "print('List of coastal states adjacent to Mississippi:')\n",
    "for item in output:\n",
    "    print(item)"
   ]
  },
  {
   "cell_type": "code",
   "execution_count": 26,
   "metadata": {},
   "outputs": [
    {
     "name": "stdout",
     "output_type": "stream",
     "text": [
      "List of 13 states that border a coastal state:\n",
      "Iowa\n",
      "Pennsylvania\n",
      "Delaware\n",
      "Nevada\n",
      "Massachusetts\n",
      "Vermont\n",
      "Georgia\n",
      "Connecticut\n",
      "Virginia\n",
      "New Hampshire\n",
      "Wisconsin\n",
      "New Jersey\n",
      "Louisiana\n"
     ]
    }
   ],
   "source": [
    "# List of 'n' states that border a coastal state\n",
    "n = 13\n",
    "output = run(n, x, coastal(y), adjacent(x, y))\n",
    "print('List of ' + str(n) + ' states that border a coastal state:')\n",
    "for item in output:\n",
    "    print(item)"
   ]
  },
  {
   "cell_type": "code",
   "execution_count": 27,
   "metadata": {},
   "outputs": [
    {
     "name": "stdout",
     "output_type": "stream",
     "text": [
      "List of states that are adjacent to Arkansas and Kentucky:\n",
      "Tennessee\n",
      "Missouri\n"
     ]
    }
   ],
   "source": [
    "# List of states that adjacent to the two given states\n",
    "output = run(0, x, adjacent('Arkansas', x), adjacent('Kentucky', x))\n",
    "print('List of states that are adjacent to Arkansas and Kentucky:')\n",
    "for item in output:\n",
    "    print(item)"
   ]
  }
 ],
 "metadata": {
  "kernelspec": {
   "display_name": "data-science-k2Ak_Bao",
   "language": "python",
   "name": "python3"
  },
  "language_info": {
   "codemirror_mode": {
    "name": "ipython",
    "version": 3
   },
   "file_extension": ".py",
   "mimetype": "text/x-python",
   "name": "python",
   "nbconvert_exporter": "python",
   "pygments_lexer": "ipython3",
   "version": "3.7.17"
  },
  "orig_nbformat": 4
 },
 "nbformat": 4,
 "nbformat_minor": 2
}
