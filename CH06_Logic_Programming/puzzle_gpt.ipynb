{
 "cells": [
  {
   "cell_type": "code",
   "execution_count": 16,
   "metadata": {},
   "outputs": [],
   "source": [
    "from logpy import Relation, facts, run, eq, var, conde"
   ]
  },
  {
   "cell_type": "code",
   "execution_count": 17,
   "metadata": {},
   "outputs": [
    {
     "name": "stdout",
     "output_type": "stream",
     "text": [
      "Who has a rabbit?\n"
     ]
    },
    {
     "ename": "IndexError",
     "evalue": "tuple index out of range",
     "output_type": "error",
     "traceback": [
      "\u001b[0;31m---------------------------------------------------------------------------\u001b[0m",
      "\u001b[0;31mIndexError\u001b[0m                                Traceback (most recent call last)",
      "\u001b[0;32m/tmp/ipykernel_48215/1015442911.py\u001b[0m in \u001b[0;36m<module>\u001b[0;34m\u001b[0m\n\u001b[1;32m     10\u001b[0m \u001b[0mrabbit_owner\u001b[0m \u001b[0;34m=\u001b[0m \u001b[0mrun\u001b[0m\u001b[0;34m(\u001b[0m\u001b[0;36m0\u001b[0m\u001b[0;34m,\u001b[0m \u001b[0mx\u001b[0m\u001b[0;34m,\u001b[0m \u001b[0mconde\u001b[0m\u001b[0;34m(\u001b[0m\u001b[0;34m[\u001b[0m\u001b[0mowns\u001b[0m\u001b[0;34m(\u001b[0m\u001b[0mx\u001b[0m\u001b[0;34m,\u001b[0m \u001b[0;34m\"rabbit\"\u001b[0m\u001b[0;34m)\u001b[0m\u001b[0;34m]\u001b[0m\u001b[0;34m,\u001b[0m \u001b[0;34m[\u001b[0m\u001b[0mlives_in\u001b[0m\u001b[0;34m(\u001b[0m\u001b[0;34m\"person who owns cat\"\u001b[0m\u001b[0;34m,\u001b[0m \u001b[0mx\u001b[0m\u001b[0;34m)\u001b[0m\u001b[0;34m]\u001b[0m\u001b[0;34m)\u001b[0m\u001b[0;34m)\u001b[0m\u001b[0;34m\u001b[0m\u001b[0;34m\u001b[0m\u001b[0m\n\u001b[1;32m     11\u001b[0m \u001b[0mprint\u001b[0m\u001b[0;34m(\u001b[0m\u001b[0;34m\"Who has a rabbit?\"\u001b[0m\u001b[0;34m)\u001b[0m\u001b[0;34m\u001b[0m\u001b[0;34m\u001b[0m\u001b[0m\n\u001b[0;32m---> 12\u001b[0;31m \u001b[0mprint\u001b[0m\u001b[0;34m(\u001b[0m\u001b[0mrabbit_owner\u001b[0m\u001b[0;34m[\u001b[0m\u001b[0;36m0\u001b[0m\u001b[0;34m]\u001b[0m\u001b[0;34m)\u001b[0m\u001b[0;34m\u001b[0m\u001b[0;34m\u001b[0m\u001b[0m\n\u001b[0m",
      "\u001b[0;31mIndexError\u001b[0m: tuple index out of range"
     ]
    }
   ],
   "source": [
    "# Define relations for the puzzle\n",
    "owns = Relation()\n",
    "lives_in = Relation()\n",
    "# Define puzzle facts\n",
    "facts(owns, (\"Steve\", \"blue car\"), (\"Jack\", \"cat\"), (\"person who owns cat\", \"Canada\"))\n",
    "facts(lives_in, (\"Matthew\", \"USA\"), (\"person with black car\", \"Australia\"), (\"Alfred\", \"Australia\"), (\"person with dog\", \"France\"))\n",
    "# Create logic variables for the puzzle\n",
    "x = var()\n",
    "# Query to find who has a rabbit\n",
    "rabbit_owner = run(0, x, conde([owns(x, \"rabbit\")], [lives_in(\"person who owns cat\", x)]))\n",
    "print(\"Who has a rabbit?\")\n",
    "print(rabbit_owner[0])"
   ]
  },
  {
   "cell_type": "code",
   "execution_count": 18,
   "metadata": {},
   "outputs": [
    {
     "name": "stdout",
     "output_type": "stream",
     "text": [
      "Who has a cat and lives in Canada?\n",
      "Jack\n",
      "\n",
      "Who has a rabbit?\n",
      "Canada\n"
     ]
    }
   ],
   "source": [
    "from logpy import Relation, facts, run, eq, var\n",
    "\n",
    "# Define relations for the puzzle\n",
    "owns = Relation()\n",
    "lives_in = Relation()\n",
    "\n",
    "# Define puzzle facts\n",
    "facts(owns, (\"Steve\", \"blue car\"), (\"Jack\", \"cat\"))\n",
    "facts(lives_in, (\"person who owns cat\", \"Canada\"), (\"Matthew\", \"USA\"), (\"person with black car\", \"Australia\"))\n",
    "\n",
    "# Create logic variables for the puzzle\n",
    "x = var()\n",
    "\n",
    "# Query to find who has a cat and lives in Canada\n",
    "cat_owner = run(0, x, conde([owns(x, \"cat\")], [lives_in(x, \"Canada\")]))\n",
    "rabbit_owner = run(0, x, conde([owns(x, \"rabbit\")], [lives_in(\"person who owns cat\", x)]))\n",
    "\n",
    "print(\"Who has a cat and lives in Canada?\")\n",
    "print(cat_owner[0] if cat_owner else \"No one\")\n",
    "\n",
    "print(\"\\nWho has a rabbit?\")\n",
    "print(rabbit_owner[0] if rabbit_owner else \"No one\")\n"
   ]
  },
  {
   "cell_type": "code",
   "execution_count": 19,
   "metadata": {},
   "outputs": [
    {
     "name": "stdout",
     "output_type": "stream",
     "text": [
      "Who has a rabbit?\n",
      "Canada\n"
     ]
    }
   ],
   "source": [
    "from logpy import Relation, facts, run, var, conde\n",
    "\n",
    "# Define relations for the puzzle\n",
    "owns = Relation()\n",
    "lives_in = Relation()\n",
    "\n",
    "# Define puzzle facts\n",
    "facts(owns, (\"Steve\", \"blue car\"), (\"Jack\", \"cat\"))\n",
    "facts(lives_in, (\"person who owns cat\", \"Canada\"), (\"Matthew\", \"USA\"), (\"person with black car\", \"Australia\"))\n",
    "\n",
    "# Create logic variables for the puzzle\n",
    "x = var()\n",
    "\n",
    "# Query to find who has a rabbit\n",
    "rabbit_owner = run(0, x, conde([owns(x, \"rabbit\")], [lives_in(\"person who owns cat\", x)]))\n",
    "\n",
    "print(\"Who has a rabbit?\")\n",
    "print(rabbit_owner[0] if rabbit_owner else \"No one\")\n"
   ]
  }
 ],
 "metadata": {
  "kernelspec": {
   "display_name": "deep-learning-with-pytorch-So43IQBZ",
   "language": "python",
   "name": "python3"
  },
  "language_info": {
   "codemirror_mode": {
    "name": "ipython",
    "version": 3
   },
   "file_extension": ".py",
   "mimetype": "text/x-python",
   "name": "python",
   "nbconvert_exporter": "python",
   "pygments_lexer": "ipython3",
   "version": "3.7.17"
  },
  "orig_nbformat": 4
 },
 "nbformat": 4,
 "nbformat_minor": 2
}
