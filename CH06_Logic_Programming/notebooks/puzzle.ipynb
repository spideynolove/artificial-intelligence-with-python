{
 "cells": [
  {
   "cell_type": "code",
   "execution_count": 7,
   "metadata": {},
   "outputs": [],
   "source": [
    "from logpy import *\n",
    "from logpy.core import lall"
   ]
  },
  {
   "cell_type": "code",
   "execution_count": 8,
   "metadata": {},
   "outputs": [],
   "source": [
    "# Declare the variable\n",
    "people = var()"
   ]
  },
  {
   "cell_type": "code",
   "execution_count": 9,
   "metadata": {},
   "outputs": [],
   "source": [
    "# Define the rules\n",
    "rules = lall(\n",
    "    # There are 4 people\n",
    "    (eq, (var(), var(), var(), var()), people),\n",
    "\n",
    "    # Steve's car is blue\n",
    "    (membero, ('Steve', var(), 'blue', var()), people),\n",
    "\n",
    "    # Person who owns the cat lives in Canada \n",
    "    (membero, (var(), 'cat', var(), 'Canada'), people),\n",
    "\n",
    "    # Matthew lives in USA\n",
    "    (membero, ('Matthew', var(), var(), 'USA'), people),\n",
    "\n",
    "    # The person who has a black car lives in Australia\n",
    "    (membero, (var(), var(), 'black', 'Australia'), people),\n",
    "\n",
    "    # Jack has a cat\n",
    "    (membero, ('Jack', 'cat', var(), var()), people),\n",
    "\n",
    "    # Alfred lives in Australia\n",
    "    (membero, ('Alfred', var(), var(), 'Australia'), people),\n",
    "\n",
    "    # Person who owns the dog lives in France \n",
    "    (membero, (var(), 'dog', var(), 'France'), people),\n",
    "\n",
    "    # Who is the owner of the rabbit? \n",
    "    (membero, (var(), 'rabbit', var(), var()), people)\n",
    ")"
   ]
  },
  {
   "cell_type": "code",
   "execution_count": 10,
   "metadata": {},
   "outputs": [],
   "source": [
    "# Run the solver\n",
    "solutions = run(0, people, rules)"
   ]
  },
  {
   "cell_type": "code",
   "execution_count": 11,
   "metadata": {},
   "outputs": [],
   "source": [
    "# Extract the output\n",
    "output = [house for house in solutions[0] if 'rabbit' in house][0][0]"
   ]
  },
  {
   "cell_type": "code",
   "execution_count": 12,
   "metadata": {},
   "outputs": [
    {
     "name": "stdout",
     "output_type": "stream",
     "text": [
      "Matthew is the owner of the rabbit\n",
      "Here are all the details:\n",
      "Name\t\tPet\t\tColor\t\tCountry\n",
      "=========================================================\n",
      "\n",
      "Steve\t\tdog\t\tblue\t\tFrance\n",
      "\n",
      "Jack\t\tcat\t\t~_31\t\tCanada\n",
      "\n",
      "Matthew\t\trabbit\t\t~_33\t\tUSA\n",
      "\n",
      "Alfred\t\t~_35\t\tblack\t\tAustralia\n"
     ]
    }
   ],
   "source": [
    "# Print the output\n",
    "print(output + ' is the owner of the rabbit')\n",
    "print('Here are all the details:')\n",
    "attribs = ['Name', 'Pet', 'Color', 'Country']\n",
    "print('\\t\\t'.join(attribs))\n",
    "print('=' * 57)\n",
    "for item in solutions[0]:\n",
    "    print('')\n",
    "    print('\\t\\t'.join([str(x) for x in item]))"
   ]
  }
 ],
 "metadata": {
  "kernelspec": {
   "display_name": "deep-learning-with-pytorch-So43IQBZ",
   "language": "python",
   "name": "python3"
  },
  "language_info": {
   "codemirror_mode": {
    "name": "ipython",
    "version": 3
   },
   "file_extension": ".py",
   "mimetype": "text/x-python",
   "name": "python",
   "nbconvert_exporter": "python",
   "pygments_lexer": "ipython3",
   "version": "3.7.17"
  },
  "orig_nbformat": 4
 },
 "nbformat": 4,
 "nbformat_minor": 2
}
