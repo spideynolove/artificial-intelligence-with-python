{
 "cells": [
  {
   "cell_type": "code",
   "execution_count": 18,
   "metadata": {},
   "outputs": [],
   "source": [
    "import csv\n",
    "import numpy as np\n",
    "import matplotlib.pyplot as plt\n",
    "from sklearn.cluster import MeanShift, estimate_bandwidth"
   ]
  },
  {
   "cell_type": "code",
   "execution_count": 19,
   "metadata": {},
   "outputs": [
    {
     "data": {
      "text/plain": [
       "(440, 6)"
      ]
     },
     "execution_count": 19,
     "metadata": {},
     "output_type": "execute_result"
    }
   ],
   "source": [
    "# Load data from input file\n",
    "input_file = '../aiwp-data/sales.csv'\n",
    "file_reader = csv.reader(open(input_file, 'r'), delimiter=',')\n",
    "X = []\n",
    "for count, row in enumerate(file_reader):\n",
    "    if not count:\n",
    "        names = row[1:]\n",
    "        continue\n",
    "\n",
    "    X.append([float(x) for x in row[1:]])\n",
    "\n",
    "# Convert to numpy array\n",
    "X = np.array(X)\n",
    "X.shape"
   ]
  },
  {
   "cell_type": "code",
   "execution_count": 20,
   "metadata": {},
   "outputs": [
    {
     "data": {
      "text/html": [
       "<style>#sk-container-id-2 {color: black;}#sk-container-id-2 pre{padding: 0;}#sk-container-id-2 div.sk-toggleable {background-color: white;}#sk-container-id-2 label.sk-toggleable__label {cursor: pointer;display: block;width: 100%;margin-bottom: 0;padding: 0.3em;box-sizing: border-box;text-align: center;}#sk-container-id-2 label.sk-toggleable__label-arrow:before {content: \"▸\";float: left;margin-right: 0.25em;color: #696969;}#sk-container-id-2 label.sk-toggleable__label-arrow:hover:before {color: black;}#sk-container-id-2 div.sk-estimator:hover label.sk-toggleable__label-arrow:before {color: black;}#sk-container-id-2 div.sk-toggleable__content {max-height: 0;max-width: 0;overflow: hidden;text-align: left;background-color: #f0f8ff;}#sk-container-id-2 div.sk-toggleable__content pre {margin: 0.2em;color: black;border-radius: 0.25em;background-color: #f0f8ff;}#sk-container-id-2 input.sk-toggleable__control:checked~div.sk-toggleable__content {max-height: 200px;max-width: 100%;overflow: auto;}#sk-container-id-2 input.sk-toggleable__control:checked~label.sk-toggleable__label-arrow:before {content: \"▾\";}#sk-container-id-2 div.sk-estimator input.sk-toggleable__control:checked~label.sk-toggleable__label {background-color: #d4ebff;}#sk-container-id-2 div.sk-label input.sk-toggleable__control:checked~label.sk-toggleable__label {background-color: #d4ebff;}#sk-container-id-2 input.sk-hidden--visually {border: 0;clip: rect(1px 1px 1px 1px);clip: rect(1px, 1px, 1px, 1px);height: 1px;margin: -1px;overflow: hidden;padding: 0;position: absolute;width: 1px;}#sk-container-id-2 div.sk-estimator {font-family: monospace;background-color: #f0f8ff;border: 1px dotted black;border-radius: 0.25em;box-sizing: border-box;margin-bottom: 0.5em;}#sk-container-id-2 div.sk-estimator:hover {background-color: #d4ebff;}#sk-container-id-2 div.sk-parallel-item::after {content: \"\";width: 100%;border-bottom: 1px solid gray;flex-grow: 1;}#sk-container-id-2 div.sk-label:hover label.sk-toggleable__label {background-color: #d4ebff;}#sk-container-id-2 div.sk-serial::before {content: \"\";position: absolute;border-left: 1px solid gray;box-sizing: border-box;top: 0;bottom: 0;left: 50%;z-index: 0;}#sk-container-id-2 div.sk-serial {display: flex;flex-direction: column;align-items: center;background-color: white;padding-right: 0.2em;padding-left: 0.2em;position: relative;}#sk-container-id-2 div.sk-item {position: relative;z-index: 1;}#sk-container-id-2 div.sk-parallel {display: flex;align-items: stretch;justify-content: center;background-color: white;position: relative;}#sk-container-id-2 div.sk-item::before, #sk-container-id-2 div.sk-parallel-item::before {content: \"\";position: absolute;border-left: 1px solid gray;box-sizing: border-box;top: 0;bottom: 0;left: 50%;z-index: -1;}#sk-container-id-2 div.sk-parallel-item {display: flex;flex-direction: column;z-index: 1;position: relative;background-color: white;}#sk-container-id-2 div.sk-parallel-item:first-child::after {align-self: flex-end;width: 50%;}#sk-container-id-2 div.sk-parallel-item:last-child::after {align-self: flex-start;width: 50%;}#sk-container-id-2 div.sk-parallel-item:only-child::after {width: 0;}#sk-container-id-2 div.sk-dashed-wrapped {border: 1px dashed gray;margin: 0 0.4em 0.5em 0.4em;box-sizing: border-box;padding-bottom: 0.4em;background-color: white;}#sk-container-id-2 div.sk-label label {font-family: monospace;font-weight: bold;display: inline-block;line-height: 1.2em;}#sk-container-id-2 div.sk-label-container {text-align: center;}#sk-container-id-2 div.sk-container {/* jupyter's `normalize.less` sets `[hidden] { display: none; }` but bootstrap.min.css set `[hidden] { display: none !important; }` so we also need the `!important` here to be able to override the default hidden behavior on the sphinx rendered scikit-learn.org. See: https://github.com/scikit-learn/scikit-learn/issues/21755 */display: inline-block !important;position: relative;}#sk-container-id-2 div.sk-text-repr-fallback {display: none;}</style><div id=\"sk-container-id-2\" class=\"sk-top-container\"><div class=\"sk-text-repr-fallback\"><pre>MeanShift(bandwidth=26006.389359024277, bin_seeding=True)</pre><b>In a Jupyter environment, please rerun this cell to show the HTML representation or trust the notebook. <br />On GitHub, the HTML representation is unable to render, please try loading this page with nbviewer.org.</b></div><div class=\"sk-container\" hidden><div class=\"sk-item\"><div class=\"sk-estimator sk-toggleable\"><input class=\"sk-toggleable__control sk-hidden--visually\" id=\"sk-estimator-id-2\" type=\"checkbox\" checked><label for=\"sk-estimator-id-2\" class=\"sk-toggleable__label sk-toggleable__label-arrow\">MeanShift</label><div class=\"sk-toggleable__content\"><pre>MeanShift(bandwidth=26006.389359024277, bin_seeding=True)</pre></div></div></div></div></div>"
      ],
      "text/plain": [
       "MeanShift(bandwidth=26006.389359024277, bin_seeding=True)"
      ]
     },
     "execution_count": 20,
     "metadata": {},
     "output_type": "execute_result"
    }
   ],
   "source": [
    "# Estimating the bandwidth of input data\n",
    "bandwidth = estimate_bandwidth(X, quantile=0.8, n_samples=len(X))\n",
    "\n",
    "# Compute clustering with MeanShift\n",
    "meanshift_model = MeanShift(bandwidth=bandwidth, bin_seeding=True)\n",
    "meanshift_model.fit(X)\n",
    "meanshift_model"
   ]
  },
  {
   "cell_type": "code",
   "execution_count": 21,
   "metadata": {},
   "outputs": [],
   "source": [
    "labels = meanshift_model.labels_\n",
    "# labels"
   ]
  },
  {
   "cell_type": "code",
   "execution_count": 22,
   "metadata": {},
   "outputs": [],
   "source": [
    "cluster_centers = meanshift_model.cluster_centers_\n",
    "# cluster_centers"
   ]
  },
  {
   "cell_type": "code",
   "execution_count": 23,
   "metadata": {},
   "outputs": [
    {
     "name": "stdout",
     "output_type": "stream",
     "text": [
      "\n",
      "Number of clusters in input data = 9\n",
      "\n",
      "Centers of clusters:\n",
      "Tsh\tTan\tHal\tTur\tTub\tSwe\n",
      "9823\t4637\t6539\t2607\t2228\t1239\n",
      "38589\t44199\t56158\t5030\t24674\t4125\n",
      "104972\t29186\t19415\t16016\t5060\t9372\n",
      "38741\t40539\t20120\t35059\t255\t50710\n",
      "35314\t16745\t12775\t66900\t1298\t5613\n",
      "28333\t34263\t24065\t5575\t4229\t18076\n",
      "22617\t77873\t32543\t1005\t21035\t837\n",
      "14987\t46397\t97393\t1127\t37315\t3235\n",
      "7852\t4939\t63081\t134\t40066\t1332\n"
     ]
    }
   ],
   "source": [
    "num_clusters = len(np.unique(labels))\n",
    "\n",
    "print(\"Number of clusters in input data =\", num_clusters)\n",
    "\n",
    "print(\"Centers of clusters:\")\n",
    "print('\\t'.join([name[:3] for name in names]))\n",
    "for cluster_center in cluster_centers:\n",
    "    print('\\t'.join([str(int(x)) for x in cluster_center]))"
   ]
  },
  {
   "cell_type": "code",
   "execution_count": 24,
   "metadata": {},
   "outputs": [
    {
     "data": {
      "text/plain": [
       "array([[  9823.60253165,   4637.99746835,   6539.08607595,\n",
       "          2607.37974684,   2228.46835443,   1239.86075949],\n",
       "       [ 38589.5       ,  44199.        ,  56158.5       ,\n",
       "          5030.5       ,  24674.        ,   4125.5       ],\n",
       "       [104972.        ,  29186.        ,  19415.        ,\n",
       "         16016.        ,   5060.        ,   9372.        ],\n",
       "       [ 38741.        ,  40539.        ,  20120.        ,\n",
       "         35059.        ,    255.        ,  50710.        ],\n",
       "       [ 35314.        ,  16745.        ,  12775.        ,\n",
       "         66900.        ,   1298.        ,   5613.        ],\n",
       "       [ 28333.        ,  34263.        ,  24065.        ,\n",
       "          5575.        ,   4229.        ,  18076.        ],\n",
       "       [ 22617.        ,  77873.        ,  32543.        ,\n",
       "          1005.        ,  21035.        ,    837.        ],\n",
       "       [ 14987.        ,  46397.        ,  97393.        ,\n",
       "          1127.        ,  37315.        ,   3235.        ],\n",
       "       [  7852.        ,   4939.        ,  63081.        ,\n",
       "           134.        ,  40066.        ,   1332.        ]])"
      ]
     },
     "execution_count": 24,
     "metadata": {},
     "output_type": "execute_result"
    }
   ],
   "source": [
    "cluster_centers"
   ]
  },
  {
   "cell_type": "code",
   "execution_count": 25,
   "metadata": {},
   "outputs": [
    {
     "data": {
      "text/plain": [
       "array([[ 4637.99746835,  6539.08607595],\n",
       "       [44199.        , 56158.5       ],\n",
       "       [29186.        , 19415.        ],\n",
       "       [40539.        , 20120.        ],\n",
       "       [16745.        , 12775.        ],\n",
       "       [34263.        , 24065.        ],\n",
       "       [77873.        , 32543.        ],\n",
       "       [46397.        , 97393.        ],\n",
       "       [ 4939.        , 63081.        ]])"
      ]
     },
     "execution_count": 25,
     "metadata": {},
     "output_type": "execute_result"
    }
   ],
   "source": [
    "# Extract two features for visualization \n",
    "cluster_centers_2d = cluster_centers[:, 1:3]\n",
    "cluster_centers_2d"
   ]
  },
  {
   "cell_type": "code",
   "execution_count": 26,
   "metadata": {},
   "outputs": [
    {
     "data": {
      "text/plain": [
       "array([ 4637.99746835, 44199.        , 29186.        , 40539.        ,\n",
       "       16745.        , 34263.        , 77873.        , 46397.        ,\n",
       "        4939.        ])"
      ]
     },
     "execution_count": 26,
     "metadata": {},
     "output_type": "execute_result"
    }
   ],
   "source": [
    "cluster_centers_2d[:,0]"
   ]
  },
  {
   "cell_type": "code",
   "execution_count": 27,
   "metadata": {},
   "outputs": [
    {
     "data": {
      "text/plain": [
       "array([ 6539.08607595, 56158.5       , 19415.        , 20120.        ,\n",
       "       12775.        , 24065.        , 32543.        , 97393.        ,\n",
       "       63081.        ])"
      ]
     },
     "execution_count": 27,
     "metadata": {},
     "output_type": "execute_result"
    }
   ],
   "source": [
    "cluster_centers_2d[:,1]"
   ]
  },
  {
   "cell_type": "code",
   "execution_count": 28,
   "metadata": {},
   "outputs": [
    {
     "data": {
      "image/png": "[encoded data removed]",
      "text/plain": [
       "<Figure size 640x480 with 1 Axes>"
      ]
     },
     "metadata": {},
     "output_type": "display_data"
    }
   ],
   "source": [
    "# Plot the cluster centers \n",
    "plt.figure()\n",
    "plt.scatter(cluster_centers_2d[:,0], cluster_centers_2d[:,1], \n",
    "        s=120, edgecolors='black', facecolors='none')\n",
    "\n",
    "offset = 0.25\n",
    "plt.xlim(cluster_centers_2d[:,0].min() - offset * cluster_centers_2d[:,0].ptp(),\n",
    "        cluster_centers_2d[:,0].max() + offset * cluster_centers_2d[:,0].ptp(),)\n",
    "plt.ylim(cluster_centers_2d[:,1].min() - offset * cluster_centers_2d[:,1].ptp(),\n",
    "        cluster_centers_2d[:,1].max() + offset * cluster_centers_2d[:,1].ptp())\n",
    "\n",
    "plt.title('Centers of 2D clusters')\n",
    "plt.show()"
   ]
  }
 ],
 "metadata": {
  "kernelspec": {
   "display_name": "data-science-k2Ak_Bao",
   "language": "python",
   "name": "python3"
  },
  "language_info": {
   "codemirror_mode": {
    "name": "ipython",
    "version": 3
   },
   "file_extension": ".py",
   "mimetype": "text/x-python",
   "name": "python",
   "nbconvert_exporter": "python",
   "pygments_lexer": "ipython3",
   "version": "3.11.4"
  },
  "orig_nbformat": 4
 },
 "nbformat": 4,
 "nbformat_minor": 2
}
