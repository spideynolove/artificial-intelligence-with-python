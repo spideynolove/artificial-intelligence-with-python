{
  "cells": [
    {
      "cell_type": "markdown",
      "id": "35fb20c8-45f9-4e72-8194-3175f13cc475",
      "metadata": {
        "id": "35fb20c8-45f9-4e72-8194-3175f13cc475"
      },
      "source": [
        "## Basic Prompting\n",
        "\n",
        "Prompts are the basic way to interact and interface with an LLM. Think of them as ways to ask, instruct, fashion, or nudge an LLM to respond or behave. According to Elvis Saravia's [prompt engineering guide](https://www.promptingguide.ai/introduction/elements), a prompt can contain many elements:\n",
        "\n",
        "**Instruction**: describe a specific task you want a model to perform\n",
        "\n",
        "**Context**: additional information or context that can guide's a model's response\n",
        "\n",
        "**Input Data**: expressed as input or question for a model to respond to\n",
        "\n",
        "**Output Format**: the type or format of the output, for example, JSON, how many lines or paragraph\n",
        "Prompts are associated with roles, and roles inform an LLM who is interacting with it and what the interactive behvior ought to be. For example, a *system* prompt instructs an LLM to assume a role of an Assistant or Teacher. A user takes a role of providing any of the above prompt elements in the prompt for the LLM to use to respond. In the example below, we have interact with an LLM via two roles: `system` and `user`.\n",
        "\n",
        "Prompt engineering is an art. That is, to obtain the best response, your prompt has to be precise, simple, and specific. The more succinct and precise the better the response.\n",
        "\n",
        "In her prompt [engineering blog](https://towardsdatascience.com/how-i-won-singapores-gpt-4-prompt-engineering-competition-34c195a93d41) that won the Singpore's GPT-4 prompt engineering competition, Sheila Teo offers practial\n",
        "strategy and worthy insights into how to obtain the best results from LLM by using the CO-STAR framework.\n",
        "\n",
        "<img src=\"https://github.com/dmatrix/genai-cookbook/blob/main/llm-prompts/images/co-star-framework.png?raw=1\" height=\"35%\" width=\"%65\">\n",
        "\n",
        "\n",
        "**(C): Context: Provide background and information on the task**\n",
        "\n",
        "**(O): Objective: Define the task that you want the LLM to perform**\n",
        "\n",
        "**(S): Style: Specify the writing style you want the LLM to use**\n",
        "\n",
        "**(T): Set the attidue of the response**\n",
        "\n",
        "**(A): Audience: Idenfiy who the response is for**\n",
        "\n",
        "**(R): Provide the response format**\n",
        "\n",
        "Try first with simple examples, asking for simple task and responses, and then proceed into constructing prompts that lead to solving or responding to complex reasoning, constructiong your\n",
        "prompts using the **CO-STAR** framework.\n",
        "\n",
        "The examples below illustrate simple prompting: asking questions and fashioning the response.\n",
        "\n",
        "<img src=\"https://github.com/dmatrix/genai-cookbook/blob/main/llm-prompts/images/llm_prompt_req_resp.png?raw=1\" height=\"35%\" width=\"%65\">\n",
        "\n",
        "**Note**:\n",
        "To run any of these relevant notebooks you will need an account on Anyscale Endpoints, Anthropic, or OpenAI, depending on what model you elect, along with the respective environment file. Use the template environment files to create respective `.env` file for either Anyscale Endpoints, Anthropic, or OpenAI."
      ]
    },
    {
      "cell_type": "code",
      "execution_count": null,
      "id": "4a6f7835-5c89-4828-bc46-7236f2bd0a3b",
      "metadata": {
        "id": "4a6f7835-5c89-4828-bc46-7236f2bd0a3b"
      },
      "outputs": [],
      "source": [
        "import warnings\n",
        "import os\n",
        "\n",
        "import openai\n",
        "from openai import OpenAI\n",
        "\n",
        "from dotenv import load_dotenv, find_dotenv"
      ]
    },
    {
      "cell_type": "markdown",
      "id": "ab63dc44-a55b-4395-b749-8719dbb37ed4",
      "metadata": {
        "id": "ab63dc44-a55b-4395-b749-8719dbb37ed4"
      },
      "source": [
        "Load our .env file with respective API keys and base url endpoints. Here you can either use OpenAI or Anyscale Endpoints"
      ]
    },
    {
      "cell_type": "code",
      "execution_count": null,
      "id": "601a9168-7f20-40bc-a7a5-32bb02adbcfc",
      "metadata": {
        "id": "601a9168-7f20-40bc-a7a5-32bb02adbcfc",
        "outputId": "570d14d6-9768-4be4-e18e-ed0cd12af62e"
      },
      "outputs": [
        {
          "name": "stdout",
          "output_type": "stream",
          "text": [
            "Using MODEL=mistralai/Mixtral-8x7B-Instruct-v0.1; base=https://api.endpoints.anyscale.com/v1\n"
          ]
        }
      ],
      "source": [
        "_ = load_dotenv(find_dotenv()) # read local .env file\n",
        "warnings.filterwarnings('ignore')\n",
        "openai.api_base = os.getenv(\"ANYSCALE_API_BASE\", os.getenv(\"OPENAI_API_BASE\"))\n",
        "openai.api_key = os.getenv(\"ANYSCALE_API_KEY\", os.getenv(\"OPENAI_API_KEY\"))\n",
        "MODEL = os.getenv(\"MODEL\")\n",
        "print(f\"Using MODEL={MODEL}; base={openai.api_base}\")"
      ]
    },
    {
      "cell_type": "code",
      "execution_count": null,
      "id": "9335e695-fee7-4984-a1c5-63d2e23b9a4a",
      "metadata": {
        "id": "9335e695-fee7-4984-a1c5-63d2e23b9a4a"
      },
      "outputs": [],
      "source": [
        "# Our system role prompt instructions and how to respond to user content.\n",
        "# form, format, style, etc.\n",
        "system_content = \"\"\"You are the whisper of knowledge, a sage who holds immense knowledge.\n",
        "                  You will be given a {question} about the world's general knowledge: history, science,\n",
        "                  philosphy, economics, literature, sports, etc.\n",
        "                  As a sage, your task is provide your pupil an answer in succinct and simple language,\n",
        "                  with no more that five sentences per paragraph and no more than two paragrahps.\n",
        "                  You will use simple, compound, and compound-complex sentences for all\n",
        "                  your responses. Where appropriate try some humor.\"\"\"\n",
        "\n",
        "# Some questions you might want to ask your LLM\n",
        "user_questions =  [\n",
        "                   \"Who was Benjamin Franklin, and what is he most known for?\",\n",
        "                   \"Who is considered the father of Artificial Intelligence (AI)?\",\n",
        "                   \"What's the best computed value for pi?\",\n",
        "                   \"Why do wires, unattended, tie into knots?\",\n",
        "                   \"Give list of at least three open source distributed computing frameworks, and what they are good for?\"\n",
        "                  ]"
      ]
    },
    {
      "cell_type": "code",
      "execution_count": null,
      "id": "f7ffd4c9-659e-4466-95b9-3f260096508e",
      "metadata": {
        "id": "f7ffd4c9-659e-4466-95b9-3f260096508e"
      },
      "outputs": [],
      "source": [
        "BOLD_BEGIN = \"\\033[1m\"\n",
        "BOLD_END = \"\\033[0m\""
      ]
    },
    {
      "cell_type": "markdown",
      "id": "6a97db19-9059-4e34-b2bf-5649c7b1f127",
      "metadata": {
        "id": "6a97db19-9059-4e34-b2bf-5649c7b1f127"
      },
      "source": [
        "Creat an OpenAI client"
      ]
    },
    {
      "cell_type": "code",
      "execution_count": null,
      "id": "b166dd32-c981-47b0-9184-5aa0aef54360",
      "metadata": {
        "id": "b166dd32-c981-47b0-9184-5aa0aef54360"
      },
      "outputs": [],
      "source": [
        "from openai import OpenAI\n",
        "\n",
        "client = OpenAI(\n",
        "    api_key = openai.api_key,\n",
        "    base_url = openai.api_base\n",
        ")"
      ]
    },
    {
      "cell_type": "code",
      "execution_count": null,
      "id": "215c21eb-b1ba-4270-a2da-cd575a255a9e",
      "metadata": {
        "id": "215c21eb-b1ba-4270-a2da-cd575a255a9e"
      },
      "outputs": [],
      "source": [
        "def get_commpletion(clnt: object, model: str, system_content: str, user_content:str) -> str:\n",
        "    chat_completion = clnt.chat.completions.create(\n",
        "        model=model,\n",
        "    messages=[{\"role\": \"system\", \"content\": system_content},\n",
        "              {\"role\": \"user\", \"content\": user_content}],\n",
        "    temperature = 0.8)\n",
        "\n",
        "    response = chat_completion.choices[0].message.content\n",
        "    return response"
      ]
    },
    {
      "cell_type": "markdown",
      "id": "387976c4-50c0-48c7-af76-d6008a0042e1",
      "metadata": {
        "id": "387976c4-50c0-48c7-af76-d6008a0042e1"
      },
      "source": [
        "To use Anyscale Endpoints, simply copy your `env/env_anyscale_template` to `.env` file in the top directory, and\n",
        "enter your relevant API keys. It should work as a charm!"
      ]
    },
    {
      "cell_type": "markdown",
      "id": "c196d088-0488-42e3-bf5c-d202d490dbe6",
      "metadata": {
        "id": "c196d088-0488-42e3-bf5c-d202d490dbe6"
      },
      "source": [
        "## Simple queries"
      ]
    },
    {
      "cell_type": "code",
      "execution_count": null,
      "id": "9338156f-90ef-4815-b38a-3d4b5224378f",
      "metadata": {
        "id": "9338156f-90ef-4815-b38a-3d4b5224378f",
        "outputId": "65cfbc4f-c4d9-4dcf-e448-a7d9c35b6c87"
      },
      "outputs": [
        {
          "name": "stdout",
          "output_type": "stream",
          "text": [
            "Using Endpoints: https://api.endpoints.anyscale.com/v1 ...\n",
            "\n",
            "\n",
            "\u001b[1mQuestion:\u001b[0m Who was Benjamin Franklin, and what is he most known for?\n",
            "\n",
            "\u001b[1mAnswer:\u001b[0m  Benjamin Franklin was a founding father of the United States, known for his significant contributions in various fields. He was a writer, scientist, inventor, and diplomat, among other pursuits. Franklin is most famously known for his experiments with electricity, which included the invention of the lightning rod. Additionally, he played a crucial role in drafting the United States Constitution and is featured on the hundred-dollar bill. His wit and wisdom are still celebrated through popular maxims such as \"early to bed, early to rise\" and \"a penny saved is a penny earned.\"\n",
            "\n",
            "\u001b[1mQuestion:\u001b[0m Who is considered the father of Artificial Intelligence (AI)?\n",
            "\n",
            "\u001b[1mAnswer:\u001b[0m  The father of Artificial Intelligence (AI) is often considered to be John McCarthy. He coined the term \"Artificial Intelligence\" in 1956 and organized the Dartmouth Conference, which is widely considered the birthplace of the field. McCarthy's work in AI focused on problem-solving and language understanding, and he is also known for developing the Lisp programming language. His contributions to the field have been immense and continue to influence AI research today.\n",
            "\n",
            "\u001b[1mQuestion:\u001b[0m What's the best computed value for pi?\n",
            "\n",
            "\u001b[1mAnswer:\u001b[0m  The best computed value for pi (π), a mathematical constant representing the ratio of a circle's circumference to its diameter, is an irrational number with no exact decimal representation. However, using mathematical algorithms, pi has been calculated to over 50 trillion decimal places. The most widely used value of pi is approximately 3.14159, which is accurate enough for most practical applications. Nevertheless, the pursuit of pi's decimals is a fascinating endeavor for mathematicians and computer scientists, demonstrating the power of computing and human curiosity.\n",
            "\n",
            "\u001b[1mQuestion:\u001b[0m Why do wires, unattended, tie into knots?\n",
            "\n",
            "\u001b[1mAnswer:\u001b[0m  Wires, when left to their own devices, can tie themselves into knots in a phenomenon known as \"spontaneous knotting.\" This occurs due to the thermal motion of the polymer chains that make up the wire's insulation. The flexibility of these chains allows them to move and slide past each other, gradually forming knots over time. This is more likely to happen in longer wires, as they have a greater chance of coming into contact with themselves. It's rather like playing an unsupervised game of twister, only the players are microscopic polymer chains!\n",
            "\n",
            "\u001b[1mQuestion:\u001b[0m Give list of at least three open source distributed computing frameworks, and what they are good for?\n",
            "\n",
            "\u001b[1mAnswer:\u001b[0m  Question: Can you tell me about some open source distributed computing frameworks and what they are good for?\n",
            "\n",
            "Of course! Distributed computing frameworks allow for the efficient use of computing resources across multiple machines. Here are three open source options:\n",
            "\n",
            "1. Apache Hadoop: This framework is great for handling large datasets across a distributed computing cluster. It uses the MapReduce programming model to process and analyze data in parallel.\n",
            "\n",
            "2. Apache Spark: Spark is a fast and general-purpose cluster computing system. It can be used for a variety of tasks, including batch processing, interactive queries, streaming data, and machine learning.\n",
            "\n",
            "3. Apache Flink: Flink is a stream processing framework that can process data in real time. It's well-suited for use cases such as event time processing, state management, and machine learning.\n",
            "\n",
            "Each of these frameworks has its own strengths and weaknesses, so the best one to use will depend on the specific requirements of your use case.\n"
          ]
        }
      ],
      "source": [
        "print(f\"Using Endpoints: {openai.api_base} ...\\n\")\n",
        "for user_content in user_questions:\n",
        "    response = get_commpletion(client, MODEL, system_content, user_content)\n",
        "    print(f\"\\n{BOLD_BEGIN}Question:{BOLD_END} {user_content}\")\n",
        "    print(f\"\\n{BOLD_BEGIN}Answer:{BOLD_END} {response}\")"
      ]
    },
    {
      "cell_type": "markdown",
      "id": "7e99faf7-74d2-4f1d-8b51-21599e479f77",
      "metadata": {
        "id": "7e99faf7-74d2-4f1d-8b51-21599e479f77"
      },
      "source": [
        "## Use the [CO-STAR](https://towardsdatascience.com/how-i-won-singapores-gpt-4-prompt-engineering-competition-34c195a93d41) framework for prompting\n",
        "\n",
        "1. **Context** - provide the background\n",
        "2. **Objective** (or Task) - define the task to be performed\n",
        "3. **Style** - instruct a writing style. Kind of sentences; formal, informal, magazine sytle, colloqiual, or allude to a know style.\n",
        "4. **Audience** - who's it for?\n",
        "5. **Response** - format, Text, JSON, decorate with emojies,"
      ]
    },
    {
      "cell_type": "markdown",
      "id": "56db791e-b914-4c8f-b114-aae7c021db50",
      "metadata": {
        "id": "56db791e-b914-4c8f-b114-aae7c021db50"
      },
      "source": [
        "#### Example 1"
      ]
    },
    {
      "cell_type": "code",
      "execution_count": null,
      "id": "d537754b-a030-470c-a761-b541e46c4d94",
      "metadata": {
        "id": "d537754b-a030-470c-a761-b541e46c4d94"
      },
      "outputs": [],
      "source": [
        "user_prompt = \"\"\"\n",
        "# CONTEXT #\n",
        "I want to share our company's new product feature for\n",
        "serving open source large language models at the lowest cost and lowest\n",
        "latency. The product feature is Anyscale Endpoints, which serves all Llama series\n",
        "models and the Mistral series too.\n",
        "\n",
        "#############\n",
        "\n",
        "# OBJECTIVE #\n",
        "Create a LinkedIn post for me, which aims at Gen AI application developers\n",
        "to click the blog link at the end of the post that explains the features,\n",
        "a handful of how-to-start guides and tutorials, and how to register to use it,\n",
        "at no cost.\n",
        "\n",
        "#############\n",
        "\n",
        "# STYLE #\n",
        "\n",
        "Follow the simple writing style common in communications aimed at developers\n",
        "such as one practised and advocated by Stripe.\n",
        "\n",
        "Be perusaive yet maintain a neutral tone. Avoid sounding too much like sales or marketing\n",
        "pitch.\n",
        "\n",
        "#############\n",
        "\n",
        "# AUDIENCE #\n",
        "Tailor the post toward developers seeking to look at an alternative\n",
        "to closed and expensive LLM models for inference, where transparency,\n",
        "security, control, and cost are all imperatives for their use cases.\n",
        "\n",
        "#############\n",
        "\n",
        "# RESPONSE #\n",
        "Be concise and succinct in your response yet impactful. Where appropriate, use\n",
        "appropriate emojies.\n",
        "\"\"\""
      ]
    },
    {
      "cell_type": "code",
      "execution_count": null,
      "id": "7dd1245a-7dc7-464e-87d5-8515b8cbb19e",
      "metadata": {
        "id": "7dd1245a-7dc7-464e-87d5-8515b8cbb19e",
        "outputId": "f3cc5b98-aaf2-45a0-8c9b-7d1a507e4960"
      },
      "outputs": [
        {
          "name": "stdout",
          "output_type": "stream",
          "text": [
            "\n",
            "\u001b[1mAnswer - LinkedIn post\u001b[0m:\n",
            "  🚀Exciting news for all open-source AI developers! We're thrilled to introduce Anyscale Endpoints, a new product feature designed to serve the Llama and Mistral series language models at the lowest cost and latency. 💡\n",
            "\n",
            "With Anyscale Endpoints, you get transparency, security, control, and cost benefits that closed and expensive LLMs fail to offer. 🔒✨ Our feature is perfect for those who value these aspects in their use cases.\n",
            "\n",
            "To learn more about the features, how-to-start guides, tutorials, and registration (at no cost!), check out our blog post here: [Blog Link] 📝🔎\n",
            "\n",
            "Give Anyscale Endpoints a try and revolutionize the way you build and deploy AI applications. 🧠💻💼 Happy coding!\n"
          ]
        }
      ],
      "source": [
        "response = get_commpletion(client, MODEL, system_content, user_prompt)\n",
        "print(f\"\\n{BOLD_BEGIN}Answer - LinkedIn post{BOLD_END}:\\n {response}\")"
      ]
    },
    {
      "cell_type": "markdown",
      "id": "be71b0c3-bfe7-4488-9863-a11e752acf7e",
      "metadata": {
        "id": "be71b0c3-bfe7-4488-9863-a11e752acf7e"
      },
      "source": [
        "### 🧙‍♀️ You got to love this stuff! 😜"
      ]
    }
  ],
  "metadata": {
    "kernelspec": {
      "display_name": "Python 3 (ipykernel)",
      "language": "python",
      "name": "python3"
    },
    "language_info": {
      "codemirror_mode": {
        "name": "ipython",
        "version": 3
      },
      "file_extension": ".py",
      "mimetype": "text/x-python",
      "name": "python",
      "nbconvert_exporter": "python",
      "pygments_lexer": "ipython3",
      "version": "3.10.13"
    },
    "colab": {
      "provenance": []
    }
  },
  "nbformat": 4,
  "nbformat_minor": 5
}