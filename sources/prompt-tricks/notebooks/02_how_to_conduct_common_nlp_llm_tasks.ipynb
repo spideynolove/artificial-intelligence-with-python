{
  "cells": [
    {
      "cell_type": "markdown",
      "id": "39330ca8-0778-405c-8d1f-2c31e190ebde",
      "metadata": {
        "id": "39330ca8-0778-405c-8d1f-2c31e190ebde"
      },
      "source": [
        "## Natural language processing (NLP) LLM Tasks\n",
        "This notebook goes a bit futher with diverse examples to demonstrate various tasks, emphasizing effective usage of prompt engineering through practical instances and using [CO-STAR prompt framework](https://towardsdatascience.com/how-i-won-singapores-gpt-4-prompt-engineering-competition-34c195a93d41) for\n",
        "eliciting the best response from the LLM\n",
        "\n",
        "The tasks explored in this notebook, using sophiscated prompting techniques, show *how-to* code examples for common natural language understanfing capabilites of a generalized LLM, such as ChatGPT and Llama 2 series:\n",
        "\n",
        " * Text generation or completion\n",
        " * Text summarization\n",
        " * Text extraction\n",
        " * Text classification or sentiment analysis\n",
        " * Text categorization\n",
        " * Text transformation and translation\n",
        " * Simple and complex reasoning\n",
        "\n",
        "<img src=\"https://github.com/dmatrix/genai-cookbook/blob/main/llm-prompts/images/llm_prompt_req_resp.png?raw=1\" height=\"35%\" width=\"%65\">\n",
        "\n",
        "**Note**:\n",
        "To run any of these relevant notebooks you will need an account on Anyscale Endpoints, Anthropic, or OpenAI, depending on what model you elect, along with the respective environment file. Use the template environment files to create respective `.env` file for either Anyscale Endpoints, Anthropic, or OpenAI.\n"
      ]
    },
    {
      "cell_type": "code",
      "execution_count": null,
      "id": "798bde8f-44a7-4e9f-ba30-0ffccd1d4f87",
      "metadata": {
        "id": "798bde8f-44a7-4e9f-ba30-0ffccd1d4f87"
      },
      "outputs": [],
      "source": [
        "import warnings\n",
        "import os\n",
        "\n",
        "import openai\n",
        "from openai import OpenAI\n",
        "\n",
        "from dotenv import load_dotenv, find_dotenv"
      ]
    },
    {
      "cell_type": "code",
      "execution_count": null,
      "id": "d617225a-eb51-4d76-a324-bc1547759d45",
      "metadata": {
        "id": "d617225a-eb51-4d76-a324-bc1547759d45"
      },
      "outputs": [],
      "source": [
        "BOLD_BEGIN = \"\\033[1m\"\n",
        "BOLD_END = \"\\033[0m\""
      ]
    },
    {
      "cell_type": "code",
      "execution_count": null,
      "id": "249c0446-7d74-402b-b7a5-9ab6f1d59224",
      "metadata": {
        "id": "249c0446-7d74-402b-b7a5-9ab6f1d59224",
        "outputId": "7df35398-c720-462a-ea8f-56353dde5684"
      },
      "outputs": [
        {
          "name": "stdout",
          "output_type": "stream",
          "text": [
            "Using MODEL=mistralai/Mixtral-8x7B-Instruct-v0.1; base=https://api.endpoints.anyscale.com/v1\n"
          ]
        }
      ],
      "source": [
        "_ = load_dotenv(find_dotenv()) # read local .env file\n",
        "warnings.filterwarnings('ignore')\n",
        "openai.api_base = os.getenv(\"ANYSCALE_API_BASE\", os.getenv(\"OPENAI_API_BASE\"))\n",
        "openai.api_key = os.getenv(\"ANYSCALE_API_KEY\", os.getenv(\"OPENAI_API_KEY\"))\n",
        "MODEL = os.getenv(\"MODEL\")\n",
        "print(f\"Using MODEL={MODEL}; base={openai.api_base}\")"
      ]
    },
    {
      "cell_type": "code",
      "execution_count": null,
      "id": "b45071b3-6e6e-497b-9126-ab592053d2ca",
      "metadata": {
        "id": "b45071b3-6e6e-497b-9126-ab592053d2ca"
      },
      "outputs": [],
      "source": [
        "from openai import OpenAI\n",
        "\n",
        "client = OpenAI(\n",
        "    api_key = openai.api_key,\n",
        "    base_url = openai.api_base\n",
        ")"
      ]
    },
    {
      "cell_type": "code",
      "execution_count": null,
      "id": "5b425c6a-fe00-4180-aab8-6250513713ba",
      "metadata": {
        "id": "5b425c6a-fe00-4180-aab8-6250513713ba"
      },
      "outputs": [],
      "source": [
        "BOLD_BEGIN = \"\\033[1m\"\n",
        "BOLD_END = \"\\033[0m\""
      ]
    },
    {
      "cell_type": "code",
      "execution_count": null,
      "id": "a8654cd8-fa3d-4d94-a7c9-37053a3434be",
      "metadata": {
        "id": "a8654cd8-fa3d-4d94-a7c9-37053a3434be"
      },
      "outputs": [],
      "source": [
        "def get_commpletion(clnt: object, model: str, system_content: str, user_content:str) -> str:\n",
        "    chat_completion = clnt.chat.completions.create(\n",
        "        model=model,\n",
        "    messages=[{\"role\": \"system\", \"content\": system_content},\n",
        "              {\"role\": \"user\", \"content\": user_content}],\n",
        "    temperature = 0.8)\n",
        "\n",
        "    response = chat_completion.choices[0].message.content\n",
        "    return response"
      ]
    },
    {
      "cell_type": "markdown",
      "id": "b2f06061-ea86-4e09-b006-9a0c61f92e33",
      "metadata": {
        "id": "b2f06061-ea86-4e09-b006-9a0c61f92e33"
      },
      "source": [
        "## Text generation or completion\n",
        "In this simple task, we use an LLM to generate text by finishing an incomplete user content provided in the prompt. For example,\n",
        "by providing an incomplete prompt such as \"On a cold winter night, the stray dog ...\".\n",
        "\n",
        "Let's try a few text generation or completion tasks by providing partial prompts in the user content. You will surprised at its fluency and coherency in the generated text.\n",
        "\n",
        "For prompting, we use the C0-STAR framework.\n",
        "\n",
        "<img src=\"https://github.com/dmatrix/genai-cookbook/blob/main/llm-prompts/images/co-star-framework.png?raw=1\" height=\"35%\" width=\"%65\">\n",
        "\n",
        "\n",
        "**(C): Context: Provide background and information on the task**\n",
        "\n",
        "**(O): Objective: Define the task that you want the LLM to perform**\n",
        "\n",
        "**(S): Style: Specify the writing style you want the LLM to use**\n",
        "\n",
        "**(T): Set the attidue of the response**\n",
        "\n",
        "**(A): Audience: Idenfiy who the response is for**\n",
        "\n",
        "**(R): Provide the response format**\n"
      ]
    },
    {
      "cell_type": "code",
      "execution_count": null,
      "id": "07fbcbf8-0ccc-4fd4-a27d-a27c1ad14ad0",
      "metadata": {
        "id": "07fbcbf8-0ccc-4fd4-a27d-a27c1ad14ad0"
      },
      "outputs": [],
      "source": [
        "system_content = \"\"\"You are master of all knowledge, and a helpful sage.\n",
        "                    You must complete any incomplete sentence by drawing from your vast\n",
        "                    knowledge about history, literature, science, social science, philosophy, religion, economics,\n",
        "                    sports, etc. Do not make up any responses.\n",
        "                  \"\"\"\n",
        "\n",
        "user_prompts =  [\"On cold winter nights, the wolves in Siberia ...\",\n",
        "                 \"On the day Franklin Benjamin realized his passion for printer, ...\",\n",
        "                 \"During the final World Cup 1998 when France beat Brazil in Paris, ...\",\n",
        "                 \"Issac Newton set under a tree when an apple fell...\"\n",
        "                ]"
      ]
    },
    {
      "cell_type": "code",
      "execution_count": null,
      "id": "3c39358d-f343-4596-bd28-5f36a3ba85d7",
      "metadata": {
        "id": "3c39358d-f343-4596-bd28-5f36a3ba85d7",
        "outputId": "d662dfba-0c0a-4172-e37a-b09f256fdb5c"
      },
      "outputs": [
        {
          "name": "stdout",
          "output_type": "stream",
          "text": [
            "Using Endpoints: https://api.endpoints.anyscale.com/v1 ...\n",
            "\n",
            "\n",
            "\u001b[1mPrompt:\u001b[0m On cold winter nights, the wolves in Siberia ...\n",
            "\n",
            "\u001b[1mAnswer:\u001b[0m  On cold winter nights, the wolves in Siberia engage in a range of behaviors that allow them to survive and thrive in this harsh environment. As highly social animals, they often form packs for hunting and protection. These groups, usually consisting of an alpha pair and their offspring, work together to bring down prey such as elk, deer, and boar. In addition to hunting, wolves also spend a significant amount of time on communal activities like playing, grooming, and resting. This helps to strengthen social bonds and ensure the survival of the group.\n",
            "\n",
            "Interestingly, wolves in Siberia are well adapted to cold temperatures, with thick fur coats that provide insulation and a layer of fat that helps to conserve heat. They are also able to regulate their body temperature through a process called vasodilation, which allows them to constrict blood vessels in their extremities to reduce heat loss. This, combined with their highly efficient hunting techniques, makes them well suited to life in the Siberian wilderness.\n",
            "\n",
            "Despite their important role in the ecosystem, wolves in Siberia have faced significant threats from human activities, including habitat loss, hunting, and persecution. As a result, their populations have declined dramatically in recent decades, with some estimates suggesting that there are now as few as 30,000 wolves left in the wild. Conservation efforts are underway to protect these remarkable animals and ensure their survival for future generations.\n",
            "\n",
            "\u001b[1mPrompt:\u001b[0m On the day Franklin Benjamin realized his passion for printer, ...\n",
            "\n",
            "\u001b[1mAnswer:\u001b[0m  On the day Benjamin Franklin realized his passion for printing, he was just 12 years old. Working as an apprentice to his older brother James, he honed his skills in typography, composition, and presswork. This experience ignited a lifelong love for the art and science of printing, which eventually led him to establish the Pennsylvania Gazette and become one of the most influential printers and publishers of his time. In addition to his printing career, Franklin is also remembered for his groundbreaking scientific discoveries, his contributions to the creation of the United States, and his role as a leading statesman and diplomat. His insatiable curiosity and relentless pursuit of knowledge continue to inspire generations of learners and innovators.\n",
            "\n",
            "\u001b[1mPrompt:\u001b[0m During the final World Cup 1998 when France beat Brazil in Paris, ...\n",
            "\n",
            "\u001b[1mAnswer:\u001b[0m  During the final World Cup in 1998, France beat Brazil in Paris, marking a significant moment in sports history. This victory was especially sweet for the French, as it was their first time winning the World Cup. The match took place at the Stade de France, where over 80,000 spectators watched the thrilling game. The winning goal was scored by Zinedine Zidane in the 27th minute of the first half, resulting in an exciting 3-0 victory for France. This game not only solidified France's status as a soccer powerhouse but also brought the country together in a wave of national pride and celebration.\n",
            "\n",
            "\u001b[1mPrompt:\u001b[0m Issac Newton set under a tree when an apple fell...\n",
            "\n",
            "\u001b[1mAnswer:\u001b[0m  Issac Newton, one of the most influential scientists in history, was sitting under an apple tree when an apple fell, an event that sparked his interest in the laws of motion and gravity. This story, while perhaps apocryphal, highlights the serendipitous nature of many scientific discoveries. Newton, who was already fascinated by the mechanics of the universe, began to ponder why the apple fell straight down instead of going off to the side or upwards. This line of thinking led him to formulate the laws of motion and universal gravitation, which are still used today to describe the behavior of objects on Earth and in space.\n",
            "\n",
            "Newton's work set the stage for the scientific revolution, and his discoveries have had a profound impact on our understanding of the physical world. He developed the three laws of motion, which describe the relationship between a body and the forces acting upon it, and the law of universal gravitation, which states that every particle of matter in the universe attracts every other particle with a force that is directly proportional to the product of their masses and inversely proportional to the square of the distance between their centers. These laws not only helped to explain the motion of objects on Earth, but also allowed scientists to understand and predict the motion of celestial bodies, such as planets and stars.\n",
            "\n",
            "Newton's work also helped to establish the field of physics, and his methods and theories continue to be studied and built upon today. He was a key figure in the scientific revolution, and his discoveries helped to shape our understanding of the natural world. Newton's work has had a profound impact on a wide range of fields, from engineering and astronomy to mathematics and philosophy. He was a true polymath, and his contributions to science and knowledge continue to be felt to this day.\n"
          ]
        }
      ],
      "source": [
        "print(f\"Using Endpoints: {openai.api_base} ...\\n\")\n",
        "for user_prompt in user_prompts:\n",
        "    prompt = f\"\"\"\n",
        "    # CONTEXT #\n",
        "    I want to write a complete and cohesive paragpraph for\n",
        "    magazine: Things to know.\n",
        "\n",
        "    #############\n",
        "\n",
        "    # OBJECTIVE #\n",
        "    Compete the text ```{user_prompt}``` between three backticks to the best\n",
        "    of your acquired knowledge.\n",
        "\n",
        "    #############\n",
        "\n",
        "    # STYLE #\n",
        "    You will use simple, compound, and compound-complex sentences for all your responses,\n",
        "    and no more than one paragraph and no more than five sentences.\n",
        "\n",
        "    Adhere to a litrary magazine writing style. Keep your sentences succinct and cohesive.\n",
        "\n",
        "    #############\n",
        "\n",
        "    # TONE #\n",
        "    Maintain an editorial tone.\n",
        "\n",
        "    #############\n",
        "\n",
        "    # AUDIENCE #\n",
        "    Our audience are generally curious first to second year college\n",
        "    students.\n",
        "\n",
        "    #############\n",
        "\n",
        "    # RESPONSE #\n",
        "    Finally, keep the response concise and succinct.\n",
        "    \"\"\"\n",
        "    response = get_commpletion(client, MODEL, system_content, prompt)\n",
        "    response = response.replace(\"```\", \"\")\n",
        "    print(f\"\\n{BOLD_BEGIN}Prompt:{BOLD_END} {user_prompt}\")\n",
        "    print(f\"\\n{BOLD_BEGIN}Answer:{BOLD_END} {response}\")"
      ]
    },
    {
      "cell_type": "markdown",
      "id": "66e03d54-6200-4664-9a6d-13fe8297e0cb",
      "metadata": {
        "id": "66e03d54-6200-4664-9a6d-13fe8297e0cb"
      },
      "source": [
        "## Text summarization\n",
        "\n",
        "A common task in natural langauge processing is text summiarization. A common use case\n",
        "is summarizing large articles or documents, for a quick and easy-to-absorb summaries.\n",
        "\n",
        "You can instruct LLM to generate the response in a preferable style, and comprehensibility. For example, use simple language aimed for a certain grade level, keep the orginal style of the article, use different sentence sytles (as we have done in few of examples in this notebook and previous one).\n",
        "\n",
        "Let's try a few examples."
      ]
    },
    {
      "cell_type": "code",
      "execution_count": null,
      "id": "85736577-b4ee-466e-90c8-a810849fe172",
      "metadata": {
        "id": "85736577-b4ee-466e-90c8-a810849fe172"
      },
      "outputs": [],
      "source": [
        "system_content = \"\"\"You are master of all knowledge about history, literature, science, philosophy, religion,\n",
        "                    economics, sports, etc. Respond to only answers\n",
        "                    you know of. Do not make up answers\"\"\"\n",
        "\n",
        "user_prompts = [\n",
        "    \"\"\" The emergence of large language models (LLMs) has marked a significant\n",
        "         breakthrough in natural language processing (NLP), leading to remarkable\n",
        "         advancements in text understanding and generation.\n",
        "\n",
        "         Nevertheless, alongside these strides, LLMs exhibit a critical tendency\n",
        "         to produce hallucinations, resulting in content that is inconsistent with\n",
        "         real-world facts or user inputs. This phenomenon poses substantial challenges\n",
        "         to their practical deployment and raises concerns over the reliability of LLMs\n",
        "         in real-world scenarios, which attracts increasing attention to detect and\n",
        "         mitigate these hallucinations. In this survey, we aim to provide a thorough and\n",
        "         in-depth  overview of recent advances in the field of LLM hallucinations.\n",
        "\n",
        "         We begin with an innovative taxonomy of LLM hallucinations, then delve into the\n",
        "         factors contributing to hallucinations. Subsequently, we present a comprehensive\n",
        "         overview of hallucination detection methods and benchmarks.\n",
        "         Additionally, representative approaches designed to mitigate hallucinations\n",
        "         are introduced accordingly.\n",
        "\n",
        "         Finally, we analyze the challenges that highlight the current limitations and\n",
        "         formulate open questions, aiming to delineate pathways for future  research on\n",
        "         hallucinations in LLMs.\"\"\",\n",
        "    \"\"\"  Can a Large Language Model (LLM) solve simple abstract reasoning problems?\n",
        "         We explore this broad question through a systematic analysis of GPT on the\n",
        "         Abstraction and Reasoning Corpus (ARC), a representative benchmark of abstract\n",
        "         reasoning ability from limited examples in which solutions require some\n",
        "         \"core knowledge\" of concepts such as objects, goal states, counting, and\n",
        "         basic geometry. GPT-4 solves only 13/50 of the most straightforward ARC\n",
        "         tasks when using textual encodings for their two-dimensional input-output grids.\n",
        "         Our failure analysis reveals that GPT-4's capacity to identify objects and\n",
        "         reason about them is significantly influenced by the sequential nature of\n",
        "         the text that represents an object within a text encoding of a task.\n",
        "         To test this hypothesis, we design a new benchmark, the 1D-ARC, which\n",
        "         consists of one-dimensional (array-like) tasks that are more conducive\n",
        "         to GPT-based reasoning, and where it indeed performs better than on\n",
        "         the (2D) ARC. To alleviate this issue, we propose an object-based\n",
        "         representation that is obtained through an external tool, resulting in\n",
        "         nearly doubling the performance on solved ARC tasks and near-perfect scores\n",
        "         on the easier 1D-ARC. Although the state-of-the-art GPT-4 is unable to\n",
        "         \"reason\" perfectly within non-language domains such as the 1D-ARC or a\n",
        "         simple ARC subset, our study reveals that the use of object-based representations\n",
        "         can significantly improve its reasoning ability. Visualizations, GPT logs, and\n",
        "         data are available at this https URL.\"\"\"\n",
        "]"
      ]
    },
    {
      "cell_type": "code",
      "execution_count": null,
      "id": "a884cb94-0c4a-40bc-a847-1d5eb354cafa",
      "metadata": {
        "id": "a884cb94-0c4a-40bc-a847-1d5eb354cafa",
        "outputId": "01b0a576-0ba7-4df2-b2a8-8716cab10cc1"
      },
      "outputs": [
        {
          "name": "stdout",
          "output_type": "stream",
          "text": [
            "Using Endpoints: https://api.endpoints.anyscale.com/v1 ...\n",
            "\n",
            "\n",
            "\u001b[1mOriginal content:\u001b[0m  The emergence of large language models (LLMs) has marked a significant \n",
            "         breakthrough in natural language processing (NLP), leading to remarkable \n",
            "         advancements in text understanding and generation. \n",
            "         \n",
            "         Nevertheless, alongside these strides, LLMs exhibit a critical tendency \n",
            "         to produce hallucinations, resulting in content that is inconsistent with \n",
            "         real-world facts or user inputs. This phenomenon poses substantial challenges \n",
            "         to their practical deployment and raises concerns over the reliability of LLMs \n",
            "         in real-world scenarios, which attracts increasing attention to detect and \n",
            "         mitigate these hallucinations. In this survey, we aim to provide a thorough and \n",
            "         in-depth  overview of recent advances in the field of LLM hallucinations. \n",
            "         \n",
            "         We begin with an innovative taxonomy of LLM hallucinations, then delve into the \n",
            "         factors contributing to hallucinations. Subsequently, we present a comprehensive\n",
            "         overview of hallucination detection methods and benchmarks. \n",
            "         Additionally, representative approaches designed to mitigate hallucinations \n",
            "         are introduced accordingly. \n",
            "         \n",
            "         Finally, we analyze the challenges that highlight the current limitations and \n",
            "         formulate open questions, aiming to delineate pathways for future  research on \n",
            "         hallucinations in LLMs.\n",
            "\n",
            "\u001b[1mSummary  content:\u001b[0m  The rapid development of Large Language Models (LLMs) has significantly advanced natural language processing, enabling remarkable abilities in understanding and generating human-like text. However, these models also have a tendency to produce hallucinations, where they create content inconsistent with real-world facts or user inputs. This issue raises concerns regarding their practical use and reliability in real-world scenarios, pushing researchers to focus on detecting and mitigating LLM hallucinations. In this survey, experts present a thorough overview of recent advancements in understanding and addressing LLM hallucinations.\n",
            "\n",
            "The survey introduces a new taxonomy of LLM hallucinations and examines the factors contributing to these errors. It also provides a comprehensive review of detection methods and benchmarks for hallucinations, along with showcasing representative approaches designed to minimize such errors. Recognizing the current challenges and limitations, the survey concludes by outlining open questions and potential directions for future research in managing hallucinations in LLMs. This overview serves as a valuable resource for college students interested in the fascinating and rapidly evolving field of AI and language models.\n",
            "\n",
            "\u001b[1mOriginal content:\u001b[0m   Can a Large Language Model (LLM) solve simple abstract reasoning problems?\n",
            "         We explore this broad question through a systematic analysis of GPT on the \n",
            "         Abstraction and Reasoning Corpus (ARC), a representative benchmark of abstract \n",
            "         reasoning ability from limited examples in which solutions require some \n",
            "         \"core knowledge\" of concepts such as objects, goal states, counting, and \n",
            "         basic geometry. GPT-4 solves only 13/50 of the most straightforward ARC \n",
            "         tasks when using textual encodings for their two-dimensional input-output grids. \n",
            "         Our failure analysis reveals that GPT-4's capacity to identify objects and \n",
            "         reason about them is significantly influenced by the sequential nature of \n",
            "         the text that represents an object within a text encoding of a task. \n",
            "         To test this hypothesis, we design a new benchmark, the 1D-ARC, which \n",
            "         consists of one-dimensional (array-like) tasks that are more conducive \n",
            "         to GPT-based reasoning, and where it indeed performs better than on \n",
            "         the (2D) ARC. To alleviate this issue, we propose an object-based \n",
            "         representation that is obtained through an external tool, resulting in \n",
            "         nearly doubling the performance on solved ARC tasks and near-perfect scores \n",
            "         on the easier 1D-ARC. Although the state-of-the-art GPT-4 is unable to \n",
            "         \"reason\" perfectly within non-language domains such as the 1D-ARC or a \n",
            "         simple ARC subset, our study reveals that the use of object-based representations \n",
            "         can significantly improve its reasoning ability. Visualizations, GPT logs, and \n",
            "         data are available at this https URL.\n",
            "\n",
            "\u001b[1mSummary  content:\u001b[0m  A study examining the ability of a large language model, GPT-4, to solve simple abstract reasoning problems has revealed some interesting findings. The researchers tested GPT-4 on the Abstraction and Reasoning Corpus (ARC), a benchmark that requires core knowledge of concepts such as objects, goal states, counting, and basic geometry. However, GPT-4 was only able to solve 13 out of 50 of the most straightforward ARC tasks when using textual encodings for their two-dimensional input-output grids.\n",
            "\n",
            "The researchers found that GPT-4's capacity to identify objects and reason about them is influenced by the sequential nature of the text that represents an object within a text encoding of a task. To test this hypothesis, they designed a new benchmark, the 1D-ARC, which consists of one-dimensional (array-like) tasks that are more conducive to GPT-based reasoning. The study found that the use of object-based representations, obtained through an external tool, significantly improved GPT-4's reasoning ability, nearly doubling its performance on solved ARC tasks and achieving near-perfect scores on the easier 1D-ARC. While GPT-4 is not yet able to \"reason\" perfectly within non-language domains, this study suggests that object-based representations can enhance its reasoning ability.\n"
          ]
        }
      ],
      "source": [
        "print(f\"Using Endpoints: {openai.api_base} ...\\n\")\n",
        "for user_prompt in user_prompts:\n",
        "    prompt = f\"\"\"\n",
        "\n",
        "    # CONTEXT #\n",
        "    I want to write a summarize cohesively into at most two paragpraphs for\n",
        "    my magazine: Things to know quickly\n",
        "\n",
        "    #############\n",
        "\n",
        "    # OBJECTIVE #\n",
        "    Summarize the text ```{user_prompt}``` between three backticks to the best\n",
        "    of your acquired knowledge.\n",
        "\n",
        "     #############\n",
        "\n",
        "    # STYLE #\n",
        "    You will use simple, compound, and compound-complex sentences for all your responses,\n",
        "    and no more than one paragraph and no more than five sentences.\n",
        "\n",
        "    Adhere to a litrary magazine writing style. Keep your sentences succinct and cohesive.\n",
        "\n",
        "    # TONE #\n",
        "    Maintain the same tone as the text supplied.\n",
        "\n",
        "    #############\n",
        "\n",
        "    # AUDIENCE #\n",
        "    Our audience are generally curious first to second year college\n",
        "    students.\n",
        "\n",
        "    #############\n",
        "\n",
        "     # RESPONSE #\n",
        "    Finally, keep the response concise and succinct\n",
        "    \"\"\"\n",
        "    response = get_commpletion(client, MODEL, system_content, prompt)\n",
        "    print(f\"\\n{BOLD_BEGIN}Original content:{BOLD_END} {user_prompt}\")\n",
        "    print(f\"\\n{BOLD_BEGIN}Summary  content:{BOLD_END} {response}\")"
      ]
    },
    {
      "cell_type": "markdown",
      "id": "affe9c30-bf89-49ee-80c8-c5d260b91914",
      "metadata": {
        "id": "affe9c30-bf89-49ee-80c8-c5d260b91914"
      },
      "source": [
        "## Text or information extraction\n",
        "\n",
        "Another natural langauge capability, similar to summarization or text completion, is extracting key idea or infromation from an article, blog, or a paragraph. For example,\n",
        "given a set of text, you can ask LLM to extract key ideas or topics or subjects. Or even\n",
        "better enumerate key takeways for you, saving time if you are in a hurry.\n",
        "\n",
        "Let's see *how-to* do it by first looking at a simple example, and then progressing into a more complex one, all along keepin\n",
        "the [CO-STAR prompting framework](https://towardsdatascience.com/how-i-won-singapores-gpt-4-prompt-engineering-competition-34c195a93d41) in mind.\n",
        "\n",
        "### Task 1:\n",
        " * summarize the product review\n",
        " * extract any information about shipping and packaging for shipping department\n",
        " * classify the sentiment of the review: positive or negative.\n",
        " * use precise, specific prompt to acheive the task"
      ]
    },
    {
      "cell_type": "code",
      "execution_count": null,
      "id": "21406dcc-e9b1-4028-8281-297ae762b24d",
      "metadata": {
        "id": "21406dcc-e9b1-4028-8281-297ae762b24d"
      },
      "outputs": [],
      "source": [
        "system_content = \"\"\"You are master of all knowledge about history, literature, science, social science,\n",
        "philosophy, religion, economics, sports, etc.\n",
        "\"\"\"\n",
        "\n",
        "product_review = \"\"\"I got this Australian Bush Baby with soft fur for my niece's birthday,\n",
        "and she absolutely loves it, carrying it around everywhere. The fur is exceptionally soft,\n",
        "and its adorable face gives off a friendly vibe. While I find it a bit smaller than\n",
        "anticipated for the price, my niece's joy makes it worthwhile. What pleasantly surprised\n",
        "me was the early arrival; it came a day earlier than expected.\n",
        "I appreciated the prompt delivery, and the packaging was secure, ensuring the\n",
        "Bush Baby with soft fur arrived in perfect condition. This allowed me to play with\n",
        "it myself before presenting it to my niece.\n",
        "\"\"\""
      ]
    },
    {
      "cell_type": "code",
      "execution_count": null,
      "id": "384515f8-a970-421a-86bb-be3ea8800bc3",
      "metadata": {
        "id": "384515f8-a970-421a-86bb-be3ea8800bc3"
      },
      "outputs": [],
      "source": [
        "prompt = f\"\"\"\n",
        "# CONTEXT #\n",
        "In our customer service department, we value customer feedback and want to\n",
        "analyze their reviews by summarizing their review assessing, labeling or categorizing\n",
        "and its idenfitying its sentiment.\n",
        "\n",
        "#############\n",
        "\n",
        "# OBJECTIVE #\n",
        "Your task is to generate a short summary of a product\n",
        "review from an Australian e-commerce site to offer feedback to the\n",
        "shipping deparmtment. Follow the steps below:\n",
        "\n",
        "First, generate a short summary of review below, delimited by triple\n",
        "backticks, in two sentences: a simple and compound sentence.\n",
        "\n",
        "Second, focus on any aspects of packaging or shipping of the product, and label it as\n",
        "\"Shipping Department:\".\n",
        "\n",
        "Third, indicate if the review is positive or negative, and label it as \"Sentiment:\".\n",
        "Do not provide any preamble, only a simple two words: Positive or negative\n",
        "Review: ```{product_review}```\n",
        "\n",
        "#############\n",
        "\n",
        "# STYLE #\n",
        "You will use simple, compound, and compound-complex sentences for all your responses,\n",
        "and no more than one paragraph and no more than five sentences.\n",
        "\n",
        "#############\n",
        "\n",
        "# TONE #\n",
        "Maintain a professional tone for internal communications\n",
        "\n",
        "#############\n",
        "\n",
        " # AUDIENCE #\n",
        "Our audience are internal departments in customer success to ensure we can\n",
        "improve our customer service\n",
        "\n",
        "#############\n",
        "\n",
        "# RESPONSE #\n",
        "Finally, keep the response concise and succinct\n",
        "\"\"\""
      ]
    },
    {
      "cell_type": "code",
      "execution_count": null,
      "id": "d0056f55-c3aa-4a4e-bd11-fec330436af4",
      "metadata": {
        "id": "d0056f55-c3aa-4a4e-bd11-fec330436af4",
        "outputId": "343bc6d1-d28b-4337-a7f0-15a49b970936"
      },
      "outputs": [
        {
          "name": "stdout",
          "output_type": "stream",
          "text": [
            "Using Endpoints: https://api.endpoints.anyscale.com/v1 ...\n",
            "\n",
            "\n",
            "\u001b[1mSummary:\u001b[0m  Summary: A customer purchased an Australian Bush Baby toy with soft fur for their niece's birthday, who carries it everywhere and is delighted with it. The product arrived earlier than expected, and the packaging ensured secure delivery.\n",
            "\n",
            "Shipping Department: The shipping department delivered the product a day earlier than expected, and the packaging was secure, preserving the product's quality.\n",
            "\n",
            "Sentiment: Positive. The customer is satisfied with the shipping and delivery of the product, and their niece's joy reinforces the positive sentiment towards the purchase.\n"
          ]
        }
      ],
      "source": [
        "print(f\"Using Endpoints: {openai.api_base} ...\\n\")\n",
        "response = get_commpletion(client, MODEL, system_content, prompt)\n",
        "print(f\"\"\"\\n{BOLD_BEGIN}Summary:{BOLD_END} {response.replace(\"```\", \"\")}\"\"\")"
      ]
    },
    {
      "cell_type": "markdown",
      "id": "b6cb0d62-e2a7-4669-9792-57f20ed95980",
      "metadata": {
        "id": "b6cb0d62-e2a7-4669-9792-57f20ed95980"
      },
      "source": [
        "### Task 2\n",
        " * Given a passage from an article, extract the main theme of the passage and label it as the `Subjects`, if more than one, separated by comma.\n",
        " * Identify three key takeways and enumerate them in simple sentences"
      ]
    },
    {
      "cell_type": "code",
      "execution_count": null,
      "id": "3cdcd4d4-62c7-4dea-b98a-58070552c892",
      "metadata": {
        "id": "3cdcd4d4-62c7-4dea-b98a-58070552c892"
      },
      "outputs": [],
      "source": [
        "system_content = \"You are master of all knowledge about history, literature, science, social science, philosophy, religion, economics, sports, etc.\"\n",
        "\n",
        "user_prompts = [\"\"\"Isaac Newton sat under a tree when an apple fell, an event that,\n",
        "                according to popular legend, led to his contemplation of the forces\n",
        "                of gravity. Although this story is often regarded as apocryphal or at\n",
        "                least exaggerated, it serves as a powerful symbol of Newton's insight\n",
        "                into the universal law that governs celestial and earthly bodies alike.\n",
        "                His formulation of the law of universal gravitation was revolutionary,\n",
        "                as it provided a mathematical explanation for both the motion of planets\n",
        "                and the phenomena observed on Earth. Newton's work in physics, captured\n",
        "                in his seminal work Philosophiæ Naturalis Principia Mathematica, laid the\n",
        "                groundwork for classical mechanics. His influence extended beyond his own\n",
        "                time, shaping the course of scientific inquiry for centuries to come.\n",
        "                \"\"\"\n",
        "               ]\n"
      ]
    },
    {
      "cell_type": "code",
      "execution_count": null,
      "id": "c7e16e2f-14ec-4bfd-9687-294683ad5c9c",
      "metadata": {
        "id": "c7e16e2f-14ec-4bfd-9687-294683ad5c9c",
        "outputId": "671337cf-9aa8-4ad5-839b-1da04f440811"
      },
      "outputs": [
        {
          "name": "stdout",
          "output_type": "stream",
          "text": [
            "Using Endpoints: https://api.endpoints.anyscale.com/v1 ...\n",
            "\n",
            "\n",
            "\u001b[1mOriginal content:\u001b[0m Isaac Newton sat under a tree when an apple fell, an event that, \n",
            "                according to popular legend, led to his contemplation of the forces\n",
            "                of gravity. Although this story is often regarded as apocryphal or at \n",
            "                least exaggerated, it serves as a powerful symbol of Newton's insight \n",
            "                into the universal law that governs celestial and earthly bodies alike. \n",
            "                His formulation of the law of universal gravitation was revolutionary, \n",
            "                as it provided a mathematical explanation for both the motion of planets \n",
            "                and the phenomena observed on Earth. Newton's work in physics, captured \n",
            "                in his seminal work Philosophiæ Naturalis Principia Mathematica, laid the \n",
            "                groundwork for classical mechanics. His influence extended beyond his own \n",
            "                time, shaping the course of scientific inquiry for centuries to come.\n",
            "                \n",
            "\n",
            " \u001b[1mExtracted answers: \u001b[0m  Subject: Isaac Newton's formulation of the law of universal gravitation\n",
            "\n",
            "Takeaways:\n",
            "1. Newton's insight about gravity was inspired by an apple falling from a tree.\n",
            "2. His law of universal gravitation provides a mathematical explanation for both celestial and earthly bodies' motion.\n",
            "3. Newton's work, outlined in Philosophiæ Naturalis Principia Mathematica, established classical mechanics and significantly influenced future scientific inquiry.\n"
          ]
        }
      ],
      "source": [
        "print(f\"Using Endpoints: {openai.api_base} ...\\n\")\n",
        "for text in user_prompts:\n",
        "    prompt = f\"\"\" Given ```{text}``` delimited with triple backticks, identify a single key idea being discussed,\n",
        "    and label its 'Subject'. Next, enumerate at most three takeways.\n",
        "    Use short, simple sentences. \"\"\"\n",
        "    response = get_commpletion(client, MODEL, system_content, prompt)\n",
        "    print(f\"\\n{BOLD_BEGIN}Original content:{BOLD_END} {text}\")\n",
        "    print(f\"\\n {BOLD_BEGIN}Extracted answers: {BOLD_END} {response}\")"
      ]
    },
    {
      "cell_type": "markdown",
      "id": "113abb50-6a73-4101-8846-e8f26d85bb9c",
      "metadata": {
        "id": "113abb50-6a73-4101-8846-e8f26d85bb9c"
      },
      "source": [
        "Let's try another example to extract more than one subject or topic being\n",
        "discussed in the text, and enumerate three takeways.\n",
        "\n",
        "(Incidentally, I'm reading biography of Benjamin Franklin by Issac Stevenson, and all this seems to align with his career path and passion.)"
      ]
    },
    {
      "cell_type": "code",
      "execution_count": null,
      "id": "f34ceebf-c1b6-495b-8c78-81d2fc45baff",
      "metadata": {
        "id": "f34ceebf-c1b6-495b-8c78-81d2fc45baff"
      },
      "outputs": [],
      "source": [
        "user_stories = [\"\"\"\"\n",
        "'The Printer'\n",
        "    He that has a Trade has an Office of Profit and Honour’ Poor Richard’s Almanack\n",
        "Benjamin Franklin had an affinity with print and books throughout his life.\n",
        "Apprenticed as a child to his brother James, a printer, he mastered all aspects of\n",
        "the trade, from typesetting to engraving, learning the latest techniques during his\n",
        "first visit to London.  An avid reader, Franklin saved money to buy books by\n",
        "temporarily turning vegetarian and, once settled in Philadelphia, founded the\n",
        "Library Company, the first subscription library in the colonies.  As an elder\n",
        "statesman, he even bought type and kept a press during his stay in France.\n",
        "After working as a printer’s journeyman, he set up his own Philadelphian printing\n",
        "office in 1728.  His success with the Pennslyannia Gazette and Poor Richard’s\n",
        "Almanack helped to provide Franklin with the financial means to retire from\n",
        "business, retaining a stake in his print shop and founding others throughout the\n",
        "colonies.  Print also gave him a public voice: Franklin preferred the printed word,\n",
        "rather than public rhetoric, influencing political and public opinion as a brilliant\n",
        "journalist and pamphleteer.\n",
        "\n",
        "'Silence Dogood and the New­England Courant'\n",
        "    When James Franklin lost the contract to print the Boston Gazette, he determined\n",
        "to begin his own newspaper, launching the New­England Courant in 1721.\n",
        "Benjamin, who had been indentured secretly to James, helped to print the weekly\n",
        "paper.  One night he slipped a composition under the door, beginning the series\n",
        "of ‘Silence Dogood’ letters, the purported epistles of a vocal widower, with strong\n",
        "opinions on drunks, clergymen, foolish fashions and Boston nightlife. Owing no\n",
        "little debt to the satire of the London Spectator, the letters represented a\n",
        "remarkable literary achievement for the 16­year old.  The British Library’s copy has\n",
        "been uniquely annotated in what appears to be Franklin’s hand. The first\n",
        "‘Dogood’ letter appears on the bottom right.\n",
        "\n",
        "‘The Main Design of the Weekly Paper will be to Entertain the Town’\n",
        "    Benjamin’s brother, James, began the New­England Courant in the face of\n",
        "opposition from the Boston Establishment.  He soon irritated them with his squibs\n",
        "and satires on the great and the good, attacking the influential clergyman Cotton\n",
        "Mather’s pet project of small pox inoculation and the authorities’ weak response\n",
        "to piracy. Twice arrested, James temporally left the paper in Benjamin’s hands, and\n",
        "then continued to publish it under Benjamin’s name to escape a ban on\n",
        "publication.  This issue is the first printed item to carry the imprint ‘B. Franklin’ (on\n",
        "the rear).  Franklin announces his intention to ‘Entertain the Town’ on this page.\n",
        "\"\"\"]"
      ]
    },
    {
      "cell_type": "code",
      "execution_count": null,
      "id": "1909a1b5-68fa-449c-9d40-0d4494b75b93",
      "metadata": {
        "id": "1909a1b5-68fa-449c-9d40-0d4494b75b93",
        "outputId": "92884fd4-263d-4c33-af2f-01b353b9220a"
      },
      "outputs": [
        {
          "name": "stdout",
          "output_type": "stream",
          "text": [
            "Using Endpoints: https://api.endpoints.anyscale.com/v1 ...\n",
            "\n",
            "\n",
            "\u001b[1mOriginal Story:\u001b[0m \"\n",
            "'The Printer'\n",
            "    He that has a Trade has an Office of Profit and Honour’ Poor Richard’s Almanack\n",
            "Benjamin Franklin had an affinity with print and books throughout his life. \n",
            "Apprenticed as a child to his brother James, a printer, he mastered all aspects of\n",
            "the trade, from typesetting to engraving, learning the latest techniques during his\n",
            "first visit to London.  An avid reader, Franklin saved money to buy books by \n",
            "temporarily turning vegetarian and, once settled in Philadelphia, founded the \n",
            "Library Company, the first subscription library in the colonies.  As an elder\n",
            "statesman, he even bought type and kept a press during his stay in France. \n",
            "After working as a printer’s journeyman, he set up his own Philadelphian printing \n",
            "office in 1728.  His success with the Pennslyannia Gazette and Poor Richard’s\n",
            "Almanack helped to provide Franklin with the financial means to retire from\n",
            "business, retaining a stake in his print shop and founding others throughout the \n",
            "colonies.  Print also gave him a public voice: Franklin preferred the printed word, \n",
            "rather than public rhetoric, influencing political and public opinion as a brilliant\n",
            "journalist and pamphleteer.\n",
            "\n",
            "'Silence Dogood and the New­England Courant'\n",
            "    When James Franklin lost the contract to print the Boston Gazette, he determined\n",
            "to begin his own newspaper, launching the New­England Courant in 1721.\n",
            "Benjamin, who had been indentured secretly to James, helped to print the weekly \n",
            "paper.  One night he slipped a composition under the door, beginning the series\n",
            "of ‘Silence Dogood’ letters, the purported epistles of a vocal widower, with strong \n",
            "opinions on drunks, clergymen, foolish fashions and Boston nightlife. Owing no\n",
            "little debt to the satire of the London Spectator, the letters represented a \n",
            "remarkable literary achievement for the 16­year old.  The British Library’s copy has \n",
            "been uniquely annotated in what appears to be Franklin’s hand. The first \n",
            "‘Dogood’ letter appears on the bottom right.\n",
            "\n",
            "‘The Main Design of the Weekly Paper will be to Entertain the Town’\n",
            "    Benjamin’s brother, James, began the New­England Courant in the face of\n",
            "opposition from the Boston Establishment.  He soon irritated them with his squibs\n",
            "and satires on the great and the good, attacking the influential clergyman Cotton\n",
            "Mather’s pet project of small pox inoculation and the authorities’ weak response \n",
            "to piracy. Twice arrested, James temporally left the paper in Benjamin’s hands, and \n",
            "then continued to publish it under Benjamin’s name to escape a ban on\n",
            "publication.  This issue is the first printed item to carry the imprint ‘B. Franklin’ (on\n",
            "the rear).  Franklin announces his intention to ‘Entertain the Town’ on this page.\n",
            "\n",
            "\n",
            " \u001b[1mExtracted entities:\u001b[0m  Subjects:\n",
            "* Printing trade\n",
            "* Book collection\n",
            "* Journalism\n",
            "* Satire\n",
            "* Censorship\n",
            "\n",
            "Takeaways:\n",
            "* Benjamin Franklin had a lifelong affinity with printing and books.\n",
            "* Franklin's \"Silence Dogood\" letters in the New-England Courant were a remarkable literary achievement for a 16-year-old.\n",
            "* Franklin's brother James faced opposition and censorship for his satirical content in the New-England Courant.\n"
          ]
        }
      ],
      "source": [
        "print(f\"Using Endpoints: {openai.api_base} ...\\n\")\n",
        "for story in user_stories:\n",
        "    prompt = f\"\"\" Extract five subjects that are being discussed in the\n",
        "                  following text, which is delimited by triple backticks.\n",
        "                  Format your response as a list of subjects\n",
        "                  \"Subjects:\" separate each subject by a comma.\n",
        "                  Make each subject at most two words long, not longer.\n",
        "                  Next, enumerate  as a list three takeways, and label them as \"Takeways:\"\n",
        "                  Use short, simple sentences for your takeways.\n",
        "                  Text sample: '''{story}'''\n",
        "                  \"\"\"\n",
        "    response = get_commpletion(client, MODEL, system_content, prompt)\n",
        "    print(f\"\\n{BOLD_BEGIN}Original Story:{BOLD_END} {story}\")\n",
        "    print(f\"\\n {BOLD_BEGIN}Extracted entities:{BOLD_END} {response}\")"
      ]
    },
    {
      "cell_type": "markdown",
      "id": "08da3189-e9d0-42c9-9f70-d403df9e0dc5",
      "metadata": {
        "id": "08da3189-e9d0-42c9-9f70-d403df9e0dc5"
      },
      "source": [
        "## Text classification or sentiment analysis\n",
        "\n",
        "Unlike classical or traditional machine learning, where you'll have to do supervised learning to collect data, label it, and train for hours, depending on how much data,classifying text using LLM is simple.\n",
        "\n",
        "In short, you'll have to build an ML model to understand text and classify its sentiments as positive, negative or neutral.\n",
        "\n",
        "This onus task is easily done with LLM via clever prompting.\n",
        "\n",
        "Let's see what I mean in this *how-to* idenfity sentiments in text. But first let's\n",
        "generatre some sentiments as our ground truth, and supply them to LLM to observe if\n",
        "LLM identifies them correctly. This bit is not needed, for I'm just curious.\n",
        "\n",
        "*Positive*: \"This movie is a true cinematic gem, blending an engaging plot with superb performances and stunning visuals. A masterpiece that leaves a lasting impression.\"\n",
        "\n",
        "*Negative*: \"Regrettably, the film failed to live up to expectations, with a convoluted storyline, lackluster acting, and uninspiring cinematography. A disappointment overall.\"\n",
        "\n",
        "*Neutral*: \"The movie had its moments, offering a decent storyline and average performances. While not groundbreaking, it provided an enjoyable viewing experience.\"\n",
        "\n",
        "*Positive*: \"This city is a vibrant tapestry of culture, with friendly locals, historic landmarks, and a lively atmosphere. An ideal destination for cultural exploration.\"\n",
        "\n",
        "*Negative*: \"The city's charm is overshadowed by traffic congestion, high pollution levels, and a lack of cleanliness. Not recommended for a peaceful retreat.\"\n",
        "\n",
        "*Neutral*: \"The city offers a mix of experiences, from bustling markets to serene parks. An interesting but not extraordinary destination for exploration.\"\n",
        "\n",
        "*Positive*: \"This song is a musical masterpiece, enchanting listeners with its soulful lyrics, mesmerizing melody, and exceptional vocals. A timeless classic.\"\n",
        "\n",
        "*Negative*: \"The song fails to impress, featuring uninspiring lyrics, a forgettable melody, and lackluster vocals. It lacks the creativity to leave a lasting impact.\"\n",
        "\n",
        "*Neutral*: \"The song is decent, with a catchy tune and average lyrics. While enjoyable, it doesn't stand out in the vast landscape of music.\"\n",
        "\n",
        "*Positive*: \"A delightful cinematic experience that seamlessly weaves together a compelling narrative, strong character development, and breathtaking visuals.\"\n",
        "\n",
        "*Negative*: \"This film, unfortunately, falls short with a disjointed plot, subpar performances, and a lack of coherence. A disappointing viewing experience.\"\n",
        "\n",
        "*Neutral*: \"While not groundbreaking, the movie offers a decent storyline and competent performances, providing an overall satisfactory viewing experience.\"\n",
        "\n",
        "*Positive*: \"This city is a haven for culture enthusiasts, boasting historical landmarks, a rich culinary scene, and a welcoming community. A must-visit destination.\"\n",
        "\n",
        "*Negative*: \"The city's appeal is tarnished by overcrowded streets, noise pollution, and a lack of urban planning. Not recommended for a tranquil getaway.\"\n",
        "\n",
        "*Neutral*: \"The city offers a diverse range of experiences, from bustling markets to serene parks. An intriguing destination for those seeking a mix of urban and natural landscapes.\""
      ]
    },
    {
      "cell_type": "code",
      "execution_count": null,
      "id": "26fba25e-e40b-40fc-84b5-0a86df748b9c",
      "metadata": {
        "id": "26fba25e-e40b-40fc-84b5-0a86df748b9c"
      },
      "outputs": [],
      "source": [
        "system_content = \"\"\"You are a prominent critic of landscapes, architecture, cities, movies, songs,\n",
        "                    entertainment, and a cultural ombudsman. \"\"\"\n",
        "\n",
        "user_sentiments = [ \"This movie is a true cinematic gem, blending an engaging plot with superb performances and stunning visuals. A masterpiece that leaves a lasting impression.\",\n",
        "                    \"Regrettably, the film failed to live up to expectations, with a convoluted storyline, lackluster acting, and uninspiring cinematography. A disappointment overall.\",\n",
        "                    \"The movie had its moments, offering a decent storyline and average performances. While not groundbreaking, it provided an enjoyable viewing experience.\",\n",
        "                    \"This city is a vibrant tapestry of culture, with friendly locals, historic landmarks, and a lively atmosphere. An ideal destination for cultural exploration.\",\n",
        "                    \"The city's charm is overshadowed by traffic congestion, high pollution levels, and a lack of cleanliness. Not recommended for a peaceful retreat.\",\n",
        "                    \"The city offers a mix of experiences, from bustling markets to serene parks. An interesting but not extraordinary destination for exploration.\",\n",
        "                    \"This song is a musical masterpiece, enchanting listeners with its soulful lyrics, mesmerizing melody, and exceptional vocals. A timeless classic.\",\n",
        "                    \"The song fails to impress, featuring uninspiring lyrics, a forgettable melody, and lackluster vocals. It lacks the creativity to leave a lasting impact.\",\n",
        "                    \"The song is decent, with a catchy tune and average lyrics. While enjoyable, it doesn't stand out in the vast landscape of music.\",\n",
        "                    \"A delightful cinematic experience that seamlessly weaves together a compelling narrative, strong character development, and breathtaking visuals.\",\n",
        "                    \"This film, unfortunately, falls short with a disjointed plot, subpar performances, and a lack of coherence. A disappointing viewing experience.\",\n",
        "                    \"While not groundbreaking, the movie offers a decent storyline and competent performances, providing an overall satisfactory viewing experience.\",\n",
        "                    \"This city is a haven for culture enthusiasts, boasting historical landmarks, a rich culinary scene, and a welcoming community. A must-visit destination.\",\n",
        "                    \"The city's appeal is tarnished by overcrowded streets, noise pollution, and a lack of urban planning. Not recommended for a tranquil getaway.\",\n",
        "                    \"The city offers a diverse range of experiences, from bustling markets to serene parks. An intriguing destination for those seeking a mix of urban and natural landscapes.\",\n",
        "                    \"xxxyyyzzz was curious and dubious\"\n",
        "]"
      ]
    },
    {
      "cell_type": "code",
      "execution_count": null,
      "id": "4bae549c-fa32-46e8-af19-83f923222e3e",
      "metadata": {
        "id": "4bae549c-fa32-46e8-af19-83f923222e3e",
        "outputId": "d680452a-d829-4034-87eb-19e8dc5f8fc2"
      },
      "outputs": [
        {
          "name": "stdout",
          "output_type": "stream",
          "text": [
            "Using Endpoints: https://api.endpoints.anyscale.com/v1 ...\n",
            "\n",
            "\n",
            "\u001b[1mSentiment:\u001b[0m This movie is a true cinematic gem, blending an engaging plot with superb performances and stunning visuals. A masterpiece that leaves a lasting impression.\n",
            "\n",
            "\u001b[1mLabel    :\u001b[0m  Positive\n",
            "\n",
            "\u001b[1mSentiment:\u001b[0m Regrettably, the film failed to live up to expectations, with a convoluted storyline, lackluster acting, and uninspiring cinematography. A disappointment overall.\n",
            "\n",
            "\u001b[1mLabel    :\u001b[0m  Negative\n",
            "\n",
            "\u001b[1mSentiment:\u001b[0m The movie had its moments, offering a decent storyline and average performances. While not groundbreaking, it provided an enjoyable viewing experience.\n",
            "\n",
            "\u001b[1mLabel    :\u001b[0m  Neutral\n",
            "\n",
            "\u001b[1mSentiment:\u001b[0m This city is a vibrant tapestry of culture, with friendly locals, historic landmarks, and a lively atmosphere. An ideal destination for cultural exploration.\n",
            "\n",
            "\u001b[1mLabel    :\u001b[0m  Positive\n",
            "\n",
            "\u001b[1mSentiment:\u001b[0m The city's charm is overshadowed by traffic congestion, high pollution levels, and a lack of cleanliness. Not recommended for a peaceful retreat.\n",
            "\n",
            "\u001b[1mLabel    :\u001b[0m  Negative\n",
            "\n",
            "\u001b[1mSentiment:\u001b[0m The city offers a mix of experiences, from bustling markets to serene parks. An interesting but not extraordinary destination for exploration.\n",
            "\n",
            "\u001b[1mLabel    :\u001b[0m  Neural. The sentiment in the given text is neutral, as it describes the city's features without expressing a positive or negative opinion.\n",
            "\n",
            "\u001b[1mSentiment:\u001b[0m This song is a musical masterpiece, enchanting listeners with its soulful lyrics, mesmerizing melody, and exceptional vocals. A timeless classic.\n",
            "\n",
            "\u001b[1mLabel    :\u001b[0m  Positive\n",
            "\n",
            "\u001b[1mSentiment:\u001b[0m The song fails to impress, featuring uninspiring lyrics, a forgettable melody, and lackluster vocals. It lacks the creativity to leave a lasting impact.\n",
            "\n",
            "\u001b[1mLabel    :\u001b[0m  Negative\n",
            "\n",
            "\u001b[1mSentiment:\u001b[0m The song is decent, with a catchy tune and average lyrics. While enjoyable, it doesn't stand out in the vast landscape of music.\n",
            "\n",
            "\u001b[1mLabel    :\u001b[0m  Neutral\n",
            "\n",
            "\u001b[1mSentiment:\u001b[0m A delightful cinematic experience that seamlessly weaves together a compelling narrative, strong character development, and breathtaking visuals.\n",
            "\n",
            "\u001b[1mLabel    :\u001b[0m  Positive\n",
            "\n",
            "\u001b[1mSentiment:\u001b[0m This film, unfortunately, falls short with a disjointed plot, subpar performances, and a lack of coherence. A disappointing viewing experience.\n",
            "\n",
            "\u001b[1mLabel    :\u001b[0m  Negative\n",
            "\n",
            "\u001b[1mSentiment:\u001b[0m While not groundbreaking, the movie offers a decent storyline and competent performances, providing an overall satisfactory viewing experience.\n",
            "\n",
            "\u001b[1mLabel    :\u001b[0m  Neutral\n",
            "\n",
            "\u001b[1mSentiment:\u001b[0m This city is a haven for culture enthusiasts, boasting historical landmarks, a rich culinary scene, and a welcoming community. A must-visit destination.\n",
            "\n",
            "\u001b[1mLabel    :\u001b[0m  Positive\n",
            "\n",
            "\u001b[1mSentiment:\u001b[0m The city's appeal is tarnished by overcrowded streets, noise pollution, and a lack of urban planning. Not recommended for a tranquil getaway.\n",
            "\n",
            "\u001b[1mLabel    :\u001b[0m  Negative\n",
            "\n",
            "\u001b[1mSentiment:\u001b[0m The city offers a diverse range of experiences, from bustling markets to serene parks. An intriguing destination for those seeking a mix of urban and natural landscapes.\n",
            "\n",
            "\u001b[1mLabel    :\u001b[0m  Positive\n",
            "\n",
            "\u001b[1mSentiment:\u001b[0m xxxyyyzzz was curious and dubious\n",
            "\n",
            "\u001b[1mLabel    :\u001b[0m  Neutral\n"
          ]
        }
      ],
      "source": [
        "print(f\"Using Endpoints: {openai.api_base} ...\\n\")\n",
        "for user_sentiment in user_sentiments:\n",
        "    prompt = f\"\"\"Classify the sentiment in the ```{user_sentiment}`` which is delimited\n",
        "        with triple backticks? Classify the given text into single label as\n",
        "        neutral, negative or positive. Do not expand on your response.\n",
        "        Use single words: positive, negative, neutral\n",
        "        If you cannot classify do not guess, do not ask for more info,\n",
        "        just classify as NA.\n",
        "    \"\"\"\n",
        "    response = get_commpletion(client, MODEL, system_content, prompt)\n",
        "    print(f\"\\n{BOLD_BEGIN}Sentiment:{BOLD_END} {user_sentiment}\")\n",
        "    print(f\"\\n{BOLD_BEGIN}Label    :{BOLD_END} {response}\")"
      ]
    },
    {
      "cell_type": "markdown",
      "id": "6f520fec-af04-4b97-8e66-3187e34b5566",
      "metadata": {
        "id": "6f520fec-af04-4b97-8e66-3187e34b5566"
      },
      "source": [
        "## Text categorization\n",
        "Like sentiment analysis, given a query, an LLM can identify from its context how to classify and route customer queries to respective departments. Also, note that LLM can detect foul language and respond politely. Text categorization can be employed to automate customer on-line queries.\n",
        "\n",
        "Let's look at how we can achieve that with smart and deliberate prompting.\n",
        "\n",
        "<img src=\"https://github.com/dmatrix/genai-cookbook/blob/main/llm-prompts/images/category_resp.png?raw=1\" height=\"35%\" width=\"%65\">\n",
        "\n"
      ]
    },
    {
      "cell_type": "code",
      "execution_count": null,
      "id": "75b9307f-a2b3-4393-8e5a-5d7af520ebd5",
      "metadata": {
        "id": "75b9307f-a2b3-4393-8e5a-5d7af520ebd5"
      },
      "outputs": [],
      "source": [
        "system_content = \"\"\"You are a smart and helful Assistant who can route customer queries to\n",
        "                    respective customer service departments.\n",
        "                    \"\"\"\n",
        "\n",
        "customer_queries = [\"\"\"My modem has stop working. I tried to restart but the orange light keep flashing. It never turns green.\"\"\",\n",
        "                    \"\"\"I just moved into town, and I need Internet service\"\"\",\n",
        "                    \"\"\"Why does my bill include an extra $20 a month for cable TV when I don't use a television?\"\"\",\n",
        "                    \"\"\"I need to change my user name and password since someone is using my credentials. I cannot access my account.\"\"\",\n",
        "                    \"\"\"What days this week are we having a general upgrades to the cable models?\"\"\",\n",
        "                    \"\"\"What day is the best day to call customer service so that I can avoid talking to a bot!\"\"\",\n",
        "                    \"\"\"Your company is full of incompetent morons and fools!\"\"\",\n",
        "                    \"\"\"I hate your worthless services. Cancel my stupid account or else I'll sue you!\"\"\"\n",
        "                   ]\n"
      ]
    },
    {
      "cell_type": "code",
      "execution_count": null,
      "id": "36fe82a0-9486-4e8c-b573-3bb71d7a71b9",
      "metadata": {
        "id": "36fe82a0-9486-4e8c-b573-3bb71d7a71b9",
        "outputId": "dbf70ecd-e6e9-4545-ae45-72fcdcb01fa4"
      },
      "outputs": [
        {
          "name": "stdout",
          "output_type": "stream",
          "text": [
            "Using Endpoints: https://api.endpoints.anyscale.com/v1 ...\n",
            "\n",
            "\n",
            "\u001b[1mQuery:\u001b[0m My modem has stop working. I tried to restart but the orange light keep flashing. It never turns green.\n",
            "\n",
            "\u001b[1mRoute to:\u001b[0m  Technical support\n",
            "\n",
            "\n",
            "\u001b[1mQuery:\u001b[0m I just moved into town, and I need Internet service\n",
            "\n",
            "\u001b[1mRoute to:\u001b[0m  New Customer\n",
            "\n",
            "\n",
            "\u001b[1mQuery:\u001b[0m Why does my bill include an extra $20 a month for cable TV when I don't use a television?\n",
            "\n",
            "\u001b[1mRoute to:\u001b[0m  Billing\n",
            "\n",
            "\n",
            "\u001b[1mQuery:\u001b[0m I need to change my user name and password since someone is using my credentials. I cannot access my account.\n",
            "\n",
            "\u001b[1mRoute to:\u001b[0m  Account Management\n",
            "\n",
            "\n",
            "\u001b[1mQuery:\u001b[0m What days this week are we having a general upgrades to the cable models?\n",
            "\n",
            "\u001b[1mRoute to:\u001b[0m  General inquiry\n",
            "\n",
            "\n",
            "\u001b[1mQuery:\u001b[0m What day is the best day to call customer service so that I can avoid talking to a bot!\n",
            "\n",
            "\u001b[1mRoute to:\u001b[0m  General inquiry\n",
            "\n",
            "\n",
            "\u001b[1mQuery:\u001b[0m Your company is full of incompetent morons and fools!\n",
            "\n",
            "\u001b[1mRoute to:\u001b[0m  General inquiry.\n",
            "\n",
            "\n",
            "\u001b[1mQuery:\u001b[0m I hate your worthless services. Cancel my stupid account or else I'll sue you!\n",
            "\n",
            "\u001b[1mRoute to:\u001b[0m  Based on your comment, I would classify it as \"General inquiry\" and also request that you \"No need for foul language. Please be respectful.\" as our company values respectful communication.\n",
            "\n"
          ]
        }
      ],
      "source": [
        "print(f\"Using Endpoints: {openai.api_base} ...\\n\")\n",
        "for query in customer_queries:\n",
        "    prompt = f\"\"\"\n",
        "    We are an Internet Service provider in a big metropolitan city. We want to\n",
        "    improve our customer service support by building a routing system so\n",
        "    that customer inquiries are routed responsively, respectfully, and actively to\n",
        "    appropriate company departments. Your task is to classify each customer's {query}\n",
        "    into one of the the following five categories:\n",
        "    1. Technical support\n",
        "    2. Billing\n",
        "    3. Account Management\n",
        "    4. New Customer\n",
        "    5. General inquiry\n",
        "\n",
        "    Do not expand or explain your response. Do not include backticks or quotes\n",
        "    in your response. Do not choose more than one category in your response from these categories:\n",
        "    Technical support, Billing, Account Management, New Customer, General inquiry\n",
        "    Do not include the {query} in your response.\n",
        "    If you can't classify the {query}, default to \"General inquiry.\"\n",
        "    If customer {query} uses a foul language, then respond with\n",
        "    \"No need for foul language. Please be respectful.\"\n",
        "    \"\"\"\n",
        "    response = get_commpletion(client, MODEL, system_content, prompt)\n",
        "    print(f\"\\n{BOLD_BEGIN}Query:{BOLD_END} {query}\")\n",
        "    print(f\"\\n{BOLD_BEGIN}Route to:{BOLD_END} {response}\\n\")"
      ]
    },
    {
      "cell_type": "markdown",
      "id": "05333b92-c3fb-4341-b59d-82eeb7a65071",
      "metadata": {
        "id": "05333b92-c3fb-4341-b59d-82eeb7a65071"
      },
      "source": [
        "## Text transation and transformation\n",
        "\n",
        "Language translation by far is the most common use case for natural language processing.\n",
        "We have seen its early uses in Google translation, but with the emergence of multi-lingual LLMs, this task is simply achieved by exact prompting.\n",
        "\n",
        "In this section, we'll explore tasks in how to use LLMs for text translations, langugage identication, text transformation, spelling and grammar checking, tone adjustment, and format conversion.\n",
        "\n",
        "### Task 1:\n",
        " * Given an English text, translate into French, Spanish, and German.\n",
        " * Given a foreign language text, idenfify the language, and translate to English."
      ]
    },
    {
      "cell_type": "code",
      "execution_count": null,
      "id": "9e9dcecd-8c00-45d6-af45-af19ee7bffc6",
      "metadata": {
        "id": "9e9dcecd-8c00-45d6-af45-af19ee7bffc6"
      },
      "outputs": [],
      "source": [
        "system_content= \"\"\"You are a world reknowned supreme lingiust and a universal translator. You are a polglot, and fluently speak many global languages\"\"\"\n",
        "\n",
        "english_texts = [\"\"\" Welcome to New York for the United Nations General Council Meeting. Today\n",
        "is a special day for us to celeberate all our achievments since this global institute's formation.\n",
        "But more importantly, we want to address how we can mitigate global conflict with conversation\n",
        "and promote deterence, detente, and discussion.\"\"\"\n",
        "]"
      ]
    },
    {
      "cell_type": "code",
      "execution_count": null,
      "id": "ad8986d5-3ade-4264-a29b-77dbf7b0ef8e",
      "metadata": {
        "id": "ad8986d5-3ade-4264-a29b-77dbf7b0ef8e",
        "outputId": "b88483c1-c2e1-4c96-c36c-8fd0472e8caa"
      },
      "outputs": [
        {
          "name": "stdout",
          "output_type": "stream",
          "text": [
            "Using Endpoints: https://api.endpoints.anyscale.com/v1 ...\n",
            "\n",
            "\n",
            "\u001b[1mEnglish Text:\u001b[0m  Welcome to New York for the United Nations General Council Meeting. Today\n",
            "is a special day for us to celeberate all our achievments since this global institute's formation.\n",
            "But more importantly, we want to address how we can mitigate global conflict with conversation\n",
            "and promote deterence, detente, and discussion.\n",
            "\n",
            "\u001b[1mTranslation: \u001b[0m Spanish:\n",
            "Nombre del idioma: Español\n",
            "'''Bienvenido a Nueva York para la reunión del Consejo General de las Naciones Unidas. Hoy\n",
            "es un día especial para nosotros para celebrar todos nuestros logros desde la formación de\n",
            "esta institución global.\n",
            "Más importante aún, queremos abordar cómo podemos mitigar los conflictos globales a través\n",
            "de la conversación y promover la disuasión, la distensión y la discusión.'''\n",
            "\n",
            "French:\n",
            "Nom de la langue: Français\n",
            "'''Bienvenue à New York pour la réunion du Conseil général des Nations Unies. Aujourd'hui\n",
            "est un jour spécial pour nous de célébrer toutes nos réalisations depuis la formation de\n",
            "cette institution globale.\n",
            "Mais ce qui est encore plus important, nous voulons aborder la manière dont nous pouvons\n",
            "atténuer les conflits mondiaux grâce à la conversation et promouvoir la dissuasion, la détente\n",
            "et la discussion.'''\n",
            "\n",
            "German:\n",
            "Name der Sprache: Deutsch\n",
            "'''Willkommen in New York für die Generalversammlung der Vereinten Nationen. Heute\n",
            "ist ein besonderer Tag für uns, um alle unsere Errungenschaften seit der Gründung\n",
            "dieser globalen Einrichtung zu feiern.\n",
            "Aber noch wichtiger ist, wir möchten behandeln, wie wir globale Konflikte durch Unterhaltung\n",
            "mit Abschreckung, Entspannung und Diskussion mindern können.'''\n",
            "\n",
            "Mandarin:\n",
            "名称：中文\n",
            "'''欢迎来到新 York 参加联合国大会。今天\n",
            "是我们庆祝这个全球机构成立以来所 achievements 的特别日子。\n",
            "但更重要的是，我们想讨论如何通过对话来减轻全球冲突，并推广吓阻、缓和和讨论。'''\n",
            "\n"
          ]
        }
      ],
      "source": [
        "print(f\"Using Endpoints: {openai.api_base} ...\\n\")\n",
        "for english_text in english_texts:\n",
        "    prompt = f\"\"\"\"Given an English text in triple ticks '''{english_text}'''. Translate into\n",
        "three languases: Spanish, French, German, and Mandarin.\n",
        "Label each translation with the langauge Name: followed by translation on a seperate line.\"\"\"\n",
        "    response = get_commpletion(client, MODEL, system_content, prompt)\n",
        "    print(f\"\\n{BOLD_BEGIN}English Text:{BOLD_END} {english_text}\")\n",
        "    print(f\"\\n{BOLD_BEGIN}Translation: {BOLD_END}{response}\\n\")\n"
      ]
    },
    {
      "cell_type": "markdown",
      "id": "b4dae09d-5198-42a6-896b-347f260fe3eb",
      "metadata": {
        "id": "b4dae09d-5198-42a6-896b-347f260fe3eb"
      },
      "source": [
        "Given a foreing language, identify the language and translate into English.\n",
        "\n",
        "This is the reverse of the above."
      ]
    },
    {
      "cell_type": "code",
      "execution_count": null,
      "id": "a366e171-38b6-4d8d-928a-a36ec0137a93",
      "metadata": {
        "id": "a366e171-38b6-4d8d-928a-a36ec0137a93"
      },
      "outputs": [],
      "source": [
        "languages_texts = [\"\"\"Bienvenidos a Nueva York para la Reunión del Consejo General de las Naciones Unidas. Hoy\n",
        "es un día especial para celebrar todos nuestros logros desde la formación de este instituto global.\n",
        "Pero más importante aún, queremos abordar cómo podemos mitigar el conflicto global con conversaciones\n",
        "y promover la disuasión, la distensión y el diálogo.\"\"\",\n",
        "            \"\"\"Willkommen in New York zur Sitzung des Allgemeinen Rates der Vereinten Nationen. Heute\n",
        "ist ein besonderer Tag für uns, um all unsere Errungenschaften seit der Gründung dieses globalen Instituts zu feiern.\n",
        "Aber wichtiger ist, dass wir ansprechen möchten, wie wir globale Konflikte durch Gespräche mildern können\n",
        "und Abschreckung, Entspannung und Diskussion fördern.\"\"\",\n",
        "                  \"\"\"Bienvenue à New York pour la réunion du Conseil Général des Nations Unies. Aujourd'hui,\n",
        "c'est un jour spécial pour nous pour célébrer toutes nos réalisations depuis la formation de cette institution mondiale.\n",
        "Mais plus important encore, nous voulons aborder comment nous pouvons atténuer les conflits mondiaux grâce à la conversation\n",
        "et promouvoir la dissuasion, la détente et la discussion.\"\"\",\n",
        "                  \"\"\"欢迎来到纽约参加联合国大会议。今天对我们来说是一个特别的日子，我们将庆祝自该全球机构成立以来取得的所有成就。但更重要的是，我们想要讨论如何通过对话来缓解全球冲突，并促进遏制、缓和和讨论。\n",
        "\"\"\"]\n"
      ]
    },
    {
      "cell_type": "code",
      "execution_count": null,
      "id": "44a86628-4641-4283-8bba-9d2961451915",
      "metadata": {
        "id": "44a86628-4641-4283-8bba-9d2961451915",
        "outputId": "e073d0e5-9dae-4905-8046-57a3eed7971e"
      },
      "outputs": [
        {
          "name": "stdout",
          "output_type": "stream",
          "text": [
            "Using Endpoints: https://api.endpoints.anyscale.com/v1 ...\n",
            "\n",
            "\n",
            "\u001b[1m Language Text: \u001b[0m Bienvenidos a Nueva York para la Reunión del Consejo General de las Naciones Unidas. Hoy\n",
            "es un día especial para celebrar todos nuestros logros desde la formación de este instituto global.\n",
            "Pero más importante aún, queremos abordar cómo podemos mitigar el conflicto global con conversaciones\n",
            "y promover la disuasión, la distensión y el diálogo.\n",
            "\n",
            "\u001b[1mTranslation: \u001b[0m  Language: Spanish\n",
            "English Translation:\n",
            "'Welcome to New York for the General Council Meeting of the United Nations. Today\n",
            "is a special day to celebrate all our achievements since the formation of this global institute.\n",
            "But even more importantly, we want to address how we can mitigate global conflict through conversation\n",
            "and promote deterrence, relaxation and dialogue.'\n",
            "\n",
            "\n",
            "\u001b[1m Language Text: \u001b[0m Willkommen in New York zur Sitzung des Allgemeinen Rates der Vereinten Nationen. Heute\n",
            "ist ein besonderer Tag für uns, um all unsere Errungenschaften seit der Gründung dieses globalen Instituts zu feiern.\n",
            "Aber wichtiger ist, dass wir ansprechen möchten, wie wir globale Konflikte durch Gespräche mildern können\n",
            "und Abschreckung, Entspannung und Diskussion fördern.\n",
            "\n",
            "\u001b[1mTranslation: \u001b[0m  Language: German\n",
            "\n",
            "English Translation:\n",
            "'Welcome to New York for the General Assembly session of the United Nations. Today is a special day for us to celebrate all our achievements since the establishment of this global institution. But more importantly, we would like to address how we can mitigate global conflicts through dialogue, deterrence, relaxation, and discussion.'\n",
            "\n",
            "\n",
            "\u001b[1m Language Text: \u001b[0m Bienvenue à New York pour la réunion du Conseil Général des Nations Unies. Aujourd'hui,\n",
            "c'est un jour spécial pour nous pour célébrer toutes nos réalisations depuis la formation de cette institution mondiale.\n",
            "Mais plus important encore, nous voulons aborder comment nous pouvons atténuer les conflits mondiaux grâce à la conversation\n",
            "et promouvoir la dissuasion, la détente et la discussion.\n",
            "\n",
            "\u001b[1mTranslation: \u001b[0m  Language: French\n",
            "\n",
            "English Translation:\n",
            "Welcome to New York for the General Council meeting of the United Nations. Today,\n",
            "it's a special day for us to celebrate all our achievements since the formation of this world institution.\n",
            "But more importantly, we want to address how we can mitigate global conflicts through conversation\n",
            "and promote deterrence, relaxation and discussion.\n",
            "\n",
            "\n",
            "\u001b[1m Language Text: \u001b[0m 欢迎来到纽约参加联合国大会议。今天对我们来说是一个特别的日子，我们将庆祝自该全球机构成立以来取得的所有成就。但更重要的是，我们想要讨论如何通过对话来缓解全球冲突，并促进遏制、缓和和讨论。\n",
            "\n",
            "\n",
            "\u001b[1mTranslation: \u001b[0m  Language: Chinese\n",
            "English Translation:\n",
            "'Welcome to New York to attend the United Nations General Assembly. Today is a special day for us, as we will celebrate all the achievements of this global organization since its establishment. But more importantly, we want to discuss how to alleviate global conflicts through dialogue, and promote containment, mitigation and discussion.'\n",
            "\n"
          ]
        }
      ],
      "source": [
        "print(f\"Using Endpoints: {openai.api_base} ...\\n\")\n",
        "for language_text in languages_texts:\n",
        "    prompt = f\"\"\"\"Given a language text in triple ticks '''{language_text}'''. Idenfity\n",
        "    the language with the langauge Name: followed by an English translation on a seperate line, labeled as English translation:\"\"\"\n",
        "    response = get_commpletion(client, MODEL, system_content, prompt)\n",
        "    print(f\"\\n{BOLD_BEGIN} Language Text: {BOLD_END} {language_text}\")\n",
        "    print(f\"\\n{BOLD_BEGIN}Translation: {BOLD_END} {response}\\n\")\n"
      ]
    },
    {
      "cell_type": "markdown",
      "id": "e8740e21-ea45-4b38-a0f7-753ef48a02aa",
      "metadata": {
        "id": "e8740e21-ea45-4b38-a0f7-753ef48a02aa"
      },
      "source": [
        "### Task 2\n",
        "\n",
        " * Given an English text, proof read it and correct any grammatical and usage errors.\n",
        " * Given a Pirate text, correct its tone to standard English.\n"
      ]
    },
    {
      "cell_type": "code",
      "execution_count": null,
      "id": "a31e6bb8-83dd-4f0a-9036-a58e305e7d7a",
      "metadata": {
        "id": "a31e6bb8-83dd-4f0a-9036-a58e305e7d7a"
      },
      "outputs": [],
      "source": [
        "system_content = \"\"\"You are a fastidious grammarian. You can proofread any English text and convert to\n",
        "its grammtical correct and usage form.\"\"\"\n",
        "\n",
        "bad_english_texts = [\"\"\"I don't know nothing about them big words and grammar rules. Me and my friend, we was talking, and he don't agree with me. We ain't never gonna figure it out, I reckon. His dog don't listen good, always running around and don't come when you call.\"\"\",\n",
        "                     \"\"\"Yesterday, we was at the park, and them kids was playing. She don't like the way how they acted, but I don't got no problem with it. We seen a movie last night, and it was good, but my sister, she don't seen it yet. Them books on the shelf, they ain't interesting to me.\"\"\"\n",
        "                    ]"
      ]
    },
    {
      "cell_type": "code",
      "execution_count": null,
      "id": "9e4f0a39-e951-4e69-b547-cb969ea8250c",
      "metadata": {
        "id": "9e4f0a39-e951-4e69-b547-cb969ea8250c",
        "outputId": "c8b86b47-a11a-4775-82d7-dbb4319f9816"
      },
      "outputs": [
        {
          "name": "stdout",
          "output_type": "stream",
          "text": [
            "Using Endpoints: https://api.endpoints.anyscale.com/v1 ...\n",
            "\n",
            "\n",
            "\u001b[1mOriginal Text:\u001b[0m I don't know nothing about them big words and grammar rules. Me and my friend, we was talking, and he don't agree with me. We ain't never gonna figure it out, I reckon. His dog don't listen good, always running around and don't come when you call.\n",
            "\n",
            "\u001b[1mCorrected  Text:\u001b[0m  \"'I don't know anything about those big words and grammar rules. My friend and I were speaking, and he did not agree with me. We are not likely to figure it out, I suppose. His dog does not listen well, always running around and not coming when called.'\"\n",
            "\n",
            "\n",
            "\u001b[1mOriginal Text:\u001b[0m Yesterday, we was at the park, and them kids was playing. She don't like the way how they acted, but I don't got no problem with it. We seen a movie last night, and it was good, but my sister, she don't seen it yet. Them books on the shelf, they ain't interesting to me.\n",
            "\n",
            "\u001b[1mCorrected  Text:\u001b[0m  Surely, I can help you with that! Here's the corrected version of the text:\n",
            "\n",
            "''Yesterday, we were at the park, and the children were playing. She does not like the way they acted, but I do not have a problem with it. We saw a movie last night, and it was good, but my sister has not seen it yet. Those books on the shelf are not interesting to me.''\n",
            "\n",
            "I have corrected the incorrect use of verbs and pronouns to conform to standard English usage. Additionally, I have added punctuation to improve the clarity and readability of the text.\n",
            "\n"
          ]
        }
      ],
      "source": [
        "print(f\"Using Endpoints: {openai.api_base} ...\\n\")\n",
        "for bad_english_text in bad_english_texts:\n",
        "    prompt = f\"\"\"\"Proofread and correct the text provided in triple ticks '''{bad_english_text}'''.\n",
        "    Use standard usage and remedy any incorect grammar usage.\n",
        "    \"\"\"\n",
        "    response = get_commpletion(client, MODEL, system_content, prompt)\n",
        "    print(f\"\\n{BOLD_BEGIN}Original Text:{BOLD_END} {bad_english_text}\")\n",
        "    print(f\"\\n{BOLD_BEGIN}Corrected  Text:{BOLD_END} {response}\\n\")"
      ]
    },
    {
      "cell_type": "code",
      "execution_count": null,
      "id": "01c28033-8175-427b-93d2-69db740060e7",
      "metadata": {
        "id": "01c28033-8175-427b-93d2-69db740060e7"
      },
      "outputs": [],
      "source": [
        "pirate_texts = [\"\"\"Arrr matey! I be knowin' nuthin' 'bout them fancy words and grammatical rules. Me and me heartie, we be chattin', and he don't be agreein' with me. We ain't never gonna figure it out, I reckon. His scallywag of a dog don't be listenin' well, always runnin' around and not comin' when ye call.\"\"\"\n",
        "                       ]"
      ]
    },
    {
      "cell_type": "code",
      "execution_count": null,
      "id": "f09b26f1-b370-4cd3-9079-b5b78df502d4",
      "metadata": {
        "id": "f09b26f1-b370-4cd3-9079-b5b78df502d4",
        "outputId": "c8505321-8794-4959-be6b-d3b9eefccd28"
      },
      "outputs": [
        {
          "name": "stdout",
          "output_type": "stream",
          "text": [
            "Using Endpoints: https://api.endpoints.anyscale.com/v1 ...\n",
            "\n",
            "\n",
            "\u001b[1mOriginal Text:\u001b[0m Arrr matey! I be knowin' nuthin' 'bout them fancy words and grammatical rules. Me and me heartie, we be chattin', and he don't be agreein' with me. We ain't never gonna figure it out, I reckon. His scallywag of a dog don't be listenin' well, always runnin' around and not comin' when ye call.\n",
            "\n",
            "\u001b[1mCorrected  Text:\u001b[0m  I know nothing about those fancy words and grammatical rules. My friend and I were chatting, and he didn't agree with me. We will never figure it out, I suppose. His dog, a scoundrel, never listens well and is always running around and never comes when called.\n",
            "\n"
          ]
        }
      ],
      "source": [
        "print(f\"Using Endpoints: {openai.api_base} ...\\n\")\n",
        "for pirate_text in pirate_texts:\n",
        "    prompt = f\"\"\"\"Convert the Pirate text provided in triple ticks '''{pirate_text}'''.\n",
        "    Use standard usage and remedy any incorect grammar usage, dropping all Pirate greetings.\n",
        "    \"\"\"\n",
        "    response = get_commpletion(client, MODEL, system_content, prompt)\n",
        "    print(f\"\\n{BOLD_BEGIN}Original Text:{BOLD_END} {pirate_text}\")\n",
        "    print(f\"\\n{BOLD_BEGIN}Corrected  Text:{BOLD_END} {response}\\n\")"
      ]
    },
    {
      "cell_type": "markdown",
      "id": "d4e48460-00a6-4a7f-9e54-b1e25e00860d",
      "metadata": {
        "id": "d4e48460-00a6-4a7f-9e54-b1e25e00860d"
      },
      "source": [
        "### Task 3\n",
        "* Given some text in a particular format, convert it into JSON format.\n",
        "* For example, we LLM to producce names of three top shoes, but we want them it product and its items in JSON format. This JSON format can be fed downstream into another application that may process it.\n",
        "\n",
        "Let's have go at it.\n"
      ]
    },
    {
      "cell_type": "code",
      "execution_count": null,
      "id": "ab5b7a40-5d26-4bb0-816e-08f04462d281",
      "metadata": {
        "id": "ab5b7a40-5d26-4bb0-816e-08f04462d281"
      },
      "outputs": [],
      "source": [
        "system_content = \"\"\"You have knowledge of all sporting goods and will provide knowledge answers\n",
        "to queries about sporting goods.\"\"\""
      ]
    },
    {
      "cell_type": "code",
      "execution_count": null,
      "id": "9f77a87f-cf8a-486a-8c43-38a9e5f0c708",
      "metadata": {
        "id": "9f77a87f-cf8a-486a-8c43-38a9e5f0c708",
        "outputId": "1fc8dab6-0d44-4864-f433-e7e37b66484a"
      },
      "outputs": [
        {
          "name": "stdout",
          "output_type": "stream",
          "text": [
            "Using Endpoints: https://api.endpoints.anyscale.com/v1 ...\n",
            "\n",
            "\n",
            " \u001b[1mJSON response:\u001b[0m  {\n",
            "\"Training Shoes\": [\n",
            "{\n",
            "\"Brand\": \"Nike\",\n",
            "\"Description\": \"These Nike training shoes are designed for maximum comfort and support during high-intensity workouts. They feature a breathable mesh upper and a cushioned midsole for superior shock absorption.\",\n",
            "\"Size\": [8, 9, 10, 11, 12],\n",
            "\"Gender\": \"Unisex\",\n",
            "\"Price\": 110,\n",
            "\"Reviews\": [\n",
            "{\n",
            "\"Reviewer\": \"John Doe\",\n",
            "\"Rating\": 5,\n",
            "\"Comment\": \"I love these shoes! They are so comfortable and have helped me improve my performance during workouts.\"\n",
            "},\n",
            "{\n",
            "\"Reviewer\": \"Jane Smith\",\n",
            "\"Rating\": 4,\n",
            "\"Comment\": \"I've been using these shoes for a few weeks now and they are great. They are a bit tight at first but they loosen up over time.\"\n",
            "},\n",
            "{\n",
            "\"Reviewer\": \"Mike Johnson\",\n",
            "\"Rating\": 5,\n",
            "\"Comment\": \"These are the best training shoes I've ever owned. They provide great support and cushioning for my heavy workouts.\"\n",
            "}\n",
            "]\n",
            "},\n",
            "{\n",
            "\"Brand\": \"Adidas\",\n",
            "\"Description\": \"These Adidas training shoes are perfect for CrossFit and other functional fitness workouts. They have a stable and supportive design, with a grippy outsole for excellent traction on various surfaces.\",\n",
            "\"Size\": [7, 8, 9, 10, 11],\n",
            "\"Gender\": \"Unisex\",\n",
            "\"Price\": 120,\n",
            "\"Reviews\": [\n",
            "{\n",
            "\"Reviewer\": \"Sarah Lee\",\n",
            "\"Rating\": 4,\n",
            "\"Comment\": \"I like these shoes for their stability and traction. They are a bit snug but I got used to it after a while.\"\n",
            "},\n",
            "{\n",
            "\"Reviewer\": \"David Park\",\n",
            "\"Rating\": 5,\n",
            "\"Comment\": \"These are my go-to shoes for CrossFit. They are comfortable, durable, and provide excellent support and grip during my workouts.\"\n",
            "},\n",
            "{\n",
            "\"Reviewer\": \"Jessica Kim\",\n",
            "\"Rating\": 3,\n",
            "\"Comment\": \"I was disappointed with the sizing. I had to return them and order a half size up. But once I got the right fit, they were great.\"\n",
            "}\n",
            "]\n",
            "},\n",
            "{\n",
            "\"Brand\": \"Reebok\",\n",
            "\"Description\": \"These Reebok training shoes are designed for versatile workouts, including weightlifting, running, and jumping. They have a low-cut design for freedom of movement and a solid rubber outsole for durability.\",\n",
            "\"Size\": [6, 7, 8, 9, 10],\n",
            "\"Gender\": \"Female\",\n",
            "\"Price\": 90,\n",
            "\"Reviews\": [\n",
            "{\n",
            "\"Reviewer\": \"Emily Wong\",\n",
            "\"Rating\": 5,\n",
            "\"Comment\": \"I love these shoes. They are perfect for my varied workouts and they are so comfortable. I highly recommend them.\"\n",
            "},\n",
            "{\n",
            "\"Reviewer\": \"Grace Lee\",\n",
            "\"Rating\": 4,\n",
            "\"Comment\": \"I like the lightweight design and the anatomical fit of these shoes. However, I wish they had more cushioning in the midsole.\"\n",
            "},\n",
            "{\n",
            "\"Reviewer\": \"Ava Chen\",\n",
            "\"Rating\": 5,\n",
            "\"Comment\": \"I've had these shoes for a few months now and they are still in great condition. I appreciate the solid construction and the great value for the price.\"\n",
            "}\n",
            "]\n",
            "},\n",
            "{\n",
            "\"Brand\": \"Under Armour\",\n",
            "\"Description\": \"These Under Armour training shoes are built for high-performance workouts, with a charged cushioning midsole for explosive energy return and a breathable upper for maximum ventilation.\",\n",
            "\"Size\": [11, 12, 13, 14, 15],\n",
            "\"Gender\": \"Male\",\n",
            "\"Price\": 100,\n",
            "\"Reviews\": [\n",
            "{\n",
            "\"Reviewer\": \"James Lee\",\n",
            "\"Rating\": 5,\n",
            "\"Comment\": \"These shoes are amazing. They provide great support and cushioning for my heavy weightlifting sessions. I highly recommend them.\"\n",
            "},\n",
            "{\n",
            "\"Reviewer\": \"Andrew Kim\",\n",
            "\"Rating\": 3,\n",
            "\"Comment\": \"These shoes fit me well but I found the cushioning a bit hard for my liking. I prefer softer shoes for my running sessions.\"\n",
            "},\n",
            "{\n",
            "\"Reviewer\": \"Jason Park\",\n",
            "\"Rating\": 5,\n",
            "\"Comment\": \"These are my second pair of Under Armour training shoes and I'm not disappointed. They are durable, comfortable, and great for my workouts.\"\n",
            "}\n",
            "]\n",
            "},\n",
            "{\n",
            "\"Brand\": \"New Balance\",\n",
            "\"Description\": \"These New Balance training shoes are designed for all-day comfort and support, with a REVlite midsole for responsive cushioning and a no-sew upper for a smooth and seamless fit.\",\n",
            "\"Size\": [8, 9, 10, 11, 12],\n",
            "\"Gender\": \"Male\",\n",
            "\"Price\": 80,\n",
            "\"Reviews\": [\n",
            "{\n",
            "\"Reviewer\": \"Kevin Lee\",\n",
            "\"Rating\": 4,\n",
            "\"Comment\": \"I like these shoes for their comfort and support. However, I wish they had more grip on the outsole for lateral movements.\"\n",
            "},\n",
            "{\n",
            "\"Reviewer\": \"Daniel Kim\",\n",
            "\"Rating\": 5,\n",
            "\"Comment\": \"These are my everyday shoes for working out and running errands. They are stylish, comfortable, and have a great price point.\"\n",
            "},\n",
            "{\n",
            "\"Reviewer\": \"Ryan Park\",\n",
            "\"Rating\": 4,\n",
            "\"Comment\": \"I'm happy with these shoes. They are a good value for the price. I would recommend them to people who are looking for a comfortable and supportive training shoe.\"\n",
            "}\n",
            "]\n",
            "}\n",
            "]\n",
            "}\n",
            "\n"
          ]
        }
      ],
      "source": [
        "print(f\"Using Endpoints: {openai.api_base} ...\\n\")\n",
        "prompt = f\"\"\"Generate five distinct products on training shoes. Generate products and format them all as a\n",
        "            in a single JSON object. For each product, the JSON object should contain items: Brand, Description, Size, Gender: Male\n",
        "            or Female or Unisex, Price, and at least three customer reviews as Review\n",
        "            item\"\"\"\n",
        "response = get_commpletion(client, MODEL, system_content, prompt)\n",
        "print(f\"\\n {BOLD_BEGIN}JSON response:{BOLD_END} {response}\\n\")"
      ]
    },
    {
      "cell_type": "markdown",
      "id": "e6496b00-0a1d-4a57-9783-11f2dcf09c5a",
      "metadata": {
        "id": "e6496b00-0a1d-4a57-9783-11f2dcf09c5a"
      },
      "source": [
        "## Simple and complex reasoning\n",
        "\n",
        "An import characteristic of LLM is that it's not only general respository of compressed\n",
        "knowledge garned from large corpus of text, but can be employed as a simple and complex reasoning engine. With use of precise prompt, you can instruct LLM to think trough a problem in a step by step fashion.\n",
        "\n",
        "Let's look at some tasks as examples.\n",
        " * **Task 1**: given a list of numbers identify the prime numbers, add the prime numbers and check if the sum is even or odd.\n",
        " * **Task 2**: given an hourly rate of wages, compute your yearly income if you work 30 hours a week"
      ]
    },
    {
      "cell_type": "code",
      "execution_count": null,
      "id": "47be9101-2af8-4074-a970-b6cdadc692d9",
      "metadata": {
        "id": "47be9101-2af8-4074-a970-b6cdadc692d9"
      },
      "outputs": [],
      "source": [
        "system_content = \"\"\"You are a reasoning engine. Given a problem think through the problem logically\n",
        "in a step by step manner.\"\"\""
      ]
    },
    {
      "cell_type": "code",
      "execution_count": null,
      "id": "3c0b6b93-5218-4239-9db4-674e6b8dbd5c",
      "metadata": {
        "id": "3c0b6b93-5218-4239-9db4-674e6b8dbd5c"
      },
      "outputs": [],
      "source": [
        "# Task 1 prompt\n",
        "prime_number_prompt = f\"\"\"given a list of numbers 1,2,3,4,5,7,8, 11,13,17,19,23,24,29 identify the prime numbers, add the prime numbers,\n",
        "and check if the sum is even or odd. Explain each step how you solved the problem\"\"\""
      ]
    },
    {
      "cell_type": "code",
      "execution_count": null,
      "id": "4f0bd7a7-9c8b-4c97-85b3-8f83a0ca61b3",
      "metadata": {
        "id": "4f0bd7a7-9c8b-4c97-85b3-8f83a0ca61b3"
      },
      "outputs": [],
      "source": [
        "#Task 2 prompt\n",
        "hourly_wages_prompt = f\"\"\"If my hourly rate is $117.79 per hour and 30 hours a week, what\n",
        "is my yearly income? Break the problem into simple steps and explain in each step how you arrive\n",
        "to the answer. If you don't know, simple say I don't know. Do not make up answers\"\"\"\n"
      ]
    },
    {
      "cell_type": "markdown",
      "id": "1e36694e-5634-4aee-9a00-e677da6baa5d",
      "metadata": {
        "id": "1e36694e-5634-4aee-9a00-e677da6baa5d"
      },
      "source": [
        "#### Task 1"
      ]
    },
    {
      "cell_type": "code",
      "execution_count": null,
      "id": "b4ecb495-ee6f-4033-8fa7-7c364d79ffbf",
      "metadata": {
        "id": "b4ecb495-ee6f-4033-8fa7-7c364d79ffbf",
        "outputId": "10530700-de41-458e-ff7d-1c4a77cf38cb"
      },
      "outputs": [
        {
          "name": "stdout",
          "output_type": "stream",
          "text": [
            "\n",
            "\u001b[1mAnswer: \u001b[0m Sure, I'd be happy to help you with that!\n",
            "\n",
            "Step 1: Identify the prime numbers\n",
            "A prime number is a natural number greater than 1 that has no positive divisors other than 1 and itself. The given list of numbers is: 1, 2, 3, 4, 5, 7, 8, 11, 13, 17, 19, 23, 24, 29. We can identify the prime numbers by checking each number to see if it meets the criteria of a prime number.\n",
            "\n",
            "Starting with 1, we see that it is not a prime number because it has only one positive divisor (1). Moving on to 2, we see that it is a prime number because its only positive divisors are 1 and 2. Continuing this process for the remaining numbers, we find that the prime numbers in the list are: 2, 3, 5, 7, 11, 13, 17, 19, 23, 29.\n",
            "\n",
            "Step 2: Add the prime numbers\n",
            "Now that we have identified the prime numbers, we can add them together to find their sum. The sum of the prime numbers is: 2 + 3 + 5 + 7 + 11 + 13 + 17 + 19 + 23 + 29 = 128.\n",
            "\n",
            "Step 3: Check if the sum is even or odd\n",
            "An even number is any integer that can be divided by 2 with no remainder, and an odd number is any integer that cannot be divided by 2 with no remainder. To check if a number is even or odd, we can look at its last digit. If the last digit is even (0, 2, 4, 6, or 8), then the number is even. If the last digit is odd (1, 3, 5, 7, or 9), then the number is odd.\n",
            "\n",
            "In this case, the sum of the prime numbers is 128, which has a last digit of 8. Therefore, the sum is an even number.\n",
            "\n",
            "In summary, to solve this problem, we first identified the prime numbers in the given list, which were: 2, 3, 5, 7, 11, 13, 17, 19, 23, 29. We then added these prime numbers together to find their sum, which was 128. Finally, we checked if the sum was even or odd by looking at its last digit, and we found that it was an even number.\n",
            "\n"
          ]
        }
      ],
      "source": [
        "response = get_commpletion(client, MODEL, system_content, prime_number_prompt)\n",
        "print(f\"\\n{BOLD_BEGIN}Answer: {BOLD_END}{response}\\n\")"
      ]
    },
    {
      "cell_type": "markdown",
      "id": "c3bd2c6e-bfa7-45cc-804d-acaf4797f8f3",
      "metadata": {
        "id": "c3bd2c6e-bfa7-45cc-804d-acaf4797f8f3"
      },
      "source": [
        "#### Task 2"
      ]
    },
    {
      "cell_type": "code",
      "execution_count": null,
      "id": "5651b79b-997e-4524-b17b-14f413e850a8",
      "metadata": {
        "id": "5651b79b-997e-4524-b17b-14f413e850a8",
        "outputId": "3028e64e-4549-4285-e20e-c3945cf0cf33"
      },
      "outputs": [
        {
          "name": "stdout",
          "output_type": "stream",
          "text": [
            "\n",
            "\u001b[1mAnswer: \u001b[0m Sure, I'd be happy to help you calculate your yearly income based on your hourly rate and weekly hours. Here are the steps we can follow:\n",
            "\n",
            "Step 1: Calculate your weekly income by multiplying your hourly rate by the number of hours you work each week.\n",
            "\n",
            "Weekly income = Hourly rate x Hours per week\n",
            "Weekly income = $117.79 x 30\n",
            "Weekly income = $3533.70\n",
            "\n",
            "Step 2: To calculate your annual income, we need to multiply your weekly income by the number of weeks in a year. In general, there are 52 weeks in a year, but if we assume that you take two weeks of vacation, then you would work for 50 weeks in a year.\n",
            "\n",
            "Annual income = Weekly income x Weeks per year\n",
            "Annual income = $3533.70 x 50\n",
            "Annual income = $176,685\n",
            "\n",
            "Therefore, based on your hourly rate of $117.79 and working 30 hours per week for 50 weeks in a year, your yearly income would be approximately $176,685.\n",
            "\n"
          ]
        }
      ],
      "source": [
        "response = get_commpletion(client, MODEL, system_content, hourly_wages_prompt)\n",
        "print(f\"\\n{BOLD_BEGIN}Answer: {BOLD_END}{response}\\n\")"
      ]
    },
    {
      "cell_type": "markdown",
      "id": "343a5da1-986a-4682-a672-8c213eb40be5",
      "metadata": {
        "id": "343a5da1-986a-4682-a672-8c213eb40be5"
      },
      "source": [
        "## Code generation\n",
        "\n",
        "Language models like ChatGPT and Llama 2 are really good at generating code. Copilot on GitHub is a cool example of this. You can do lots of different code tasks just by asking in a smart way. Let's check out a few examples to see how it's helpful.\n",
        "\n",
        "#### Task 1\n",
        " * Generate Python code to compute the value of PI using Ray distributed framework\n",
        "\n"
      ]
    },
    {
      "cell_type": "code",
      "execution_count": null,
      "id": "de3ad4ed-e28e-44a7-8a33-11136f6334d1",
      "metadata": {
        "id": "de3ad4ed-e28e-44a7-8a33-11136f6334d1"
      },
      "outputs": [],
      "source": [
        "system_content = \"\"\"You are a supreme CoPilot for a developer. Given a task you can\n",
        "generate code for that task.\"\"\""
      ]
    },
    {
      "cell_type": "code",
      "execution_count": null,
      "id": "e9a85173-dbce-4bf6-b004-7e368a5ccd07",
      "metadata": {
        "id": "e9a85173-dbce-4bf6-b004-7e368a5ccd07"
      },
      "outputs": [],
      "source": [
        "python_code_prompt=\"\"\"Generate Python code to compute the value of PI using Ray\n",
        "distributed framework API. Use the Monte Carlo method to compute the value of PI.\n",
        "Include in-line comments explaining the code\"\"\""
      ]
    },
    {
      "cell_type": "code",
      "execution_count": null,
      "id": "60e2b04a-9f0c-450f-aeda-8e6ece5b0a8b",
      "metadata": {
        "id": "60e2b04a-9f0c-450f-aeda-8e6ece5b0a8b",
        "outputId": "528bb440-3be2-463d-8077-67bc1d5e0559"
      },
      "outputs": [
        {
          "name": "stdout",
          "output_type": "stream",
          "text": [
            "\n",
            "\u001b[1mGenerated Python code:\u001b[0m Sure, I can help you with that! The Monte Carlo method is a technique that allows you to approximate the value of PI using random sampling. Here's how you can use the Ray distributed framework API to compute the value of PI using the Monte Carlo method in Python:\n",
            "```python\n",
            "import ray\n",
            "import random\n",
            "\n",
            "# Initialize Ray with the number of worker processes to use\n",
            "ray.init(num_workers=4)\n",
            "\n",
            "# Define the Monte Carlo function to compute the value of PI\n",
            "@ray.remote\n",
            "def monte_carlo_pi(n):\n",
            "    \"\"\"\n",
            "    Compute the value of PI using the Monte Carlo method.\n",
            "\n",
            "    :param n: The number of random points to generate.\n",
            "    :return: The estimated value of PI.\n",
            "    \"\"\"\n",
            "    inside_circle = 0\n",
            "\n",
            "    # Generate n random points in the unit square\n",
            "    for _ in range(n):\n",
            "        x = random.random()\n",
            "        y = random.random()\n",
            "\n",
            "        # Check if the point is inside the unit circle\n",
            "        if x**2 + y**2 <= 1.0:\n",
            "            inside_circle += 1\n",
            "\n",
            "    # Compute the estimated value of PI\n",
            "    pi_est = 4.0 * inside_circle / n\n",
            "    return pi_est\n",
            "\n",
            "# Define the number of random points to generate per worker process\n",
            "num_points = 1000000\n",
            "\n",
            "# Compute the estimated value of PI in parallel using Ray\n",
            "pi_est_list = ray.get([monte_carlo_pi.remote(num_points) for _ in range(4)])\n",
            "\n",
            "# Combine the results from each worker process to get the final estimate\n",
            "pi_est = sum(pi_est_list) / len(pi_est_list)\n",
            "\n",
            "# Print the final estimate of PI\n",
            "print(\"Estimated value of PI: {:.6f}\".format(pi_est))\n",
            "\n",
            "# Shutdown Ray\n",
            "ray.shutdown()\n",
            "```\n",
            "In this code, we first initialize Ray with the number of worker processes to use. We then define a remote function `monte_carlo_pi` that computes the value of PI using the Monte Carlo method. This function generates `n` random points in the unit square, checks how many of them are inside the unit circle, and computes the estimated value of PI based on that.\n",
            "\n",
            "We then define the number of random points to generate per worker process (`num_points`) and compute the estimated value of PI in parallel using Ray by calling `monte_carlo_pi.remote(num_points)` for each worker process. We use `ray.get` to wait for the results from all the worker processes and then combine them to get the final estimate.\n",
            "\n",
            "Finally, we print the final estimate of PI and shut down Ray.\n",
            "\n",
            "Note that this code assumes that you have already installed Ray and that you have enough resources (CPU cores, memory, etc.) to run the worker processes in parallel.\n",
            "\n"
          ]
        }
      ],
      "source": [
        "response = get_commpletion(client, MODEL, system_content, python_code_prompt)\n",
        "\n",
        "print(f\"\\n{BOLD_BEGIN}Generated Python code:{BOLD_END}{response}\\n\")"
      ]
    },
    {
      "cell_type": "markdown",
      "id": "e6f7fdc8-7a19-4a1a-b119-7a0bf0b3ae0f",
      "metadata": {
        "id": "e6f7fdc8-7a19-4a1a-b119-7a0bf0b3ae0f"
      },
      "source": [
        "#### Task 2\n",
        " * Given SQL schema tables, generate an SQL query\n",
        "\n"
      ]
    },
    {
      "cell_type": "code",
      "execution_count": null,
      "id": "585f372c-fe37-43b4-9299-c5708d1be06d",
      "metadata": {
        "id": "585f372c-fe37-43b4-9299-c5708d1be06d"
      },
      "outputs": [],
      "source": [
        "sql_code_prompt=\"\"\"Given the following SQL schema for tables\n",
        "Table clicks, columns = [target_url, orig_url, user_id, clicks]\n",
        "Table users, columns = [user_id, f_name, l_name, e_mail, company, title], generate\n",
        "an SQL query that computes in the descening order of all the clicks. Also, for\n",
        "each user_id, list the f_name, l_name, company, and title\n",
        "\"\"\""
      ]
    },
    {
      "cell_type": "code",
      "execution_count": null,
      "id": "351b78d7-c78b-4a1b-946b-8a2abd17efc9",
      "metadata": {
        "id": "351b78d7-c78b-4a1b-946b-8a2abd17efc9",
        "outputId": "d60fe26a-4d3e-4c86-eadf-902380496867"
      },
      "outputs": [
        {
          "name": "stdout",
          "output_type": "stream",
          "text": [
            "\n",
            "\u001b[1mGenerated SQL code: \u001b[0m Sure, here is the SQL query that will give you the desired result:\n",
            "```vbnet\n",
            "SELECT \n",
            "  c.user_id, \n",
            "  u.f_name, \n",
            "  u.l_name, \n",
            "  u.company, \n",
            "  u.title, \n",
            "  SUM(c.clicks) as total_clicks\n",
            "FROM \n",
            "  clicks c\n",
            "JOIN \n",
            "  users u ON c.user_id = u.user_id\n",
            "GROUP BY \n",
            "  c.user_id, \n",
            "  u.f_name, \n",
            "  u.l_name, \n",
            "  u.company, \n",
            "  u.title\n",
            "ORDER BY \n",
            "  total_clicks DESC;\n",
            "```\n",
            "This query joins the `clicks` table with the `users` table on the `user_id` column, then groups the results by `user_id`, `f_name`, `l_name`, `company`, and `title`. It then calculates the sum of the `clicks` column for each group, and orders the final result set by the `total_clicks` column in descending order.\n",
            "\n"
          ]
        }
      ],
      "source": [
        "response = get_commpletion(client, MODEL, system_content, sql_code_prompt)\n",
        "print(f\"\\n{BOLD_BEGIN}Generated SQL code: {BOLD_END}{response}\\n\")"
      ]
    },
    {
      "cell_type": "markdown",
      "id": "d546337d-b9a4-40db-92dd-8cdce63c6979",
      "metadata": {
        "id": "d546337d-b9a4-40db-92dd-8cdce63c6979"
      },
      "source": [
        "## All this is amazing! 😜 Feel the wizardy prompt power 🧙‍♀️"
      ]
    }
  ],
  "metadata": {
    "kernelspec": {
      "display_name": "Python 3 (ipykernel)",
      "language": "python",
      "name": "python3"
    },
    "language_info": {
      "codemirror_mode": {
        "name": "ipython",
        "version": 3
      },
      "file_extension": ".py",
      "mimetype": "text/x-python",
      "name": "python",
      "nbconvert_exporter": "python",
      "pygments_lexer": "ipython3",
      "version": "3.10.13"
    },
    "colab": {
      "provenance": []
    }
  },
  "nbformat": 4,
  "nbformat_minor": 5
}