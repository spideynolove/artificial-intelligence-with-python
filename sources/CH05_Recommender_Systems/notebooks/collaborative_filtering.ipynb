{
 "cells": [
  {
   "cell_type": "code",
   "execution_count": 11,
   "metadata": {},
   "outputs": [],
   "source": [
    "import argparse\n",
    "import json\n",
    "import numpy as np\n",
    "from compute_scores import pearson_score"
   ]
  },
  {
   "cell_type": "code",
   "execution_count": null,
   "metadata": {},
   "outputs": [],
   "source": []
  },
  {
   "cell_type": "code",
   "execution_count": 12,
   "metadata": {},
   "outputs": [],
   "source": [
    "def build_arg_parser():\n",
    "    parser = argparse.ArgumentParser(description='Find users who are similar to the input user')\n",
    "    parser.add_argument('--user', dest='user', required=True,\n",
    "            help='Input user')\n",
    "    return parser"
   ]
  },
  {
   "cell_type": "code",
   "execution_count": 13,
   "metadata": {},
   "outputs": [],
   "source": [
    "# Finds users in the dataset that are similar to the input user \n",
    "def find_similar_users(dataset, user, num_users):\n",
    "    if user not in dataset:\n",
    "        raise TypeError('Cannot find ' + user + ' in the dataset')\n",
    "\n",
    "    # Compute Pearson score between input user \n",
    "    # and all the users in the dataset\n",
    "    scores = np.array([[x, pearson_score(dataset, user, \n",
    "            x)] for x in dataset if x != user])\n",
    "\n",
    "    # Sort the scores in decreasing order\n",
    "    scores_sorted = np.argsort(scores[:, 1])[::-1]\n",
    "\n",
    "    # Extract the top 'num_users' scores\n",
    "    top_users = scores_sorted[:num_users] \n",
    "\n",
    "    return scores[top_users] "
   ]
  },
  {
   "cell_type": "code",
   "execution_count": 14,
   "metadata": {},
   "outputs": [],
   "source": [
    "# args = build_arg_parser().parse_args()\n",
    "# user = args.user"
   ]
  },
  {
   "cell_type": "code",
   "execution_count": 15,
   "metadata": {},
   "outputs": [],
   "source": [
    "# user = \"Clarissa Jackson\"\n",
    "user = \"Bill Duffy\""
   ]
  },
  {
   "cell_type": "code",
   "execution_count": 16,
   "metadata": {},
   "outputs": [
    {
     "name": "stdout",
     "output_type": "stream",
     "text": [
      "Users similar to Bill Duffy:\n",
      "\n",
      "User\t\t\tSimilarity score\n",
      "-----------------------------------------\n",
      "David Smith \t\t 0.99\n",
      "Samuel Miller \t\t 0.88\n",
      "Adam Cohen \t\t 0.86\n"
     ]
    }
   ],
   "source": [
    "\n",
    "\n",
    "ratings_file = '../aiwp-data/ratings_05.json'\n",
    "\n",
    "with open(ratings_file, 'r') as f:\n",
    "    data = json.loads(f.read())\n",
    "\n",
    "print('Users similar to ' + user + ':\\n')\n",
    "similar_users = find_similar_users(data, user, 3) \n",
    "print('User\\t\\t\\tSimilarity score')\n",
    "print('-'*41)\n",
    "for item in similar_users:\n",
    "    print(item[0], '\\t\\t', round(float(item[1]), 2))"
   ]
  }
 ],
 "metadata": {
  "kernelspec": {
   "display_name": "data-science-k2Ak_Bao",
   "language": "python",
   "name": "python3"
  },
  "language_info": {
   "codemirror_mode": {
    "name": "ipython",
    "version": 3
   },
   "file_extension": ".py",
   "mimetype": "text/x-python",
   "name": "python",
   "nbconvert_exporter": "python",
   "pygments_lexer": "ipython3",
   "version": "3.11.4"
  },
  "orig_nbformat": 4
 },
 "nbformat": 4,
 "nbformat_minor": 2
}
