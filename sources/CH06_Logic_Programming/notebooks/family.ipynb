{
 "cells": [
  {
   "cell_type": "code",
   "execution_count": 23,
   "metadata": {},
   "outputs": [],
   "source": [
    "import json\n",
    "from logpy import Relation, facts, run, conde, var, eq"
   ]
  },
  {
   "cell_type": "code",
   "execution_count": 24,
   "metadata": {},
   "outputs": [],
   "source": [
    "# Check if 'x' is the parent of 'y'\n",
    "def parent(x, y):\n",
    "    return conde([father(x, y)], [mother(x, y)])\n",
    "\n",
    "\n",
    "# Check if 'x' is the grandparent of 'y'\n",
    "def grandparent(x, y):\n",
    "    temp = var()\n",
    "    return conde((parent(x, temp), parent(temp, y)))\n",
    "\n",
    "\n",
    "# Check for sibling relationship between 'a' and 'b'\n",
    "def sibling(x, y):\n",
    "    temp = var()\n",
    "    return conde((parent(temp, x), parent(temp, y)))\n",
    "\n",
    "\n",
    "# Check if x is y's uncle\n",
    "def uncle(x, y):\n",
    "    temp = var()\n",
    "    return conde((father(temp, x), grandparent(temp, y)))"
   ]
  },
  {
   "cell_type": "code",
   "execution_count": 25,
   "metadata": {},
   "outputs": [],
   "source": [
    "father = Relation()\n",
    "mother = Relation()"
   ]
  },
  {
   "cell_type": "code",
   "execution_count": 26,
   "metadata": {},
   "outputs": [],
   "source": [
    "file_relationships = '../aiwp-data/relationships.json'\n",
    "\n",
    "with open(file_relationships) as f:\n",
    "    d = json.loads(f.read())\n",
    "\n"
   ]
  },
  {
   "cell_type": "code",
   "execution_count": 27,
   "metadata": {},
   "outputs": [
    {
     "data": {
      "text/plain": [
       "[{'John': 'William'},\n",
       " {'John': 'David'},\n",
       " {'John': 'Adam'},\n",
       " {'William': 'Chris'},\n",
       " {'William': 'Stephanie'},\n",
       " {'David': 'Wayne'},\n",
       " {'David': 'Tiffany'},\n",
       " {'David': 'Julie'},\n",
       " {'David': 'Neil'},\n",
       " {'David': 'Peter'},\n",
       " {'Adam': 'Sophia'}]"
      ]
     },
     "execution_count": 27,
     "metadata": {},
     "output_type": "execute_result"
    }
   ],
   "source": [
    "d['father']"
   ]
  },
  {
   "cell_type": "code",
   "execution_count": 28,
   "metadata": {},
   "outputs": [
    {
     "data": {
      "text/plain": [
       "[{'Megan': 'William'},\n",
       " {'Megan': 'David'},\n",
       " {'Megan': 'Adam'},\n",
       " {'Emma': 'Stephanie'},\n",
       " {'Emma': 'Chris'},\n",
       " {'Olivia': 'Tiffany'},\n",
       " {'Olivia': 'Julie'},\n",
       " {'Olivia': 'Neil'},\n",
       " {'Olivia': 'Peter'},\n",
       " {'Lily': 'Sophia'}]"
      ]
     },
     "execution_count": 28,
     "metadata": {},
     "output_type": "execute_result"
    }
   ],
   "source": [
    "d['mother']"
   ]
  },
  {
   "cell_type": "code",
   "execution_count": 29,
   "metadata": {},
   "outputs": [],
   "source": [
    "for item in d['father']:\n",
    "    facts(father, (list(item.keys())[0], list(item.values())[0]))\n",
    "\n",
    "for item in d['mother']:\n",
    "    facts(mother, (list(item.keys())[0], list(item.values())[0]))\n"
   ]
  },
  {
   "cell_type": "code",
   "execution_count": 30,
   "metadata": {},
   "outputs": [],
   "source": [
    "x = var()"
   ]
  },
  {
   "cell_type": "code",
   "execution_count": 31,
   "metadata": {},
   "outputs": [
    {
     "name": "stdout",
     "output_type": "stream",
     "text": [
      "List of John's children:\n",
      "Adam\n",
      "David\n",
      "William\n"
     ]
    }
   ],
   "source": [
    "# John's children\n",
    "name = 'John'\n",
    "output = run(0, x, father(name, x))\n",
    "print(\"List of \" + name + \"'s children:\")\n",
    "for item in output:\n",
    "    print(item)"
   ]
  },
  {
   "cell_type": "code",
   "execution_count": 32,
   "metadata": {},
   "outputs": [
    {
     "name": "stdout",
     "output_type": "stream",
     "text": [
      "William's mother:\n",
      "Megan\n"
     ]
    }
   ],
   "source": [
    "# William's mother\n",
    "name = 'William'\n",
    "output = run(0, x, mother(x, name))[0]\n",
    "print(name + \"'s mother:\\n\" + output)"
   ]
  },
  {
   "cell_type": "code",
   "execution_count": 33,
   "metadata": {},
   "outputs": [
    {
     "name": "stdout",
     "output_type": "stream",
     "text": [
      "List of Adam's parents:\n",
      "John\n",
      "Megan\n"
     ]
    }
   ],
   "source": [
    "# Adam's parents\n",
    "name = 'Adam'\n",
    "output = run(0, x, parent(x, name))\n",
    "print(\"List of \" + name + \"'s parents:\")\n",
    "for item in output:\n",
    "    print(item)"
   ]
  },
  {
   "cell_type": "code",
   "execution_count": 34,
   "metadata": {},
   "outputs": [
    {
     "name": "stdout",
     "output_type": "stream",
     "text": [
      "List of Wayne's grandparents:\n",
      "Megan\n",
      "John\n"
     ]
    }
   ],
   "source": [
    "# Wayne's grandparents\n",
    "name = 'Wayne'\n",
    "output = run(0, x, grandparent(x, name))\n",
    "print(\"List of \" + name + \"'s grandparents:\")\n",
    "for item in output:\n",
    "    print(item)"
   ]
  },
  {
   "cell_type": "code",
   "execution_count": 35,
   "metadata": {},
   "outputs": [
    {
     "name": "stdout",
     "output_type": "stream",
     "text": [
      "List of Megan's grandchildren:\n",
      "Peter\n",
      "Sophia\n",
      "Chris\n",
      "Neil\n",
      "Stephanie\n",
      "Julie\n",
      "Tiffany\n",
      "Wayne\n"
     ]
    }
   ],
   "source": [
    "# Megan's grandchildren\n",
    "name = 'Megan'\n",
    "output = run(0, x, grandparent(name, x))\n",
    "print(\"List of \" + name + \"'s grandchildren:\")\n",
    "for item in output:\n",
    "    print(item)"
   ]
  },
  {
   "cell_type": "code",
   "execution_count": 36,
   "metadata": {},
   "outputs": [
    {
     "name": "stdout",
     "output_type": "stream",
     "text": [
      "List of David's siblings:\n",
      "Adam\n",
      "William\n"
     ]
    }
   ],
   "source": [
    "# David's siblings\n",
    "name = 'David'\n",
    "output = run(0, x, sibling(x, name))\n",
    "siblings = [x for x in output if x != name]\n",
    "print(\"List of \" + name + \"'s siblings:\")\n",
    "for item in siblings:\n",
    "    print(item)"
   ]
  },
  {
   "cell_type": "code",
   "execution_count": 37,
   "metadata": {},
   "outputs": [
    {
     "name": "stdout",
     "output_type": "stream",
     "text": [
      "List of Tiffany's uncles:\n",
      "Adam\n",
      "William\n"
     ]
    }
   ],
   "source": [
    "# Tiffany's uncles\n",
    "name = 'Tiffany'\n",
    "name_father = run(0, x, father(x, name))[0]\n",
    "output = run(0, x, uncle(x, name))\n",
    "output = [x for x in output if x != name_father]\n",
    "print(\"List of \" + name + \"'s uncles:\")\n",
    "for item in output:\n",
    "    print(item)"
   ]
  },
  {
   "cell_type": "code",
   "execution_count": 38,
   "metadata": {},
   "outputs": [
    {
     "name": "stdout",
     "output_type": "stream",
     "text": [
      "List of all spouses:\n",
      "Husband: David <==> Wife: Olivia\n",
      "Husband: Adam <==> Wife: Lily\n",
      "Husband: William <==> Wife: Emma\n",
      "Husband: John <==> Wife: Megan\n"
     ]
    }
   ],
   "source": [
    "# All spouses\n",
    "a, b, c = var(), var(), var()\n",
    "output = run(0, (a, b), (father, a, c), (mother, b, c))\n",
    "print(\"List of all spouses:\")\n",
    "for item in output:\n",
    "    print('Husband:', item[0], '<==> Wife:', item[1])"
   ]
  }
 ],
 "metadata": {
  "kernelspec": {
   "display_name": "deep-learning-with-pytorch-So43IQBZ",
   "language": "python",
   "name": "python3"
  },
  "language_info": {
   "codemirror_mode": {
    "name": "ipython",
    "version": 3
   },
   "file_extension": ".py",
   "mimetype": "text/x-python",
   "name": "python",
   "nbconvert_exporter": "python",
   "pygments_lexer": "ipython3",
   "version": "3.7.17"
  },
  "orig_nbformat": 4
 },
 "nbformat": 4,
 "nbformat_minor": 2
}
