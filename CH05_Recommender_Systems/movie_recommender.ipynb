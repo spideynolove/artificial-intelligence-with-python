{
 "cells": [
  {
   "cell_type": "code",
   "execution_count": 1,
   "metadata": {},
   "outputs": [],
   "source": [
    "import argparse\n",
    "import json\n",
    "import numpy as np\n",
    "from compute_scores import pearson_score"
   ]
  },
  {
   "cell_type": "code",
   "execution_count": 2,
   "metadata": {},
   "outputs": [],
   "source": [
    "# Finds users in the dataset that are similar to the input user \n",
    "def find_similar_users(dataset, user, num_users):\n",
    "    if user not in dataset:\n",
    "        raise TypeError('Cannot find ' + user + ' in the dataset')\n",
    "\n",
    "    # Compute Pearson score between input user \n",
    "    # and all the users in the dataset\n",
    "    scores = np.array([[x, pearson_score(dataset, user, \n",
    "            x)] for x in dataset if x != user])\n",
    "\n",
    "    # Sort the scores in decreasing order\n",
    "    scores_sorted = np.argsort(scores[:, 1])[::-1]\n",
    "\n",
    "    # Extract the top 'num_users' scores\n",
    "    top_users = scores_sorted[:num_users] \n",
    "\n",
    "    return scores[top_users] "
   ]
  },
  {
   "cell_type": "code",
   "execution_count": 3,
   "metadata": {},
   "outputs": [],
   "source": [
    "def build_arg_parser():\n",
    "    parser = argparse.ArgumentParser(description='Find the movie recommendations for the given user')\n",
    "    parser.add_argument('--user', dest='user', required=True,\n",
    "            help='Input user')\n",
    "    return parser"
   ]
  },
  {
   "cell_type": "code",
   "execution_count": 4,
   "metadata": {},
   "outputs": [],
   "source": [
    "# Get movie recommendations for the input user\n",
    "def get_recommendations(dataset, input_user):\n",
    "    if input_user not in dataset:\n",
    "        raise TypeError('Cannot find ' + input_user + ' in the dataset')\n",
    "\n",
    "    overall_scores = {}\n",
    "    similarity_scores = {}\n",
    "\n",
    "    for user in [x for x in dataset if x != input_user]:\n",
    "        similarity_score = pearson_score(dataset, input_user, user)\n",
    "\n",
    "        if similarity_score <= 0:\n",
    "            continue\n",
    "        \n",
    "        filtered_list = [x for x in dataset[user] if x not in \\\n",
    "                dataset[input_user] or dataset[input_user][x] == 0]\n",
    "\n",
    "        for item in filtered_list: \n",
    "            overall_scores.update({item: dataset[user][item] * similarity_score})\n",
    "            similarity_scores.update({item: similarity_score})\n",
    "\n",
    "    if len(overall_scores) == 0:\n",
    "        return ['No recommendations possible']\n",
    "\n",
    "    # Generate movie ranks by normalization \n",
    "    movie_scores = np.array([[score/similarity_scores[item], item] \n",
    "            for item, score in overall_scores.items()])\n",
    "\n",
    "    # Sort in decreasing order \n",
    "    movie_scores = movie_scores[np.argsort(movie_scores[:, 0])[::-1]]\n",
    "\n",
    "    # Extract the movie recommendations\n",
    "    movie_recommendations = [movie for _, movie in movie_scores]\n",
    "\n",
    "    return movie_recommendations"
   ]
  },
  {
   "cell_type": "code",
   "execution_count": 5,
   "metadata": {},
   "outputs": [],
   "source": [
    "# args = build_arg_parser().parse_args()\n",
    "# user = args.user"
   ]
  },
  {
   "cell_type": "code",
   "execution_count": 6,
   "metadata": {},
   "outputs": [],
   "source": [
    "ratings_file = '../aiwp-data/ratings_05.json'\n",
    "\n",
    "with open(ratings_file, 'r') as f:\n",
    "    data = json.loads(f.read())"
   ]
  },
  {
   "cell_type": "code",
   "execution_count": 7,
   "metadata": {},
   "outputs": [],
   "source": [
    "users = (\"Julie Hammel\", \"Chris Duncan\")"
   ]
  },
  {
   "cell_type": "code",
   "execution_count": 8,
   "metadata": {},
   "outputs": [
    {
     "name": "stdout",
     "output_type": "stream",
     "text": [
      "\n",
      "Movie recommendations for Julie Hammel:\n",
      "1. The Apartment\n",
      "2. Vertigo\n",
      "3. Raging Bull\n",
      "\n",
      "Movie recommendations for Chris Duncan:\n",
      "1. Vertigo\n",
      "2. Scarface\n",
      "3. Goodfellas\n",
      "4. Roman Holiday\n"
     ]
    }
   ],
   "source": [
    "for user in users:\n",
    "    print(\"\\nMovie recommendations for \" + user + \":\")\n",
    "    movies = get_recommendations(data, user) \n",
    "    for i, movie in enumerate(movies):\n",
    "        print(str(i+1) + '. ' + movie)\n"
   ]
  }
 ],
 "metadata": {
  "kernelspec": {
   "display_name": "data-science-k2Ak_Bao",
   "language": "python",
   "name": "python3"
  },
  "language_info": {
   "codemirror_mode": {
    "name": "ipython",
    "version": 3
   },
   "file_extension": ".py",
   "mimetype": "text/x-python",
   "name": "python",
   "nbconvert_exporter": "python",
   "pygments_lexer": "ipython3",
   "version": "3.11.4"
  },
  "orig_nbformat": 4
 },
 "nbformat": 4,
 "nbformat_minor": 2
}
