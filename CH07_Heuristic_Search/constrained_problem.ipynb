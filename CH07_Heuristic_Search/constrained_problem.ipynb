{
 "cells": [
  {
   "cell_type": "code",
   "execution_count": 8,
   "metadata": {},
   "outputs": [],
   "source": [
    "from simpleai.search import (\n",
    "    CspProblem, backtrack,\n",
    "    min_conflicts, MOST_CONSTRAINED_VARIABLE,\n",
    "    HIGHEST_DEGREE_VARIABLE, LEAST_CONSTRAINING_VALUE\n",
    ")"
   ]
  },
  {
   "cell_type": "code",
   "execution_count": 9,
   "metadata": {},
   "outputs": [],
   "source": [
    "# Constraint that expects all the different variables to have different values\n",
    "def constraint_unique(variables, values):\n",
    "    # Check if all the values are unique\n",
    "    return len(values) == len(set(values))"
   ]
  },
  {
   "cell_type": "code",
   "execution_count": 10,
   "metadata": {},
   "outputs": [],
   "source": [
    "# Constraint that specifies that one variable should be bigger than other\n",
    "def constraint_bigger(variables, values):\n",
    "    return values[0] > values[1]"
   ]
  },
  {
   "cell_type": "code",
   "execution_count": 11,
   "metadata": {},
   "outputs": [],
   "source": [
    "# Constraint that specifies that there should be one odd and one even variables in the two variables\n",
    "def constraint_odd_even(variables, values):\n",
    "    # If first variable is even, then second should be odd and vice versa\n",
    "    return values[1] % 2 == 1 if values[0] % 2 == 0 else values[1] % 2 == 0"
   ]
  },
  {
   "cell_type": "code",
   "execution_count": 12,
   "metadata": {},
   "outputs": [],
   "source": [
    "variables = ('John', 'Anna', 'Tom', 'Patricia')\n",
    "\n",
    "domains = {\n",
    "    'John': [1, 2, 3],\n",
    "    'Anna': [1, 3],\n",
    "    'Tom': [2, 4],\n",
    "    'Patricia': [2, 3, 4],\n",
    "}\n",
    "\n",
    "constraints = [\n",
    "    (('John', 'Anna', 'Tom'), constraint_unique),\n",
    "    (('Tom', 'Anna'), constraint_bigger),\n",
    "    (('John', 'Patricia'), constraint_odd_even),\n",
    "]"
   ]
  },
  {
   "cell_type": "code",
   "execution_count": 13,
   "metadata": {},
   "outputs": [],
   "source": [
    "problem = CspProblem(variables, domains, constraints)"
   ]
  },
  {
   "cell_type": "code",
   "execution_count": 14,
   "metadata": {},
   "outputs": [
    {
     "name": "stdout",
     "output_type": "stream",
     "text": [
      "Solutions:\n",
      "Normal: {'John': 1, 'Anna': 3, 'Tom': 4, 'Patricia': 2}\n",
      "Most constrained variable: {'Anna': 1, 'Tom': 2, 'John': 3, 'Patricia': 2}\n",
      "Highest degree variable: {'John': 1, 'Anna': 3, 'Tom': 4, 'Patricia': 2}\n",
      "Least constraining value: {'John': 1, 'Anna': 3, 'Tom': 4, 'Patricia': 2}\n",
      "Most constrained variable and least constraining value: {'Anna': 1, 'Tom': 2, 'John': 3, 'Patricia': 2}\n",
      "Highest degree and least constraining value: {'John': 1, 'Anna': 3, 'Tom': 4, 'Patricia': 2}\n",
      "Minimum conflicts: {'John': 1, 'Anna': 3, 'Tom': 4, 'Patricia': 2}\n"
     ]
    }
   ],
   "source": [
    "print('Solutions:\\nNormal:', backtrack(problem))\n",
    "print('Most constrained variable:', backtrack(problem,\n",
    "                                                variable_heuristic=MOST_CONSTRAINED_VARIABLE))\n",
    "print('Highest degree variable:', backtrack(problem,\n",
    "                                                variable_heuristic=HIGHEST_DEGREE_VARIABLE))\n",
    "print('Least constraining value:', backtrack(problem,\n",
    "                                                value_heuristic=LEAST_CONSTRAINING_VALUE))\n",
    "print('Most constrained variable and least constraining value:',\n",
    "        backtrack(problem, variable_heuristic=MOST_CONSTRAINED_VARIABLE,\n",
    "                value_heuristic=LEAST_CONSTRAINING_VALUE))\n",
    "print('Highest degree and least constraining value:',\n",
    "        backtrack(problem, variable_heuristic=HIGHEST_DEGREE_VARIABLE,\n",
    "                value_heuristic=LEAST_CONSTRAINING_VALUE))\n",
    "print('Minimum conflicts:', min_conflicts(problem))"
   ]
  }
 ],
 "metadata": {
  "kernelspec": {
   "display_name": "deep-learning-with-pytorch-So43IQBZ",
   "language": "python",
   "name": "python3"
  },
  "language_info": {
   "codemirror_mode": {
    "name": "ipython",
    "version": 3
   },
   "file_extension": ".py",
   "mimetype": "text/x-python",
   "name": "python",
   "nbconvert_exporter": "python",
   "pygments_lexer": "ipython3",
   "version": "3.7.17"
  },
  "orig_nbformat": 4
 },
 "nbformat": 4,
 "nbformat_minor": 2
}
