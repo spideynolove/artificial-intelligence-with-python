{
 "cells": [
  {
   "cell_type": "code",
   "execution_count": 1,
   "metadata": {},
   "outputs": [],
   "source": [
    "# import argparse\n",
    "# python greedy_search.py --input-string 'Artificial Intelligence' --initial-state ''\n",
    "\n",
    "import simpleai.search as ss"
   ]
  },
  {
   "cell_type": "code",
   "execution_count": 2,
   "metadata": {},
   "outputs": [],
   "source": [
    "# def build_arg_parser():\n",
    "#     parser = argparse.ArgumentParser(description='Creates the input string \\\n",
    "#             using the greedy algorithm')\n",
    "#     parser.add_argument(\"--input-string\", dest=\"input_string\", required=True,\n",
    "#                         help=\"Input string\")\n",
    "#     parser.add_argument(\"--initial-state\", dest=\"initial_state\", required=False,\n",
    "#                         default='', help=\"Starting point for the search\")\n",
    "#     return parser"
   ]
  },
  {
   "cell_type": "code",
   "execution_count": 3,
   "metadata": {},
   "outputs": [],
   "source": [
    "class CustomProblem(ss.SearchProblem):\n",
    "    def set_target(self, target_string):\n",
    "        self.target_string = target_string\n",
    "\n",
    "    # Check the current state and take the right action\n",
    "    def actions(self, cur_state):\n",
    "        if len(cur_state) < len(self.target_string):\n",
    "            alphabets = 'abcdefghijklmnopqrstuvwxyz'\n",
    "            return list(alphabets + ' ' + alphabets.upper())\n",
    "        else:\n",
    "            return []\n",
    "\n",
    "    # Concatenate state and action to get the result\n",
    "    def result(self, cur_state, action):\n",
    "        return cur_state + action\n",
    "\n",
    "    # Check if goal has been achieved\n",
    "    def is_goal(self, cur_state):\n",
    "        return cur_state == self.target_string\n",
    "\n",
    "    # Define the heuristic that will be used\n",
    "    def heuristic(self, cur_state):\n",
    "        # Compare current string with target string\n",
    "        dist = sum([1 if cur_state[i] != self.target_string[i] else 0\n",
    "                    for i in range(len(cur_state))])\n",
    "\n",
    "        # Difference between the lengths\n",
    "        diff = len(self.target_string) - len(cur_state)\n",
    "\n",
    "        return dist + diff"
   ]
  },
  {
   "cell_type": "code",
   "execution_count": 4,
   "metadata": {},
   "outputs": [],
   "source": [
    "# Initialize the object\n",
    "problem = CustomProblem()"
   ]
  },
  {
   "cell_type": "code",
   "execution_count": 5,
   "metadata": {},
   "outputs": [],
   "source": [
    "# args = build_arg_parser().parse_args()\n",
    "\n",
    "# # Set target string and initial state\n",
    "# problem.set_target(args.input_string)\n",
    "# problem.initial_state = args.initial_state"
   ]
  },
  {
   "cell_type": "code",
   "execution_count": 6,
   "metadata": {},
   "outputs": [],
   "source": [
    "# input_string = 'Artificial Intelligence'\n",
    "input_string = 'Reinforcement learning'\n",
    "initial_state = ''"
   ]
  },
  {
   "cell_type": "code",
   "execution_count": 7,
   "metadata": {},
   "outputs": [],
   "source": [
    "# Set target string and initial state\n",
    "problem.set_target(input_string)\n",
    "problem.initial_state = initial_state"
   ]
  },
  {
   "cell_type": "code",
   "execution_count": 8,
   "metadata": {},
   "outputs": [
    {
     "name": "stdout",
     "output_type": "stream",
     "text": [
      "\n",
      "Target string: Reinforcement learning\n",
      "\n",
      "Path to the solution:\n",
      "(None, '')\n",
      "('R', 'R')\n",
      "('e', 'Re')\n",
      "('i', 'Rei')\n",
      "('n', 'Rein')\n",
      "('f', 'Reinf')\n",
      "('o', 'Reinfo')\n",
      "('r', 'Reinfor')\n",
      "('c', 'Reinforc')\n",
      "('e', 'Reinforce')\n",
      "('m', 'Reinforcem')\n",
      "('e', 'Reinforceme')\n",
      "('n', 'Reinforcemen')\n",
      "('t', 'Reinforcement')\n",
      "(' ', 'Reinforcement ')\n",
      "('l', 'Reinforcement l')\n",
      "('e', 'Reinforcement le')\n",
      "('a', 'Reinforcement lea')\n",
      "('r', 'Reinforcement lear')\n",
      "('n', 'Reinforcement learn')\n",
      "('i', 'Reinforcement learni')\n",
      "('n', 'Reinforcement learnin')\n",
      "('g', 'Reinforcement learning')\n"
     ]
    }
   ],
   "source": [
    "# Solve the problem\n",
    "output = ss.greedy(problem)\n",
    "\n",
    "# print('\\nTarget string:', args.input_string)\n",
    "print('\\nTarget string:', input_string)\n",
    "print('\\nPath to the solution:')\n",
    "for item in output.path():\n",
    "    print(item)"
   ]
  }
 ],
 "metadata": {
  "kernelspec": {
   "display_name": "deep-learning-with-pytorch-So43IQBZ",
   "language": "python",
   "name": "python3"
  },
  "language_info": {
   "codemirror_mode": {
    "name": "ipython",
    "version": 3
   },
   "file_extension": ".py",
   "mimetype": "text/x-python",
   "name": "python",
   "nbconvert_exporter": "python",
   "pygments_lexer": "ipython3",
   "version": "3.7.17"
  },
  "orig_nbformat": 4
 },
 "nbformat": 4,
 "nbformat_minor": 2
}
