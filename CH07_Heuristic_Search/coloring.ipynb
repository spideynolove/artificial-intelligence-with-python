{
 "cells": [
  {
   "cell_type": "code",
   "execution_count": 6,
   "metadata": {},
   "outputs": [],
   "source": [
    "from simpleai.search import CspProblem, backtrack"
   ]
  },
  {
   "cell_type": "code",
   "execution_count": 7,
   "metadata": {},
   "outputs": [],
   "source": [
    "# Define the function that imposes the constraint that neighbors should be different\n",
    "def constraint_func(names, values):\n",
    "    return values[0] != values[1]  "
   ]
  },
  {
   "cell_type": "code",
   "execution_count": 8,
   "metadata": {},
   "outputs": [],
   "source": [
    "# Specify the variables\n",
    "names = ('Mark', 'Julia', 'Steve', 'Amanda', 'Brian', \n",
    "        'Joanne', 'Derek', 'Allan', 'Michelle', 'Kelly')\n",
    "\n",
    "# Define the possible colors \n",
    "colors = dict((name, ['red', 'green', 'blue', 'gray']) for name in names)\n",
    "\n",
    "# Define the constraints \n",
    "constraints = [\n",
    "    (('Mark', 'Julia'), constraint_func),\n",
    "    (('Mark', 'Steve'), constraint_func),\n",
    "    (('Julia', 'Steve'), constraint_func),\n",
    "    (('Julia', 'Amanda'), constraint_func),\n",
    "    (('Julia', 'Derek'), constraint_func),\n",
    "    (('Julia', 'Brian'), constraint_func),\n",
    "    (('Steve', 'Amanda'), constraint_func),\n",
    "    (('Steve', 'Allan'), constraint_func),\n",
    "    (('Steve', 'Michelle'), constraint_func),\n",
    "    (('Amanda', 'Michelle'), constraint_func),\n",
    "    (('Amanda', 'Joanne'), constraint_func),\n",
    "    (('Amanda', 'Derek'), constraint_func),\n",
    "    (('Brian', 'Derek'), constraint_func),\n",
    "    (('Brian', 'Kelly'), constraint_func),\n",
    "    (('Joanne', 'Michelle'), constraint_func),\n",
    "    (('Joanne', 'Amanda'), constraint_func),\n",
    "    (('Joanne', 'Derek'), constraint_func),\n",
    "    (('Joanne', 'Kelly'), constraint_func),\n",
    "    (('Derek', 'Kelly'), constraint_func),\n",
    "]"
   ]
  },
  {
   "cell_type": "code",
   "execution_count": 9,
   "metadata": {},
   "outputs": [],
   "source": [
    "# Solve the problem\n",
    "problem = CspProblem(names, colors, constraints)"
   ]
  },
  {
   "cell_type": "code",
   "execution_count": 10,
   "metadata": {},
   "outputs": [
    {
     "name": "stdout",
     "output_type": "stream",
     "text": [
      "Color mapping:\n",
      "\n",
      "Mark ==> red\n",
      "Julia ==> green\n",
      "Steve ==> blue\n",
      "Amanda ==> red\n",
      "Brian ==> red\n",
      "Joanne ==> green\n",
      "Derek ==> blue\n",
      "Allan ==> red\n",
      "Michelle ==> gray\n",
      "Kelly ==> gray\n"
     ]
    }
   ],
   "source": [
    "# Print the solution\n",
    "output = backtrack(problem)\n",
    "print('Color mapping:\\n')\n",
    "for k, v in output.items():\n",
    "    print(k, '==>', v)"
   ]
  }
 ],
 "metadata": {
  "kernelspec": {
   "display_name": "deep-learning-with-pytorch-So43IQBZ",
   "language": "python",
   "name": "python3"
  },
  "language_info": {
   "codemirror_mode": {
    "name": "ipython",
    "version": 3
   },
   "file_extension": ".py",
   "mimetype": "text/x-python",
   "name": "python",
   "nbconvert_exporter": "python",
   "pygments_lexer": "ipython3",
   "version": "3.7.17"
  },
  "orig_nbformat": 4
 },
 "nbformat": 4,
 "nbformat_minor": 2
}
