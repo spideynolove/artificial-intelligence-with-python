{
 "cells": [
  {
   "cell_type": "code",
   "execution_count": 2,
   "metadata": {},
   "outputs": [],
   "source": [
    "import heapq"
   ]
  },
  {
   "cell_type": "code",
   "execution_count": 3,
   "metadata": {},
   "outputs": [],
   "source": [
    "# Define the goal state of the 8-puzzle\n",
    "goal_state = (1, 2, 3, 4, 5, 6, 7, 8, 0)\n",
    "\n",
    "# Define the possible moves (up, down, left, right)\n",
    "moves = [(0, -1), (0, 1), (-1, 0), (1, 0)]"
   ]
  },
  {
   "cell_type": "code",
   "execution_count": 4,
   "metadata": {},
   "outputs": [],
   "source": [
    "def manhattan_distance(state):\n",
    "    # Calculate the Manhattan distance heuristic for a given state\n",
    "    distance = 0\n",
    "    for i in range(9):\n",
    "        if state[i] == 0:\n",
    "            continue\n",
    "        goal_row, goal_col = (state[i] - 1) // 3, (state[i] - 1) % 3\n",
    "        current_row, current_col = i // 3, i % 3\n",
    "        distance += abs(goal_row - current_row) + abs(goal_col - current_col)\n",
    "    return distance"
   ]
  },
  {
   "cell_type": "code",
   "execution_count": 5,
   "metadata": {},
   "outputs": [],
   "source": [
    "def get_neighbors(state):\n",
    "    # Generate neighboring states for a given state\n",
    "    empty_index = state.index(0)\n",
    "    neighbors = []\n",
    "\n",
    "    for move in moves:\n",
    "        new_index = (empty_index // 3 + move[0]) * 3 + (empty_index % 3 + move[1])\n",
    "        if 0 <= new_index < 9:\n",
    "            neighbor = list(state)\n",
    "            neighbor[empty_index], neighbor[new_index] = neighbor[new_index], neighbor[empty_index]\n",
    "            neighbors.append(tuple(neighbor))\n",
    "\n",
    "    return neighbors"
   ]
  },
  {
   "cell_type": "code",
   "execution_count": 6,
   "metadata": {},
   "outputs": [],
   "source": [
    "def a_star_search(initial_state):\n",
    "    open_set = [(manhattan_distance(initial_state), initial_state)]\n",
    "    came_from = {}\n",
    "    g_score = {initial_state: 0}\n",
    "\n",
    "    while open_set:\n",
    "        _, current_state = heapq.heappop(open_set)\n",
    "\n",
    "        if current_state == goal_state:\n",
    "            path = []\n",
    "            while current_state in came_from:\n",
    "                path.insert(0, current_state)\n",
    "                current_state = came_from[current_state]\n",
    "            return path\n",
    "\n",
    "        for neighbor_state in get_neighbors(current_state):\n",
    "            tentative_g = g_score[current_state] + 1\n",
    "            if neighbor_state not in g_score or tentative_g < g_score[neighbor_state]:\n",
    "                came_from[neighbor_state] = current_state\n",
    "                g_score[neighbor_state] = tentative_g\n",
    "                f_score = tentative_g + manhattan_distance(neighbor_state)\n",
    "                heapq.heappush(open_set, (f_score, neighbor_state))\n",
    "\n",
    "    return None"
   ]
  },
  {
   "cell_type": "code",
   "execution_count": 7,
   "metadata": {},
   "outputs": [
    {
     "name": "stdout",
     "output_type": "stream",
     "text": [
      "Solution Path:\n",
      "Step 1:\n",
      "(1, 2, 3)\n",
      "(4, 5, 6)\n",
      "(7, 8, 0)\n",
      "\n"
     ]
    }
   ],
   "source": [
    "# Example: Solve an 8-puzzle\n",
    "initial_state = (1, 2, 3, 4, 5, 0, 7, 8, 6)\n",
    "solution_path = a_star_search(initial_state)\n",
    "\n",
    "if solution_path:\n",
    "    print(\"Solution Path:\")\n",
    "    for step, state in enumerate(solution_path):\n",
    "        print(f\"Step {step + 1}:\\n{state[:3]}\\n{state[3:6]}\\n{state[6:]}\\n\")\n",
    "else:\n",
    "    print(\"No solution found.\")"
   ]
  },
  {
   "cell_type": "code",
   "execution_count": 1,
   "metadata": {},
   "outputs": [
    {
     "name": "stdout",
     "output_type": "stream",
     "text": [
      "Solution found:\n",
      "{'C': 'Blue', 'B': 'Green', 'D': 'Red', 'E': 'Green', 'A': 'Red', 'F': 'Blue'}\n",
      "{'C': 'Blue', 'B': 'Green', 'D': 'Red', 'E': 'Green', 'A': 'Red', 'F': 'Red'}\n",
      "{'C': 'Blue', 'B': 'Red', 'D': 'Green', 'E': 'Red', 'A': 'Green', 'F': 'Green'}\n",
      "{'C': 'Blue', 'B': 'Red', 'D': 'Green', 'E': 'Red', 'A': 'Green', 'F': 'Blue'}\n",
      "{'C': 'Green', 'B': 'Blue', 'D': 'Red', 'E': 'Blue', 'A': 'Red', 'F': 'Red'}\n",
      "{'C': 'Green', 'B': 'Blue', 'D': 'Red', 'E': 'Blue', 'A': 'Red', 'F': 'Green'}\n",
      "{'C': 'Green', 'B': 'Red', 'D': 'Blue', 'E': 'Red', 'A': 'Blue', 'F': 'Blue'}\n",
      "{'C': 'Green', 'B': 'Red', 'D': 'Blue', 'E': 'Red', 'A': 'Blue', 'F': 'Green'}\n",
      "{'C': 'Red', 'B': 'Green', 'D': 'Blue', 'E': 'Green', 'A': 'Blue', 'F': 'Red'}\n",
      "{'C': 'Red', 'B': 'Green', 'D': 'Blue', 'E': 'Green', 'A': 'Blue', 'F': 'Blue'}\n",
      "{'C': 'Red', 'B': 'Blue', 'D': 'Green', 'E': 'Blue', 'A': 'Green', 'F': 'Green'}\n",
      "{'C': 'Red', 'B': 'Blue', 'D': 'Green', 'E': 'Blue', 'A': 'Green', 'F': 'Red'}\n"
     ]
    }
   ],
   "source": [
    "from constraint import Problem\n",
    "\n",
    "# Define the regions and their neighbors\n",
    "regions = [\"A\", \"B\", \"C\", \"D\", \"E\", \"F\"]\n",
    "neighbors = {\n",
    "    \"A\": [\"B\", \"C\"],\n",
    "    \"B\": [\"A\", \"C\", \"D\"],\n",
    "    \"C\": [\"A\", \"B\", \"D\", \"E\"],\n",
    "    \"D\": [\"B\", \"C\", \"E\"],\n",
    "    \"E\": [\"C\", \"D\", \"F\"],\n",
    "    \"F\": [\"E\"]\n",
    "}\n",
    "\n",
    "# Create a CSP problem\n",
    "problem = Problem()\n",
    "\n",
    "# Define the domain (possible colors) for each region\n",
    "colors = [\"Red\", \"Green\", \"Blue\"]\n",
    "for region in regions:\n",
    "    problem.addVariable(region, colors)\n",
    "\n",
    "# Add constraints to ensure no two adjacent regions have the same color\n",
    "for region in regions:\n",
    "    for neighbor in neighbors[region]:\n",
    "        problem.addConstraint(lambda x, y: x != y, (region, neighbor))\n",
    "\n",
    "# Find a solution to the CSP problem\n",
    "solutions = problem.getSolutions()\n",
    "\n",
    "if solutions:\n",
    "    print(\"Solution found:\")\n",
    "    for solution in solutions:\n",
    "        print(solution)\n",
    "else:\n",
    "    print(\"No solution found.\")"
   ]
  }
 ],
 "metadata": {
  "kernelspec": {
   "display_name": "deep-learning-with-pytorch-So43IQBZ",
   "language": "python",
   "name": "python3"
  },
  "language_info": {
   "codemirror_mode": {
    "name": "ipython",
    "version": 3
   },
   "file_extension": ".py",
   "mimetype": "text/x-python",
   "name": "python",
   "nbconvert_exporter": "python",
   "pygments_lexer": "ipython3",
   "version": "3.7.17"
  },
  "orig_nbformat": 4
 },
 "nbformat": 4,
 "nbformat_minor": 2
}
