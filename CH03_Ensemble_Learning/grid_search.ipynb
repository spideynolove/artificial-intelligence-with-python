{
 "cells": [
  {
   "cell_type": "code",
   "execution_count": 1,
   "metadata": {},
   "outputs": [],
   "source": [
    "from sklearn.metrics import classification_report\n",
    "from sklearn.ensemble import ExtraTreesClassifier\n",
    "from sklearn.model_selection import train_test_split, GridSearchCV"
   ]
  },
  {
   "cell_type": "code",
   "execution_count": 2,
   "metadata": {},
   "outputs": [],
   "source": [
    "import numpy as np\n",
    "import matplotlib.pyplot as plt\n",
    "\n",
    "\n",
    "def visualize_classifier(classifier, X, y, title=''):\n",
    "    # Define the minimum and maximum values for X and Y\n",
    "    # that will be used in the mesh grid\n",
    "    min_x, max_x = X[:, 0].min() - 1.0, X[:, 0].max() + 1.0\n",
    "    min_y, max_y = X[:, 1].min() - 1.0, X[:, 1].max() + 1.0\n",
    "\n",
    "    # Define the step size to use in plotting the mesh grid \n",
    "    mesh_step_size = 0.01\n",
    "\n",
    "    # Define the mesh grid of X and Y values\n",
    "    x_vals, y_vals = np.meshgrid(np.arange(min_x, max_x, mesh_step_size), np.arange(min_y, max_y, mesh_step_size))\n",
    "\n",
    "    # Run the classifier on the mesh grid\n",
    "    output = classifier.predict(np.c_[x_vals.ravel(), y_vals.ravel()])\n",
    "\n",
    "    # Reshape the output array\n",
    "    output = output.reshape(x_vals.shape)\n",
    "\n",
    "    # Create a plot\n",
    "    plt.figure()\n",
    "\n",
    "    # Specify the title\n",
    "    plt.title(title)\n",
    "\n",
    "    # Choose a color scheme for the plot \n",
    "    plt.pcolormesh(x_vals, y_vals, output, cmap=plt.cm.gray)\n",
    "\n",
    "    # Overlay the training points on the plot \n",
    "    plt.scatter(X[:, 0], X[:, 1], c=y, s=75, edgecolors='black', linewidth=1, cmap=plt.cm.Paired)\n",
    "\n",
    "    # Specify the boundaries of the plot\n",
    "    plt.xlim(x_vals.min(), x_vals.max())\n",
    "    plt.ylim(y_vals.min(), y_vals.max())\n",
    "\n",
    "    # Specify the ticks on the X and Y axes\n",
    "    plt.xticks((np.arange(int(X[:, 0].min() - 1), int(X[:, 0].max() + 1), 1.0)))\n",
    "    plt.yticks((np.arange(int(X[:, 1].min() - 1), int(X[:, 1].max() + 1), 1.0)))\n",
    "\n",
    "    plt.show()"
   ]
  },
  {
   "cell_type": "code",
   "execution_count": 3,
   "metadata": {},
   "outputs": [],
   "source": [
    "# Load input data\n",
    "input_file = '../aiwp-data/data_random_forests.txt'\n",
    "data = np.loadtxt(input_file, delimiter=',')\n",
    "X, y = data[:, :-1], data[:, -1]"
   ]
  },
  {
   "cell_type": "code",
   "execution_count": 4,
   "metadata": {},
   "outputs": [],
   "source": [
    "# Separate input data into three classes based on labels\n",
    "class_0 = np.array(X[y == 0])\n",
    "class_1 = np.array(X[y == 1])\n",
    "class_2 = np.array(X[y == 2])"
   ]
  },
  {
   "cell_type": "code",
   "execution_count": 5,
   "metadata": {},
   "outputs": [],
   "source": [
    "\n",
    "# Split the data into training and testing datasets\n",
    "X_train, X_test, y_train, y_test = train_test_split(\n",
    "    X, y, test_size=0.25, random_state=5)"
   ]
  },
  {
   "cell_type": "code",
   "execution_count": 7,
   "metadata": {},
   "outputs": [
    {
     "name": "stdout",
     "output_type": "stream",
     "text": [
      "##### Searching optimal parameters for precision_weighted\n",
      "Best parameters: {'max_depth': 2, 'n_estimators': 100}\n",
      "Performance report:\n",
      "\n",
      "              precision    recall  f1-score   support\n",
      "\n",
      "         0.0       0.94      0.81      0.87        79\n",
      "         1.0       0.81      0.86      0.83        70\n",
      "         2.0       0.83      0.91      0.87        76\n",
      "\n",
      "    accuracy                           0.86       225\n",
      "   macro avg       0.86      0.86      0.86       225\n",
      "weighted avg       0.86      0.86      0.86       225\n",
      "\n",
      "##### Searching optimal parameters for recall_weighted\n",
      "Best parameters: {'max_depth': 2, 'n_estimators': 100}\n",
      "Performance report:\n",
      "\n",
      "              precision    recall  f1-score   support\n",
      "\n",
      "         0.0       0.94      0.81      0.87        79\n",
      "         1.0       0.81      0.86      0.83        70\n",
      "         2.0       0.83      0.91      0.87        76\n",
      "\n",
      "    accuracy                           0.86       225\n",
      "   macro avg       0.86      0.86      0.86       225\n",
      "weighted avg       0.86      0.86      0.86       225\n",
      "\n"
     ]
    }
   ],
   "source": [
    "# Define the parameter grid\n",
    "parameter_grid = [{'n_estimators': [100], 'max_depth': [2, 4, 7, 12, 16]},\n",
    "                  {'max_depth': [4], 'n_estimators': [25, 50, 100, 250]}]\n",
    "\n",
    "metrics = ['precision_weighted', 'recall_weighted']\n",
    "\n",
    "for metric in metrics:\n",
    "    print(\"##### Searching optimal parameters for\", metric)\n",
    "\n",
    "    classifier = GridSearchCV(ExtraTreesClassifier(random_state=0),\n",
    "                              parameter_grid, cv=5, scoring=metric)\n",
    "    classifier.fit(X_train, y_train)\n",
    "\n",
    "#     print(\"\\nGrid scores for the parameter grid:\")\n",
    "#     for params, avg_score in classifier.cv_results_.items():\n",
    "#         print(params, '-->', avg_score)\n",
    "\n",
    "    print(\"Best parameters:\", classifier.best_params_)\n",
    "    y_pred = classifier.predict(X_test)\n",
    "    print(\"Performance report:\\n\")\n",
    "    print(classification_report(y_test, y_pred))"
   ]
  }
 ],
 "metadata": {
  "kernelspec": {
   "display_name": "data-science-k2Ak_Bao",
   "language": "python",
   "name": "python3"
  },
  "language_info": {
   "codemirror_mode": {
    "name": "ipython",
    "version": 3
   },
   "file_extension": ".py",
   "mimetype": "text/x-python",
   "name": "python",
   "nbconvert_exporter": "python",
   "pygments_lexer": "ipython3",
   "version": "3.11.4"
  },
  "orig_nbformat": 4
 },
 "nbformat": 4,
 "nbformat_minor": 2
}
