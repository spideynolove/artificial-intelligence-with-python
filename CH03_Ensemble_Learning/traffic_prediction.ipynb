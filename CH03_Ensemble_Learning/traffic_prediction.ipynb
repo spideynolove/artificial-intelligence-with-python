{
 "cells": [
  {
   "cell_type": "code",
   "execution_count": 35,
   "metadata": {},
   "outputs": [],
   "source": [
    "from sklearn import preprocessing\n",
    "from sklearn.metrics import mean_absolute_error, classification_report\n",
    "from sklearn.model_selection import train_test_split\n",
    "from sklearn.ensemble import ExtraTreesRegressor"
   ]
  },
  {
   "cell_type": "code",
   "execution_count": 36,
   "metadata": {},
   "outputs": [],
   "source": [
    "import numpy as np\n",
    "import matplotlib.pyplot as plt\n",
    "\n",
    "\n",
    "def visualize_classifier(classifier, X, y, title=''):\n",
    "    # Define the minimum and maximum values for X and Y\n",
    "    # that will be used in the mesh grid\n",
    "    min_x, max_x = X[:, 0].min() - 1.0, X[:, 0].max() + 1.0\n",
    "    min_y, max_y = X[:, 1].min() - 1.0, X[:, 1].max() + 1.0\n",
    "\n",
    "    # Define the step size to use in plotting the mesh grid \n",
    "    mesh_step_size = 0.01\n",
    "\n",
    "    # Define the mesh grid of X and Y values\n",
    "    x_vals, y_vals = np.meshgrid(np.arange(min_x, max_x, mesh_step_size), np.arange(min_y, max_y, mesh_step_size))\n",
    "\n",
    "    # Run the classifier on the mesh grid\n",
    "    output = classifier.predict(np.c_[x_vals.ravel(), y_vals.ravel()])\n",
    "\n",
    "    # Reshape the output array\n",
    "    output = output.reshape(x_vals.shape)\n",
    "\n",
    "    # Create a plot\n",
    "    plt.figure()\n",
    "\n",
    "    # Specify the title\n",
    "    plt.title(title)\n",
    "\n",
    "    # Choose a color scheme for the plot \n",
    "    plt.pcolormesh(x_vals, y_vals, output, cmap=plt.cm.gray)\n",
    "\n",
    "    # Overlay the training points on the plot \n",
    "    plt.scatter(X[:, 0], X[:, 1], c=y, s=75, edgecolors='black', linewidth=1, cmap=plt.cm.Paired)\n",
    "\n",
    "    # Specify the boundaries of the plot\n",
    "    plt.xlim(x_vals.min(), x_vals.max())\n",
    "    plt.ylim(y_vals.min(), y_vals.max())\n",
    "\n",
    "    # Specify the ticks on the X and Y axes\n",
    "    plt.xticks((np.arange(int(X[:, 0].min() - 1), int(X[:, 0].max() + 1), 1.0)))\n",
    "    plt.yticks((np.arange(int(X[:, 1].min() - 1), int(X[:, 1].max() + 1), 1.0)))\n",
    "\n",
    "    plt.show()"
   ]
  },
  {
   "cell_type": "code",
   "execution_count": 37,
   "metadata": {},
   "outputs": [
    {
     "data": {
      "text/plain": [
       "(17568, 5)"
      ]
     },
     "execution_count": 37,
     "metadata": {},
     "output_type": "execute_result"
    }
   ],
   "source": [
    "# Load input data\n",
    "input_file = '../aiwp-data/traffic_data.txt'\n",
    "data = []\n",
    "with open(input_file, 'r') as f:\n",
    "    for line in f.readlines():\n",
    "        items = line[:-1].split(',')\n",
    "        data.append(items)\n",
    "\n",
    "data = np.array(data)\n",
    "data.shape"
   ]
  },
  {
   "cell_type": "code",
   "execution_count": 38,
   "metadata": {},
   "outputs": [
    {
     "data": {
      "text/plain": [
       "(17568, 4)"
      ]
     },
     "execution_count": 38,
     "metadata": {},
     "output_type": "execute_result"
    }
   ],
   "source": [
    "\n",
    "# Convert string data to numerical data\n",
    "label_encoder = [] \n",
    "X_encoded = np.empty(data.shape)\n",
    "for i, item in enumerate(data[0]):\n",
    "    if item.isdigit():\n",
    "        X_encoded[:, i] = data[:, i]\n",
    "    else:\n",
    "        label_encoder.append(preprocessing.LabelEncoder())\n",
    "        X_encoded[:, i] = label_encoder[-1].fit_transform(data[:, i])\n",
    "\n",
    "X = X_encoded[:, :-1].astype(int)\n",
    "y = X_encoded[:, -1].astype(int)\n",
    "X.shape"
   ]
  },
  {
   "cell_type": "code",
   "execution_count": 39,
   "metadata": {},
   "outputs": [
    {
     "data": {
      "text/plain": [
       "(17568,)"
      ]
     },
     "execution_count": 39,
     "metadata": {},
     "output_type": "execute_result"
    }
   ],
   "source": [
    "y.shape"
   ]
  },
  {
   "cell_type": "code",
   "execution_count": 40,
   "metadata": {},
   "outputs": [],
   "source": [
    "# Split data into training and testing datasets \n",
    "X_train, X_test, y_train, y_test = train_test_split(X, y, test_size=0.25, random_state=5)"
   ]
  },
  {
   "cell_type": "code",
   "execution_count": 41,
   "metadata": {},
   "outputs": [
    {
     "data": {
      "text/html": [
       "<style>#sk-container-id-4 {color: black;}#sk-container-id-4 pre{padding: 0;}#sk-container-id-4 div.sk-toggleable {background-color: white;}#sk-container-id-4 label.sk-toggleable__label {cursor: pointer;display: block;width: 100%;margin-bottom: 0;padding: 0.3em;box-sizing: border-box;text-align: center;}#sk-container-id-4 label.sk-toggleable__label-arrow:before {content: \"▸\";float: left;margin-right: 0.25em;color: #696969;}#sk-container-id-4 label.sk-toggleable__label-arrow:hover:before {color: black;}#sk-container-id-4 div.sk-estimator:hover label.sk-toggleable__label-arrow:before {color: black;}#sk-container-id-4 div.sk-toggleable__content {max-height: 0;max-width: 0;overflow: hidden;text-align: left;background-color: #f0f8ff;}#sk-container-id-4 div.sk-toggleable__content pre {margin: 0.2em;color: black;border-radius: 0.25em;background-color: #f0f8ff;}#sk-container-id-4 input.sk-toggleable__control:checked~div.sk-toggleable__content {max-height: 200px;max-width: 100%;overflow: auto;}#sk-container-id-4 input.sk-toggleable__control:checked~label.sk-toggleable__label-arrow:before {content: \"▾\";}#sk-container-id-4 div.sk-estimator input.sk-toggleable__control:checked~label.sk-toggleable__label {background-color: #d4ebff;}#sk-container-id-4 div.sk-label input.sk-toggleable__control:checked~label.sk-toggleable__label {background-color: #d4ebff;}#sk-container-id-4 input.sk-hidden--visually {border: 0;clip: rect(1px 1px 1px 1px);clip: rect(1px, 1px, 1px, 1px);height: 1px;margin: -1px;overflow: hidden;padding: 0;position: absolute;width: 1px;}#sk-container-id-4 div.sk-estimator {font-family: monospace;background-color: #f0f8ff;border: 1px dotted black;border-radius: 0.25em;box-sizing: border-box;margin-bottom: 0.5em;}#sk-container-id-4 div.sk-estimator:hover {background-color: #d4ebff;}#sk-container-id-4 div.sk-parallel-item::after {content: \"\";width: 100%;border-bottom: 1px solid gray;flex-grow: 1;}#sk-container-id-4 div.sk-label:hover label.sk-toggleable__label {background-color: #d4ebff;}#sk-container-id-4 div.sk-serial::before {content: \"\";position: absolute;border-left: 1px solid gray;box-sizing: border-box;top: 0;bottom: 0;left: 50%;z-index: 0;}#sk-container-id-4 div.sk-serial {display: flex;flex-direction: column;align-items: center;background-color: white;padding-right: 0.2em;padding-left: 0.2em;position: relative;}#sk-container-id-4 div.sk-item {position: relative;z-index: 1;}#sk-container-id-4 div.sk-parallel {display: flex;align-items: stretch;justify-content: center;background-color: white;position: relative;}#sk-container-id-4 div.sk-item::before, #sk-container-id-4 div.sk-parallel-item::before {content: \"\";position: absolute;border-left: 1px solid gray;box-sizing: border-box;top: 0;bottom: 0;left: 50%;z-index: -1;}#sk-container-id-4 div.sk-parallel-item {display: flex;flex-direction: column;z-index: 1;position: relative;background-color: white;}#sk-container-id-4 div.sk-parallel-item:first-child::after {align-self: flex-end;width: 50%;}#sk-container-id-4 div.sk-parallel-item:last-child::after {align-self: flex-start;width: 50%;}#sk-container-id-4 div.sk-parallel-item:only-child::after {width: 0;}#sk-container-id-4 div.sk-dashed-wrapped {border: 1px dashed gray;margin: 0 0.4em 0.5em 0.4em;box-sizing: border-box;padding-bottom: 0.4em;background-color: white;}#sk-container-id-4 div.sk-label label {font-family: monospace;font-weight: bold;display: inline-block;line-height: 1.2em;}#sk-container-id-4 div.sk-label-container {text-align: center;}#sk-container-id-4 div.sk-container {/* jupyter's `normalize.less` sets `[hidden] { display: none; }` but bootstrap.min.css set `[hidden] { display: none !important; }` so we also need the `!important` here to be able to override the default hidden behavior on the sphinx rendered scikit-learn.org. See: https://github.com/scikit-learn/scikit-learn/issues/21755 */display: inline-block !important;position: relative;}#sk-container-id-4 div.sk-text-repr-fallback {display: none;}</style><div id=\"sk-container-id-4\" class=\"sk-top-container\"><div class=\"sk-text-repr-fallback\"><pre>ExtraTreesRegressor(max_depth=4, random_state=0)</pre><b>In a Jupyter environment, please rerun this cell to show the HTML representation or trust the notebook. <br />On GitHub, the HTML representation is unable to render, please try loading this page with nbviewer.org.</b></div><div class=\"sk-container\" hidden><div class=\"sk-item\"><div class=\"sk-estimator sk-toggleable\"><input class=\"sk-toggleable__control sk-hidden--visually\" id=\"sk-estimator-id-4\" type=\"checkbox\" checked><label for=\"sk-estimator-id-4\" class=\"sk-toggleable__label sk-toggleable__label-arrow\">ExtraTreesRegressor</label><div class=\"sk-toggleable__content\"><pre>ExtraTreesRegressor(max_depth=4, random_state=0)</pre></div></div></div></div></div>"
      ],
      "text/plain": [
       "ExtraTreesRegressor(max_depth=4, random_state=0)"
      ]
     },
     "execution_count": 41,
     "metadata": {},
     "output_type": "execute_result"
    }
   ],
   "source": [
    "# Extremely Random Forests regressor\n",
    "params = {'n_estimators': 100, 'max_depth': 4, 'random_state': 0}\n",
    "regressor = ExtraTreesRegressor(**params)\n",
    "regressor.fit(X_train, y_train)"
   ]
  },
  {
   "cell_type": "code",
   "execution_count": 42,
   "metadata": {},
   "outputs": [
    {
     "name": "stdout",
     "output_type": "stream",
     "text": [
      "Mean absolute error: 7.42\n"
     ]
    }
   ],
   "source": [
    "# Compute the regressor performance on test data\n",
    "y_pred = regressor.predict(X_test)\n",
    "print(\"Mean absolute error:\", round(mean_absolute_error(y_test, y_pred), 2))"
   ]
  },
  {
   "cell_type": "code",
   "execution_count": 43,
   "metadata": {},
   "outputs": [
    {
     "name": "stdout",
     "output_type": "stream",
     "text": [
      "Encoded data:  [2, 124, 1, 0]\n",
      "Numpy encoded data:  [  2 124   1   0]\n",
      "Predicted traffic: 26\n"
     ]
    }
   ],
   "source": [
    "# Testing encoding on single data instance\n",
    "test_datapoint = ['Saturday', '10:20', 'Atlanta', 'no']\n",
    "test_datapoint_encoded = [-1] * len(test_datapoint)\n",
    "count = 0\n",
    "for i, item in enumerate(test_datapoint):\n",
    "    if item.isdigit():\n",
    "        test_datapoint_encoded[i] = int(test_datapoint[i])\n",
    "    else:\n",
    "        # test_datapoint_encoded[i] = int(label_encoder[count].transform(test_datapoint[i]))\n",
    "        test_datapoint = np.reshape(test_datapoint, (-1, 1))\n",
    "        test_datapoint_encoded[i] = int(label_encoder[count].transform(test_datapoint[i]))\n",
    "        count = count + 1 \n",
    "\n",
    "print(\"Encoded data: \", test_datapoint_encoded)\n",
    "test_datapoint_encoded = np.array(test_datapoint_encoded)\n",
    "print(\"Numpy encoded data: \", test_datapoint_encoded)\n",
    "\n",
    "# Predict the output for the test datapoint\n",
    "print(\"Predicted traffic:\", int(regressor.predict([test_datapoint_encoded])[0]))\n"
   ]
  }
 ],
 "metadata": {
  "kernelspec": {
   "display_name": "data-science-k2Ak_Bao",
   "language": "python",
   "name": "python3"
  },
  "language_info": {
   "codemirror_mode": {
    "name": "ipython",
    "version": 3
   },
   "file_extension": ".py",
   "mimetype": "text/x-python",
   "name": "python",
   "nbconvert_exporter": "python",
   "pygments_lexer": "ipython3",
   "version": "3.11.4"
  },
  "orig_nbformat": 4
 },
 "nbformat": 4,
 "nbformat_minor": 2
}
